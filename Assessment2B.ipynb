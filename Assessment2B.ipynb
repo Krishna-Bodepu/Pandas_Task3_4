{
 "cells": [
  {
   "cell_type": "markdown",
   "metadata": {},
   "source": [
    "###### Assessment"
   ]
  },
  {
   "cell_type": "markdown",
   "metadata": {},
   "source": [
    "###### I am going to provide two .csv files , you are supposed to work on them and have to provide solutions to the following problems"
   ]
  },
  {
   "cell_type": "markdown",
   "metadata": {},
   "source": [
    "###### import necessary libraries"
   ]
  },
  {
   "cell_type": "code",
   "execution_count": 1,
   "metadata": {},
   "outputs": [],
   "source": [
    "import pandas as pd\n",
    "import numpy as np"
   ]
  },
  {
   "cell_type": "code",
   "execution_count": 2,
   "metadata": {},
   "outputs": [
    {
     "data": {
      "text/html": [
       "<div>\n",
       "<style scoped>\n",
       "    .dataframe tbody tr th:only-of-type {\n",
       "        vertical-align: middle;\n",
       "    }\n",
       "\n",
       "    .dataframe tbody tr th {\n",
       "        vertical-align: top;\n",
       "    }\n",
       "\n",
       "    .dataframe thead th {\n",
       "        text-align: right;\n",
       "    }\n",
       "</style>\n",
       "<table border=\"1\" class=\"dataframe\">\n",
       "  <thead>\n",
       "    <tr style=\"text-align: right;\">\n",
       "      <th></th>\n",
       "      <th>Name</th>\n",
       "      <th>python</th>\n",
       "      <th>mysql</th>\n",
       "      <th>Previous Geekions</th>\n",
       "      <th>CodeKata Score</th>\n",
       "      <th>Department</th>\n",
       "      <th>Rising</th>\n",
       "    </tr>\n",
       "  </thead>\n",
       "  <tbody>\n",
       "    <tr>\n",
       "      <th>0</th>\n",
       "      <td>A.Dharani</td>\n",
       "      <td>82.0</td>\n",
       "      <td>20.0</td>\n",
       "      <td>24500</td>\n",
       "      <td>24500</td>\n",
       "      <td>Computer Science and Engineering</td>\n",
       "      <td>0</td>\n",
       "    </tr>\n",
       "    <tr>\n",
       "      <th>1</th>\n",
       "      <td>V.JEEVITHA</td>\n",
       "      <td>82.0</td>\n",
       "      <td>20.0</td>\n",
       "      <td>21740</td>\n",
       "      <td>21740</td>\n",
       "      <td>Computer Science and Engineering</td>\n",
       "      <td>0</td>\n",
       "    </tr>\n",
       "    <tr>\n",
       "      <th>2</th>\n",
       "      <td>HEMAVATHI.R</td>\n",
       "      <td>100.0</td>\n",
       "      <td>100.0</td>\n",
       "      <td>19680</td>\n",
       "      <td>19680</td>\n",
       "      <td>Computer Science and Engineering</td>\n",
       "      <td>0</td>\n",
       "    </tr>\n",
       "    <tr>\n",
       "      <th>3</th>\n",
       "      <td>Mugunthan S</td>\n",
       "      <td>100.0</td>\n",
       "      <td>47.0</td>\n",
       "      <td>10610</td>\n",
       "      <td>10610</td>\n",
       "      <td>Computer Science and Engineering</td>\n",
       "      <td>0</td>\n",
       "    </tr>\n",
       "    <tr>\n",
       "      <th>4</th>\n",
       "      <td>Sathammai.S</td>\n",
       "      <td>100.0</td>\n",
       "      <td>8.0</td>\n",
       "      <td>8980</td>\n",
       "      <td>8980</td>\n",
       "      <td>Computer Science and Engineering</td>\n",
       "      <td>0</td>\n",
       "    </tr>\n",
       "  </tbody>\n",
       "</table>\n",
       "</div>"
      ],
      "text/plain": [
       "          Name  python  mysql  Previous Geekions  CodeKata Score  \\\n",
       "0    A.Dharani    82.0   20.0              24500           24500   \n",
       "1  V.JEEVITHA     82.0   20.0              21740           21740   \n",
       "2  HEMAVATHI.R   100.0  100.0              19680           19680   \n",
       "3  Mugunthan S   100.0   47.0              10610           10610   \n",
       "4  Sathammai.S   100.0    8.0               8980            8980   \n",
       "\n",
       "                         Department  Rising  \n",
       "0  Computer Science and Engineering       0  \n",
       "1  Computer Science and Engineering       0  \n",
       "2  Computer Science and Engineering       0  \n",
       "3  Computer Science and Engineering       0  \n",
       "4  Computer Science and Engineering       0  "
      ]
     },
     "execution_count": 2,
     "metadata": {},
     "output_type": "execute_result"
    }
   ],
   "source": [
    "df1 = pd.read_csv('college_1.csv')\n",
    "df1.head()"
   ]
  },
  {
   "cell_type": "code",
   "execution_count": 3,
   "metadata": {},
   "outputs": [
    {
     "data": {
      "text/html": [
       "<div>\n",
       "<style scoped>\n",
       "    .dataframe tbody tr th:only-of-type {\n",
       "        vertical-align: middle;\n",
       "    }\n",
       "\n",
       "    .dataframe tbody tr th {\n",
       "        vertical-align: top;\n",
       "    }\n",
       "\n",
       "    .dataframe thead th {\n",
       "        text-align: right;\n",
       "    }\n",
       "</style>\n",
       "<table border=\"1\" class=\"dataframe\">\n",
       "  <thead>\n",
       "    <tr style=\"text-align: right;\">\n",
       "      <th></th>\n",
       "      <th>Name</th>\n",
       "      <th>python</th>\n",
       "      <th>python_en</th>\n",
       "      <th>mysql</th>\n",
       "      <th>computational_thinking</th>\n",
       "      <th>Previous Geekions</th>\n",
       "      <th>CodeKata Score</th>\n",
       "      <th>Department</th>\n",
       "      <th>Rising</th>\n",
       "    </tr>\n",
       "  </thead>\n",
       "  <tbody>\n",
       "    <tr>\n",
       "      <th>0</th>\n",
       "      <td>ASHOK KUMAR K</td>\n",
       "      <td>100</td>\n",
       "      <td>0</td>\n",
       "      <td>31</td>\n",
       "      <td>9</td>\n",
       "      <td>19400</td>\n",
       "      <td>19400</td>\n",
       "      <td>Electronics and Electrical Engineering</td>\n",
       "      <td>0</td>\n",
       "    </tr>\n",
       "    <tr>\n",
       "      <th>1</th>\n",
       "      <td>Chandru</td>\n",
       "      <td>0</td>\n",
       "      <td>20</td>\n",
       "      <td>0</td>\n",
       "      <td>0</td>\n",
       "      <td>14150</td>\n",
       "      <td>14490</td>\n",
       "      <td>Computer Science and Engineering</td>\n",
       "      <td>340</td>\n",
       "    </tr>\n",
       "    <tr>\n",
       "      <th>2</th>\n",
       "      <td>Ganesh Ramkumar R</td>\n",
       "      <td>-1</td>\n",
       "      <td>55</td>\n",
       "      <td>24</td>\n",
       "      <td>6</td>\n",
       "      <td>8790</td>\n",
       "      <td>10790</td>\n",
       "      <td>Computer Science and Engineering</td>\n",
       "      <td>2000</td>\n",
       "    </tr>\n",
       "    <tr>\n",
       "      <th>3</th>\n",
       "      <td>Bodipudi Harini</td>\n",
       "      <td>-1</td>\n",
       "      <td>0</td>\n",
       "      <td>35</td>\n",
       "      <td>-1</td>\n",
       "      <td>10040</td>\n",
       "      <td>10040</td>\n",
       "      <td>Electronics and Communication Engineering</td>\n",
       "      <td>0</td>\n",
       "    </tr>\n",
       "    <tr>\n",
       "      <th>4</th>\n",
       "      <td>VIINU V P</td>\n",
       "      <td>-1</td>\n",
       "      <td>100</td>\n",
       "      <td>24</td>\n",
       "      <td>-1</td>\n",
       "      <td>9150</td>\n",
       "      <td>9150</td>\n",
       "      <td>Electronics and Electrical Engineering</td>\n",
       "      <td>0</td>\n",
       "    </tr>\n",
       "  </tbody>\n",
       "</table>\n",
       "</div>"
      ],
      "text/plain": [
       "                Name  python  python_en  mysql  computational_thinking  \\\n",
       "0      ASHOK KUMAR K     100          0     31                       9   \n",
       "1            Chandru       0         20      0                       0   \n",
       "2  Ganesh Ramkumar R      -1         55     24                       6   \n",
       "3    Bodipudi Harini      -1          0     35                      -1   \n",
       "4          VIINU V P      -1        100     24                      -1   \n",
       "\n",
       "   Previous Geekions  CodeKata Score  \\\n",
       "0              19400           19400   \n",
       "1              14150           14490   \n",
       "2               8790           10790   \n",
       "3              10040           10040   \n",
       "4               9150            9150   \n",
       "\n",
       "                                  Department  Rising  \n",
       "0     Electronics and Electrical Engineering       0  \n",
       "1           Computer Science and Engineering     340  \n",
       "2           Computer Science and Engineering    2000  \n",
       "3  Electronics and Communication Engineering       0  \n",
       "4     Electronics and Electrical Engineering       0  "
      ]
     },
     "execution_count": 3,
     "metadata": {},
     "output_type": "execute_result"
    }
   ],
   "source": [
    "df2 = pd.read_csv('college_2.csv')\n",
    "df2.head()"
   ]
  },
  {
   "cell_type": "markdown",
   "metadata": {},
   "source": [
    "###### merge those two csv files (after getting as dataframes, get them as a single dataframe)"
   ]
  },
  {
   "cell_type": "code",
   "execution_count": 4,
   "metadata": {},
   "outputs": [
    {
     "data": {
      "text/html": [
       "<div>\n",
       "<style scoped>\n",
       "    .dataframe tbody tr th:only-of-type {\n",
       "        vertical-align: middle;\n",
       "    }\n",
       "\n",
       "    .dataframe tbody tr th {\n",
       "        vertical-align: top;\n",
       "    }\n",
       "\n",
       "    .dataframe thead th {\n",
       "        text-align: right;\n",
       "    }\n",
       "</style>\n",
       "<table border=\"1\" class=\"dataframe\">\n",
       "  <thead>\n",
       "    <tr style=\"text-align: right;\">\n",
       "      <th></th>\n",
       "      <th>Name</th>\n",
       "      <th>python</th>\n",
       "      <th>mysql</th>\n",
       "      <th>Previous Geekions</th>\n",
       "      <th>CodeKata Score</th>\n",
       "      <th>Department</th>\n",
       "      <th>Rising</th>\n",
       "      <th>python_en</th>\n",
       "      <th>computational_thinking</th>\n",
       "    </tr>\n",
       "  </thead>\n",
       "  <tbody>\n",
       "    <tr>\n",
       "      <th>0</th>\n",
       "      <td>A.Dharani</td>\n",
       "      <td>82.0</td>\n",
       "      <td>20.0</td>\n",
       "      <td>24500</td>\n",
       "      <td>24500</td>\n",
       "      <td>Computer Science and Engineering</td>\n",
       "      <td>0</td>\n",
       "      <td>NaN</td>\n",
       "      <td>NaN</td>\n",
       "    </tr>\n",
       "    <tr>\n",
       "      <th>1</th>\n",
       "      <td>V.JEEVITHA</td>\n",
       "      <td>82.0</td>\n",
       "      <td>20.0</td>\n",
       "      <td>21740</td>\n",
       "      <td>21740</td>\n",
       "      <td>Computer Science and Engineering</td>\n",
       "      <td>0</td>\n",
       "      <td>NaN</td>\n",
       "      <td>NaN</td>\n",
       "    </tr>\n",
       "    <tr>\n",
       "      <th>2</th>\n",
       "      <td>HEMAVATHI.R</td>\n",
       "      <td>100.0</td>\n",
       "      <td>100.0</td>\n",
       "      <td>19680</td>\n",
       "      <td>19680</td>\n",
       "      <td>Computer Science and Engineering</td>\n",
       "      <td>0</td>\n",
       "      <td>NaN</td>\n",
       "      <td>NaN</td>\n",
       "    </tr>\n",
       "    <tr>\n",
       "      <th>3</th>\n",
       "      <td>Mugunthan S</td>\n",
       "      <td>100.0</td>\n",
       "      <td>47.0</td>\n",
       "      <td>10610</td>\n",
       "      <td>10610</td>\n",
       "      <td>Computer Science and Engineering</td>\n",
       "      <td>0</td>\n",
       "      <td>NaN</td>\n",
       "      <td>NaN</td>\n",
       "    </tr>\n",
       "    <tr>\n",
       "      <th>4</th>\n",
       "      <td>Sathammai.S</td>\n",
       "      <td>100.0</td>\n",
       "      <td>8.0</td>\n",
       "      <td>8980</td>\n",
       "      <td>8980</td>\n",
       "      <td>Computer Science and Engineering</td>\n",
       "      <td>0</td>\n",
       "      <td>NaN</td>\n",
       "      <td>NaN</td>\n",
       "    </tr>\n",
       "    <tr>\n",
       "      <th>...</th>\n",
       "      <td>...</td>\n",
       "      <td>...</td>\n",
       "      <td>...</td>\n",
       "      <td>...</td>\n",
       "      <td>...</td>\n",
       "      <td>...</td>\n",
       "      <td>...</td>\n",
       "      <td>...</td>\n",
       "      <td>...</td>\n",
       "    </tr>\n",
       "    <tr>\n",
       "      <th>114</th>\n",
       "      <td>praveen raj j</td>\n",
       "      <td>24.0</td>\n",
       "      <td>0.0</td>\n",
       "      <td>2380</td>\n",
       "      <td>2380</td>\n",
       "      <td>Computer Science and Engineering</td>\n",
       "      <td>0</td>\n",
       "      <td>-1.0</td>\n",
       "      <td>0.0</td>\n",
       "    </tr>\n",
       "    <tr>\n",
       "      <th>115</th>\n",
       "      <td>AMARNATH D</td>\n",
       "      <td>-1.0</td>\n",
       "      <td>12.0</td>\n",
       "      <td>1890</td>\n",
       "      <td>1890</td>\n",
       "      <td>Electronics and Communication Engineering</td>\n",
       "      <td>0</td>\n",
       "      <td>52.0</td>\n",
       "      <td>-1.0</td>\n",
       "    </tr>\n",
       "    <tr>\n",
       "      <th>116</th>\n",
       "      <td>bala</td>\n",
       "      <td>32.0</td>\n",
       "      <td>0.0</td>\n",
       "      <td>1720</td>\n",
       "      <td>1720</td>\n",
       "      <td>Electronics and Communication Engineering</td>\n",
       "      <td>0</td>\n",
       "      <td>49.0</td>\n",
       "      <td>-1.0</td>\n",
       "    </tr>\n",
       "    <tr>\n",
       "      <th>117</th>\n",
       "      <td>XY Z</td>\n",
       "      <td>-1.0</td>\n",
       "      <td>-1.0</td>\n",
       "      <td>0</td>\n",
       "      <td>0</td>\n",
       "      <td>Computer Science and Engineering</td>\n",
       "      <td>0</td>\n",
       "      <td>20.0</td>\n",
       "      <td>-1.0</td>\n",
       "    </tr>\n",
       "    <tr>\n",
       "      <th>118</th>\n",
       "      <td>Hariharan</td>\n",
       "      <td>-1.0</td>\n",
       "      <td>-1.0</td>\n",
       "      <td>0</td>\n",
       "      <td>0</td>\n",
       "      <td>Computer Science and Engineering</td>\n",
       "      <td>0</td>\n",
       "      <td>-1.0</td>\n",
       "      <td>0.0</td>\n",
       "    </tr>\n",
       "  </tbody>\n",
       "</table>\n",
       "<p>119 rows × 9 columns</p>\n",
       "</div>"
      ],
      "text/plain": [
       "              Name  python  mysql  Previous Geekions  CodeKata Score  \\\n",
       "0        A.Dharani    82.0   20.0              24500           24500   \n",
       "1      V.JEEVITHA     82.0   20.0              21740           21740   \n",
       "2      HEMAVATHI.R   100.0  100.0              19680           19680   \n",
       "3      Mugunthan S   100.0   47.0              10610           10610   \n",
       "4      Sathammai.S   100.0    8.0               8980            8980   \n",
       "..             ...     ...    ...                ...             ...   \n",
       "114  praveen raj j    24.0    0.0               2380            2380   \n",
       "115     AMARNATH D    -1.0   12.0               1890            1890   \n",
       "116           bala    32.0    0.0               1720            1720   \n",
       "117           XY Z    -1.0   -1.0                  0               0   \n",
       "118      Hariharan    -1.0   -1.0                  0               0   \n",
       "\n",
       "                                    Department  Rising  python_en  \\\n",
       "0             Computer Science and Engineering       0        NaN   \n",
       "1             Computer Science and Engineering       0        NaN   \n",
       "2             Computer Science and Engineering       0        NaN   \n",
       "3             Computer Science and Engineering       0        NaN   \n",
       "4             Computer Science and Engineering       0        NaN   \n",
       "..                                         ...     ...        ...   \n",
       "114           Computer Science and Engineering       0       -1.0   \n",
       "115  Electronics and Communication Engineering       0       52.0   \n",
       "116  Electronics and Communication Engineering       0       49.0   \n",
       "117           Computer Science and Engineering       0       20.0   \n",
       "118           Computer Science and Engineering       0       -1.0   \n",
       "\n",
       "     computational_thinking  \n",
       "0                       NaN  \n",
       "1                       NaN  \n",
       "2                       NaN  \n",
       "3                       NaN  \n",
       "4                       NaN  \n",
       "..                      ...  \n",
       "114                     0.0  \n",
       "115                    -1.0  \n",
       "116                    -1.0  \n",
       "117                    -1.0  \n",
       "118                     0.0  \n",
       "\n",
       "[119 rows x 9 columns]"
      ]
     },
     "execution_count": 4,
     "metadata": {},
     "output_type": "execute_result"
    }
   ],
   "source": [
    "df = pd.concat([df1,df2],ignore_index = True)\n",
    "df"
   ]
  },
  {
   "cell_type": "markdown",
   "metadata": {},
   "source": [
    "###### Take each csv file , split that csv file into multiple categories (example csv files are added in the repo) \n"
   ]
  },
  {
   "cell_type": "markdown",
   "metadata": {},
   "source": [
    "###### consider if the codekata score exceeds 15000 points(present week) then make a csv on those observations as Exceeded expectations.csv\n"
   ]
  },
  {
   "cell_type": "markdown",
   "metadata": {},
   "source": [
    "###### if  10000<codekata score<15000   (Reached_expectations.csv)\n",
    "\n"
   ]
  },
  {
   "cell_type": "markdown",
   "metadata": {},
   "source": [
    "###### if  7000<codekata score<10000   (Needs_Improvement.csv)\n"
   ]
  },
  {
   "cell_type": "markdown",
   "metadata": {},
   "source": [
    "###### if  codekate score < 7000        (Unsatisfactory.csv)"
   ]
  },
  {
   "cell_type": "code",
   "execution_count": 5,
   "metadata": {},
   "outputs": [
    {
     "data": {
      "text/html": [
       "<div>\n",
       "<style scoped>\n",
       "    .dataframe tbody tr th:only-of-type {\n",
       "        vertical-align: middle;\n",
       "    }\n",
       "\n",
       "    .dataframe tbody tr th {\n",
       "        vertical-align: top;\n",
       "    }\n",
       "\n",
       "    .dataframe thead th {\n",
       "        text-align: right;\n",
       "    }\n",
       "</style>\n",
       "<table border=\"1\" class=\"dataframe\">\n",
       "  <thead>\n",
       "    <tr style=\"text-align: right;\">\n",
       "      <th></th>\n",
       "      <th>Name</th>\n",
       "      <th>python</th>\n",
       "      <th>mysql</th>\n",
       "      <th>Previous Geekions</th>\n",
       "      <th>CodeKata Score</th>\n",
       "      <th>Department</th>\n",
       "      <th>Rising</th>\n",
       "      <th>python_en</th>\n",
       "      <th>computational_thinking</th>\n",
       "    </tr>\n",
       "  </thead>\n",
       "  <tbody>\n",
       "    <tr>\n",
       "      <th>0</th>\n",
       "      <td>A.Dharani</td>\n",
       "      <td>82.0</td>\n",
       "      <td>20.0</td>\n",
       "      <td>24500</td>\n",
       "      <td>24500</td>\n",
       "      <td>Computer Science and Engineering</td>\n",
       "      <td>0</td>\n",
       "      <td>NaN</td>\n",
       "      <td>NaN</td>\n",
       "    </tr>\n",
       "    <tr>\n",
       "      <th>1</th>\n",
       "      <td>V.JEEVITHA</td>\n",
       "      <td>82.0</td>\n",
       "      <td>20.0</td>\n",
       "      <td>21740</td>\n",
       "      <td>21740</td>\n",
       "      <td>Computer Science and Engineering</td>\n",
       "      <td>0</td>\n",
       "      <td>NaN</td>\n",
       "      <td>NaN</td>\n",
       "    </tr>\n",
       "    <tr>\n",
       "      <th>2</th>\n",
       "      <td>HEMAVATHI.R</td>\n",
       "      <td>100.0</td>\n",
       "      <td>100.0</td>\n",
       "      <td>19680</td>\n",
       "      <td>19680</td>\n",
       "      <td>Computer Science and Engineering</td>\n",
       "      <td>0</td>\n",
       "      <td>NaN</td>\n",
       "      <td>NaN</td>\n",
       "    </tr>\n",
       "    <tr>\n",
       "      <th>84</th>\n",
       "      <td>ASHOK KUMAR K</td>\n",
       "      <td>100.0</td>\n",
       "      <td>31.0</td>\n",
       "      <td>19400</td>\n",
       "      <td>19400</td>\n",
       "      <td>Electronics and Electrical Engineering</td>\n",
       "      <td>0</td>\n",
       "      <td>0.0</td>\n",
       "      <td>9.0</td>\n",
       "    </tr>\n",
       "  </tbody>\n",
       "</table>\n",
       "</div>"
      ],
      "text/plain": [
       "             Name  python  mysql  Previous Geekions  CodeKata Score  \\\n",
       "0       A.Dharani    82.0   20.0              24500           24500   \n",
       "1     V.JEEVITHA     82.0   20.0              21740           21740   \n",
       "2     HEMAVATHI.R   100.0  100.0              19680           19680   \n",
       "84  ASHOK KUMAR K   100.0   31.0              19400           19400   \n",
       "\n",
       "                                Department  Rising  python_en  \\\n",
       "0         Computer Science and Engineering       0        NaN   \n",
       "1         Computer Science and Engineering       0        NaN   \n",
       "2         Computer Science and Engineering       0        NaN   \n",
       "84  Electronics and Electrical Engineering       0        0.0   \n",
       "\n",
       "    computational_thinking  \n",
       "0                      NaN  \n",
       "1                      NaN  \n",
       "2                      NaN  \n",
       "84                     9.0  "
      ]
     },
     "execution_count": 5,
     "metadata": {},
     "output_type": "execute_result"
    }
   ],
   "source": [
    "df2 = df[df['CodeKata Score']>15000]\n",
    "df2"
   ]
  },
  {
   "cell_type": "code",
   "execution_count": 14,
   "metadata": {},
   "outputs": [],
   "source": [
    "df2.to_csv('Exceeded expectations.csv')"
   ]
  },
  {
   "cell_type": "code",
   "execution_count": 6,
   "metadata": {},
   "outputs": [
    {
     "data": {
      "text/html": [
       "<div>\n",
       "<style scoped>\n",
       "    .dataframe tbody tr th:only-of-type {\n",
       "        vertical-align: middle;\n",
       "    }\n",
       "\n",
       "    .dataframe tbody tr th {\n",
       "        vertical-align: top;\n",
       "    }\n",
       "\n",
       "    .dataframe thead th {\n",
       "        text-align: right;\n",
       "    }\n",
       "</style>\n",
       "<table border=\"1\" class=\"dataframe\">\n",
       "  <thead>\n",
       "    <tr style=\"text-align: right;\">\n",
       "      <th></th>\n",
       "      <th>Name</th>\n",
       "      <th>python</th>\n",
       "      <th>mysql</th>\n",
       "      <th>Previous Geekions</th>\n",
       "      <th>CodeKata Score</th>\n",
       "      <th>Department</th>\n",
       "      <th>Rising</th>\n",
       "      <th>python_en</th>\n",
       "      <th>computational_thinking</th>\n",
       "    </tr>\n",
       "  </thead>\n",
       "  <tbody>\n",
       "    <tr>\n",
       "      <th>3</th>\n",
       "      <td>Mugunthan S</td>\n",
       "      <td>100.0</td>\n",
       "      <td>47.0</td>\n",
       "      <td>10610</td>\n",
       "      <td>10610</td>\n",
       "      <td>Computer Science and Engineering</td>\n",
       "      <td>0</td>\n",
       "      <td>NaN</td>\n",
       "      <td>NaN</td>\n",
       "    </tr>\n",
       "    <tr>\n",
       "      <th>85</th>\n",
       "      <td>Chandru</td>\n",
       "      <td>0.0</td>\n",
       "      <td>0.0</td>\n",
       "      <td>14150</td>\n",
       "      <td>14490</td>\n",
       "      <td>Computer Science and Engineering</td>\n",
       "      <td>340</td>\n",
       "      <td>20.0</td>\n",
       "      <td>0.0</td>\n",
       "    </tr>\n",
       "    <tr>\n",
       "      <th>86</th>\n",
       "      <td>Ganesh Ramkumar R</td>\n",
       "      <td>-1.0</td>\n",
       "      <td>24.0</td>\n",
       "      <td>8790</td>\n",
       "      <td>10790</td>\n",
       "      <td>Computer Science and Engineering</td>\n",
       "      <td>2000</td>\n",
       "      <td>55.0</td>\n",
       "      <td>6.0</td>\n",
       "    </tr>\n",
       "    <tr>\n",
       "      <th>87</th>\n",
       "      <td>Bodipudi Harini</td>\n",
       "      <td>-1.0</td>\n",
       "      <td>35.0</td>\n",
       "      <td>10040</td>\n",
       "      <td>10040</td>\n",
       "      <td>Electronics and Communication Engineering</td>\n",
       "      <td>0</td>\n",
       "      <td>0.0</td>\n",
       "      <td>-1.0</td>\n",
       "    </tr>\n",
       "  </tbody>\n",
       "</table>\n",
       "</div>"
      ],
      "text/plain": [
       "                 Name  python  mysql  Previous Geekions  CodeKata Score  \\\n",
       "3         Mugunthan S   100.0   47.0              10610           10610   \n",
       "85            Chandru     0.0    0.0              14150           14490   \n",
       "86  Ganesh Ramkumar R    -1.0   24.0               8790           10790   \n",
       "87    Bodipudi Harini    -1.0   35.0              10040           10040   \n",
       "\n",
       "                                   Department  Rising  python_en  \\\n",
       "3            Computer Science and Engineering       0        NaN   \n",
       "85           Computer Science and Engineering     340       20.0   \n",
       "86           Computer Science and Engineering    2000       55.0   \n",
       "87  Electronics and Communication Engineering       0        0.0   \n",
       "\n",
       "    computational_thinking  \n",
       "3                      NaN  \n",
       "85                     0.0  \n",
       "86                     6.0  \n",
       "87                    -1.0  "
      ]
     },
     "execution_count": 6,
     "metadata": {},
     "output_type": "execute_result"
    }
   ],
   "source": [
    "df3 = df[df['CodeKata Score']>10000]\n",
    "df3 = df3[df3['CodeKata Score']<15000]\n",
    "df3"
   ]
  },
  {
   "cell_type": "code",
   "execution_count": 18,
   "metadata": {},
   "outputs": [],
   "source": [
    "df3.to_csv('Reached_expectations.csv')"
   ]
  },
  {
   "cell_type": "code",
   "execution_count": 7,
   "metadata": {},
   "outputs": [
    {
     "data": {
      "text/html": [
       "<div>\n",
       "<style scoped>\n",
       "    .dataframe tbody tr th:only-of-type {\n",
       "        vertical-align: middle;\n",
       "    }\n",
       "\n",
       "    .dataframe tbody tr th {\n",
       "        vertical-align: top;\n",
       "    }\n",
       "\n",
       "    .dataframe thead th {\n",
       "        text-align: right;\n",
       "    }\n",
       "</style>\n",
       "<table border=\"1\" class=\"dataframe\">\n",
       "  <thead>\n",
       "    <tr style=\"text-align: right;\">\n",
       "      <th></th>\n",
       "      <th>Name</th>\n",
       "      <th>python</th>\n",
       "      <th>mysql</th>\n",
       "      <th>Previous Geekions</th>\n",
       "      <th>CodeKata Score</th>\n",
       "      <th>Department</th>\n",
       "      <th>Rising</th>\n",
       "      <th>python_en</th>\n",
       "      <th>computational_thinking</th>\n",
       "    </tr>\n",
       "  </thead>\n",
       "  <tbody>\n",
       "    <tr>\n",
       "      <th>4</th>\n",
       "      <td>Sathammai.S</td>\n",
       "      <td>100.0</td>\n",
       "      <td>8.0</td>\n",
       "      <td>8980</td>\n",
       "      <td>8980</td>\n",
       "      <td>Computer Science and Engineering</td>\n",
       "      <td>0</td>\n",
       "      <td>NaN</td>\n",
       "      <td>NaN</td>\n",
       "    </tr>\n",
       "    <tr>\n",
       "      <th>5</th>\n",
       "      <td>NIVEESHWAR S</td>\n",
       "      <td>100.0</td>\n",
       "      <td>0.0</td>\n",
       "      <td>8200</td>\n",
       "      <td>8200</td>\n",
       "      <td>Computer Science and Engineering</td>\n",
       "      <td>0</td>\n",
       "      <td>NaN</td>\n",
       "      <td>NaN</td>\n",
       "    </tr>\n",
       "    <tr>\n",
       "      <th>6</th>\n",
       "      <td>KALAIARASAN K</td>\n",
       "      <td>85.0</td>\n",
       "      <td>47.0</td>\n",
       "      <td>7750</td>\n",
       "      <td>7880</td>\n",
       "      <td>Electronics and Communication Engineering</td>\n",
       "      <td>130</td>\n",
       "      <td>NaN</td>\n",
       "      <td>NaN</td>\n",
       "    </tr>\n",
       "    <tr>\n",
       "      <th>7</th>\n",
       "      <td>MOHAMED ZUBAIR AHMED</td>\n",
       "      <td>82.0</td>\n",
       "      <td>4.0</td>\n",
       "      <td>7020</td>\n",
       "      <td>7020</td>\n",
       "      <td>Computer Science and Engineering</td>\n",
       "      <td>0</td>\n",
       "      <td>NaN</td>\n",
       "      <td>NaN</td>\n",
       "    </tr>\n",
       "    <tr>\n",
       "      <th>88</th>\n",
       "      <td>VIINU V P</td>\n",
       "      <td>-1.0</td>\n",
       "      <td>24.0</td>\n",
       "      <td>9150</td>\n",
       "      <td>9150</td>\n",
       "      <td>Electronics and Electrical Engineering</td>\n",
       "      <td>0</td>\n",
       "      <td>100.0</td>\n",
       "      <td>-1.0</td>\n",
       "    </tr>\n",
       "    <tr>\n",
       "      <th>89</th>\n",
       "      <td>Poojitha Y</td>\n",
       "      <td>0.0</td>\n",
       "      <td>35.0</td>\n",
       "      <td>7210</td>\n",
       "      <td>8970</td>\n",
       "      <td>Computer Science and Engineering</td>\n",
       "      <td>1760</td>\n",
       "      <td>78.0</td>\n",
       "      <td>0.0</td>\n",
       "    </tr>\n",
       "    <tr>\n",
       "      <th>90</th>\n",
       "      <td>Gowtham Chandrasekaran</td>\n",
       "      <td>-1.0</td>\n",
       "      <td>0.0</td>\n",
       "      <td>7250</td>\n",
       "      <td>8950</td>\n",
       "      <td>Computer Science and Engineering</td>\n",
       "      <td>1700</td>\n",
       "      <td>0.0</td>\n",
       "      <td>3.0</td>\n",
       "    </tr>\n",
       "    <tr>\n",
       "      <th>91</th>\n",
       "      <td>Gowtham R</td>\n",
       "      <td>-1.0</td>\n",
       "      <td>4.0</td>\n",
       "      <td>8650</td>\n",
       "      <td>8650</td>\n",
       "      <td>Electronics and Communication Engineering</td>\n",
       "      <td>0</td>\n",
       "      <td>60.0</td>\n",
       "      <td>6.0</td>\n",
       "    </tr>\n",
       "    <tr>\n",
       "      <th>92</th>\n",
       "      <td>shifak N</td>\n",
       "      <td>58.0</td>\n",
       "      <td>0.0</td>\n",
       "      <td>5180</td>\n",
       "      <td>8320</td>\n",
       "      <td>Electronics and Electrical Engineering</td>\n",
       "      <td>3140</td>\n",
       "      <td>0.0</td>\n",
       "      <td>0.0</td>\n",
       "    </tr>\n",
       "    <tr>\n",
       "      <th>93</th>\n",
       "      <td>Balaji</td>\n",
       "      <td>-1.0</td>\n",
       "      <td>20.0</td>\n",
       "      <td>6170</td>\n",
       "      <td>8160</td>\n",
       "      <td>Electronics and Electrical Engineering</td>\n",
       "      <td>1990</td>\n",
       "      <td>100.0</td>\n",
       "      <td>0.0</td>\n",
       "    </tr>\n",
       "    <tr>\n",
       "      <th>94</th>\n",
       "      <td>Rushitha</td>\n",
       "      <td>-1.0</td>\n",
       "      <td>62.0</td>\n",
       "      <td>7470</td>\n",
       "      <td>8090</td>\n",
       "      <td>Computer Science and Engineering</td>\n",
       "      <td>620</td>\n",
       "      <td>15.0</td>\n",
       "      <td>9.0</td>\n",
       "    </tr>\n",
       "    <tr>\n",
       "      <th>95</th>\n",
       "      <td>Balaraman Muthupandi</td>\n",
       "      <td>-1.0</td>\n",
       "      <td>0.0</td>\n",
       "      <td>7670</td>\n",
       "      <td>8050</td>\n",
       "      <td>Computer Science and Engineering</td>\n",
       "      <td>380</td>\n",
       "      <td>9.0</td>\n",
       "      <td>0.0</td>\n",
       "    </tr>\n",
       "    <tr>\n",
       "      <th>96</th>\n",
       "      <td>JPradhap</td>\n",
       "      <td>100.0</td>\n",
       "      <td>0.0</td>\n",
       "      <td>7340</td>\n",
       "      <td>8030</td>\n",
       "      <td>Electronics and Electrical Engineering</td>\n",
       "      <td>690</td>\n",
       "      <td>0.0</td>\n",
       "      <td>0.0</td>\n",
       "    </tr>\n",
       "    <tr>\n",
       "      <th>97</th>\n",
       "      <td>SRIRAMKUMAR B</td>\n",
       "      <td>-1.0</td>\n",
       "      <td>0.0</td>\n",
       "      <td>6400</td>\n",
       "      <td>7940</td>\n",
       "      <td>Computer Science and Engineering</td>\n",
       "      <td>1540</td>\n",
       "      <td>0.0</td>\n",
       "      <td>0.0</td>\n",
       "    </tr>\n",
       "    <tr>\n",
       "      <th>98</th>\n",
       "      <td>Praneetha</td>\n",
       "      <td>-1.0</td>\n",
       "      <td>100.0</td>\n",
       "      <td>7170</td>\n",
       "      <td>7730</td>\n",
       "      <td>Electronics and Communication Engineering</td>\n",
       "      <td>560</td>\n",
       "      <td>23.0</td>\n",
       "      <td>-1.0</td>\n",
       "    </tr>\n",
       "    <tr>\n",
       "      <th>99</th>\n",
       "      <td>Rahul Raj K</td>\n",
       "      <td>-1.0</td>\n",
       "      <td>0.0</td>\n",
       "      <td>6280</td>\n",
       "      <td>7640</td>\n",
       "      <td>Computer Science and Engineering</td>\n",
       "      <td>1360</td>\n",
       "      <td>0.0</td>\n",
       "      <td>0.0</td>\n",
       "    </tr>\n",
       "    <tr>\n",
       "      <th>100</th>\n",
       "      <td>Guhan S</td>\n",
       "      <td>-1.0</td>\n",
       "      <td>35.0</td>\n",
       "      <td>7310</td>\n",
       "      <td>7630</td>\n",
       "      <td>Electronics and Communication Engineering</td>\n",
       "      <td>320</td>\n",
       "      <td>72.0</td>\n",
       "      <td>39.0</td>\n",
       "    </tr>\n",
       "    <tr>\n",
       "      <th>101</th>\n",
       "      <td>Suryarajan S</td>\n",
       "      <td>-1.0</td>\n",
       "      <td>31.0</td>\n",
       "      <td>6710</td>\n",
       "      <td>7550</td>\n",
       "      <td>Computer Science and Engineering</td>\n",
       "      <td>840</td>\n",
       "      <td>63.0</td>\n",
       "      <td>0.0</td>\n",
       "    </tr>\n",
       "  </tbody>\n",
       "</table>\n",
       "</div>"
      ],
      "text/plain": [
       "                       Name  python  mysql  Previous Geekions  CodeKata Score  \\\n",
       "4               Sathammai.S   100.0    8.0               8980            8980   \n",
       "5              NIVEESHWAR S   100.0    0.0               8200            8200   \n",
       "6             KALAIARASAN K    85.0   47.0               7750            7880   \n",
       "7      MOHAMED ZUBAIR AHMED    82.0    4.0               7020            7020   \n",
       "88                VIINU V P    -1.0   24.0               9150            9150   \n",
       "89               Poojitha Y     0.0   35.0               7210            8970   \n",
       "90   Gowtham Chandrasekaran    -1.0    0.0               7250            8950   \n",
       "91                Gowtham R    -1.0    4.0               8650            8650   \n",
       "92                 shifak N    58.0    0.0               5180            8320   \n",
       "93                  Balaji     -1.0   20.0               6170            8160   \n",
       "94                 Rushitha    -1.0   62.0               7470            8090   \n",
       "95     Balaraman Muthupandi    -1.0    0.0               7670            8050   \n",
       "96                 JPradhap   100.0    0.0               7340            8030   \n",
       "97            SRIRAMKUMAR B    -1.0    0.0               6400            7940   \n",
       "98                Praneetha    -1.0  100.0               7170            7730   \n",
       "99              Rahul Raj K    -1.0    0.0               6280            7640   \n",
       "100                 Guhan S    -1.0   35.0               7310            7630   \n",
       "101            Suryarajan S    -1.0   31.0               6710            7550   \n",
       "\n",
       "                                    Department  Rising  python_en  \\\n",
       "4             Computer Science and Engineering       0        NaN   \n",
       "5             Computer Science and Engineering       0        NaN   \n",
       "6    Electronics and Communication Engineering     130        NaN   \n",
       "7             Computer Science and Engineering       0        NaN   \n",
       "88      Electronics and Electrical Engineering       0      100.0   \n",
       "89            Computer Science and Engineering    1760       78.0   \n",
       "90            Computer Science and Engineering    1700        0.0   \n",
       "91   Electronics and Communication Engineering       0       60.0   \n",
       "92      Electronics and Electrical Engineering    3140        0.0   \n",
       "93      Electronics and Electrical Engineering    1990      100.0   \n",
       "94            Computer Science and Engineering     620       15.0   \n",
       "95            Computer Science and Engineering     380        9.0   \n",
       "96      Electronics and Electrical Engineering     690        0.0   \n",
       "97            Computer Science and Engineering    1540        0.0   \n",
       "98   Electronics and Communication Engineering     560       23.0   \n",
       "99            Computer Science and Engineering    1360        0.0   \n",
       "100  Electronics and Communication Engineering     320       72.0   \n",
       "101           Computer Science and Engineering     840       63.0   \n",
       "\n",
       "     computational_thinking  \n",
       "4                       NaN  \n",
       "5                       NaN  \n",
       "6                       NaN  \n",
       "7                       NaN  \n",
       "88                     -1.0  \n",
       "89                      0.0  \n",
       "90                      3.0  \n",
       "91                      6.0  \n",
       "92                      0.0  \n",
       "93                      0.0  \n",
       "94                      9.0  \n",
       "95                      0.0  \n",
       "96                      0.0  \n",
       "97                      0.0  \n",
       "98                     -1.0  \n",
       "99                      0.0  \n",
       "100                    39.0  \n",
       "101                     0.0  "
      ]
     },
     "execution_count": 7,
     "metadata": {},
     "output_type": "execute_result"
    }
   ],
   "source": [
    "df4 = df[df['CodeKata Score']>7000]\n",
    "df4 = df4[df4['CodeKata Score']<10000]\n",
    "df4"
   ]
  },
  {
   "cell_type": "code",
   "execution_count": 22,
   "metadata": {},
   "outputs": [],
   "source": [
    "df4.to_csv('Needs_Improvement.csv')"
   ]
  },
  {
   "cell_type": "code",
   "execution_count": 8,
   "metadata": {},
   "outputs": [
    {
     "data": {
      "text/html": [
       "<div>\n",
       "<style scoped>\n",
       "    .dataframe tbody tr th:only-of-type {\n",
       "        vertical-align: middle;\n",
       "    }\n",
       "\n",
       "    .dataframe tbody tr th {\n",
       "        vertical-align: top;\n",
       "    }\n",
       "\n",
       "    .dataframe thead th {\n",
       "        text-align: right;\n",
       "    }\n",
       "</style>\n",
       "<table border=\"1\" class=\"dataframe\">\n",
       "  <thead>\n",
       "    <tr style=\"text-align: right;\">\n",
       "      <th></th>\n",
       "      <th>Name</th>\n",
       "      <th>python</th>\n",
       "      <th>mysql</th>\n",
       "      <th>Previous Geekions</th>\n",
       "      <th>CodeKata Score</th>\n",
       "      <th>Department</th>\n",
       "      <th>Rising</th>\n",
       "      <th>python_en</th>\n",
       "      <th>computational_thinking</th>\n",
       "    </tr>\n",
       "  </thead>\n",
       "  <tbody>\n",
       "    <tr>\n",
       "      <th>8</th>\n",
       "      <td>J.SUGANTHI</td>\n",
       "      <td>27.0</td>\n",
       "      <td>50.00</td>\n",
       "      <td>5860</td>\n",
       "      <td>5860</td>\n",
       "      <td>Electronics and Communication Engineering</td>\n",
       "      <td>0</td>\n",
       "      <td>NaN</td>\n",
       "      <td>NaN</td>\n",
       "    </tr>\n",
       "    <tr>\n",
       "      <th>9</th>\n",
       "      <td>thamizhpaana</td>\n",
       "      <td>29.0</td>\n",
       "      <td>0.00</td>\n",
       "      <td>5500</td>\n",
       "      <td>5500</td>\n",
       "      <td>Computer Science and Engineering</td>\n",
       "      <td>0</td>\n",
       "      <td>NaN</td>\n",
       "      <td>NaN</td>\n",
       "    </tr>\n",
       "    <tr>\n",
       "      <th>10</th>\n",
       "      <td>Iyappan Samiraj</td>\n",
       "      <td>50.0</td>\n",
       "      <td>24.00</td>\n",
       "      <td>5400</td>\n",
       "      <td>5400</td>\n",
       "      <td>Electronics and Communication Engineering</td>\n",
       "      <td>0</td>\n",
       "      <td>NaN</td>\n",
       "      <td>NaN</td>\n",
       "    </tr>\n",
       "    <tr>\n",
       "      <th>11</th>\n",
       "      <td>Ponniyamma.R</td>\n",
       "      <td>100.0</td>\n",
       "      <td>11.25</td>\n",
       "      <td>5380</td>\n",
       "      <td>5380</td>\n",
       "      <td>Computer Science and Engineering</td>\n",
       "      <td>0</td>\n",
       "      <td>NaN</td>\n",
       "      <td>NaN</td>\n",
       "    </tr>\n",
       "    <tr>\n",
       "      <th>12</th>\n",
       "      <td>SABAPATHI</td>\n",
       "      <td>100.0</td>\n",
       "      <td>0.00</td>\n",
       "      <td>5280</td>\n",
       "      <td>5280</td>\n",
       "      <td>Computer Science and Engineering</td>\n",
       "      <td>0</td>\n",
       "      <td>NaN</td>\n",
       "      <td>NaN</td>\n",
       "    </tr>\n",
       "    <tr>\n",
       "      <th>...</th>\n",
       "      <td>...</td>\n",
       "      <td>...</td>\n",
       "      <td>...</td>\n",
       "      <td>...</td>\n",
       "      <td>...</td>\n",
       "      <td>...</td>\n",
       "      <td>...</td>\n",
       "      <td>...</td>\n",
       "      <td>...</td>\n",
       "    </tr>\n",
       "    <tr>\n",
       "      <th>114</th>\n",
       "      <td>praveen raj j</td>\n",
       "      <td>24.0</td>\n",
       "      <td>0.00</td>\n",
       "      <td>2380</td>\n",
       "      <td>2380</td>\n",
       "      <td>Computer Science and Engineering</td>\n",
       "      <td>0</td>\n",
       "      <td>-1.0</td>\n",
       "      <td>0.0</td>\n",
       "    </tr>\n",
       "    <tr>\n",
       "      <th>115</th>\n",
       "      <td>AMARNATH D</td>\n",
       "      <td>-1.0</td>\n",
       "      <td>12.00</td>\n",
       "      <td>1890</td>\n",
       "      <td>1890</td>\n",
       "      <td>Electronics and Communication Engineering</td>\n",
       "      <td>0</td>\n",
       "      <td>52.0</td>\n",
       "      <td>-1.0</td>\n",
       "    </tr>\n",
       "    <tr>\n",
       "      <th>116</th>\n",
       "      <td>bala</td>\n",
       "      <td>32.0</td>\n",
       "      <td>0.00</td>\n",
       "      <td>1720</td>\n",
       "      <td>1720</td>\n",
       "      <td>Electronics and Communication Engineering</td>\n",
       "      <td>0</td>\n",
       "      <td>49.0</td>\n",
       "      <td>-1.0</td>\n",
       "    </tr>\n",
       "    <tr>\n",
       "      <th>117</th>\n",
       "      <td>XY Z</td>\n",
       "      <td>-1.0</td>\n",
       "      <td>-1.00</td>\n",
       "      <td>0</td>\n",
       "      <td>0</td>\n",
       "      <td>Computer Science and Engineering</td>\n",
       "      <td>0</td>\n",
       "      <td>20.0</td>\n",
       "      <td>-1.0</td>\n",
       "    </tr>\n",
       "    <tr>\n",
       "      <th>118</th>\n",
       "      <td>Hariharan</td>\n",
       "      <td>-1.0</td>\n",
       "      <td>-1.00</td>\n",
       "      <td>0</td>\n",
       "      <td>0</td>\n",
       "      <td>Computer Science and Engineering</td>\n",
       "      <td>0</td>\n",
       "      <td>-1.0</td>\n",
       "      <td>0.0</td>\n",
       "    </tr>\n",
       "  </tbody>\n",
       "</table>\n",
       "<p>93 rows × 9 columns</p>\n",
       "</div>"
      ],
      "text/plain": [
       "                Name  python  mysql  Previous Geekions  CodeKata Score  \\\n",
       "8         J.SUGANTHI    27.0  50.00               5860            5860   \n",
       "9       thamizhpaana    29.0   0.00               5500            5500   \n",
       "10   Iyappan Samiraj    50.0  24.00               5400            5400   \n",
       "11      Ponniyamma.R   100.0  11.25               5380            5380   \n",
       "12         SABAPATHI   100.0   0.00               5280            5280   \n",
       "..               ...     ...    ...                ...             ...   \n",
       "114    praveen raj j    24.0   0.00               2380            2380   \n",
       "115       AMARNATH D    -1.0  12.00               1890            1890   \n",
       "116             bala    32.0   0.00               1720            1720   \n",
       "117             XY Z    -1.0  -1.00                  0               0   \n",
       "118        Hariharan    -1.0  -1.00                  0               0   \n",
       "\n",
       "                                    Department  Rising  python_en  \\\n",
       "8    Electronics and Communication Engineering       0        NaN   \n",
       "9             Computer Science and Engineering       0        NaN   \n",
       "10   Electronics and Communication Engineering       0        NaN   \n",
       "11            Computer Science and Engineering       0        NaN   \n",
       "12            Computer Science and Engineering       0        NaN   \n",
       "..                                         ...     ...        ...   \n",
       "114           Computer Science and Engineering       0       -1.0   \n",
       "115  Electronics and Communication Engineering       0       52.0   \n",
       "116  Electronics and Communication Engineering       0       49.0   \n",
       "117           Computer Science and Engineering       0       20.0   \n",
       "118           Computer Science and Engineering       0       -1.0   \n",
       "\n",
       "     computational_thinking  \n",
       "8                       NaN  \n",
       "9                       NaN  \n",
       "10                      NaN  \n",
       "11                      NaN  \n",
       "12                      NaN  \n",
       "..                      ...  \n",
       "114                     0.0  \n",
       "115                    -1.0  \n",
       "116                    -1.0  \n",
       "117                    -1.0  \n",
       "118                     0.0  \n",
       "\n",
       "[93 rows x 9 columns]"
      ]
     },
     "execution_count": 8,
     "metadata": {},
     "output_type": "execute_result"
    }
   ],
   "source": [
    "df5 = df[df['CodeKata Score']<7000]\n",
    "df5"
   ]
  },
  {
   "cell_type": "code",
   "execution_count": 23,
   "metadata": {},
   "outputs": [],
   "source": [
    "df5.to_csv('Unsatisfactory.csv')"
   ]
  },
  {
   "cell_type": "markdown",
   "metadata": {},
   "source": [
    "###### Average of previous week geekions vs this week geekions (i.e Previous Geekions vs CodeKata Score)"
   ]
  },
  {
   "cell_type": "code",
   "execution_count": 9,
   "metadata": {},
   "outputs": [
    {
     "data": {
      "text/plain": [
       "3842.3529411764707"
      ]
     },
     "execution_count": 9,
     "metadata": {},
     "output_type": "execute_result"
    }
   ],
   "source": [
    "x = df['Previous Geekions'].mean()\n",
    "x"
   ]
  },
  {
   "cell_type": "code",
   "execution_count": 10,
   "metadata": {},
   "outputs": [
    {
     "data": {
      "text/plain": [
       "4051.764705882353"
      ]
     },
     "execution_count": 10,
     "metadata": {},
     "output_type": "execute_result"
    }
   ],
   "source": [
    "y = df['CodeKata Score'].mean()\n",
    "y"
   ]
  },
  {
   "cell_type": "markdown",
   "metadata": {},
   "source": [
    "###### No of students participated "
   ]
  },
  {
   "cell_type": "code",
   "execution_count": 11,
   "metadata": {},
   "outputs": [
    {
     "data": {
      "text/plain": [
       "119"
      ]
     },
     "execution_count": 11,
     "metadata": {},
     "output_type": "execute_result"
    }
   ],
   "source": [
    "len(df['Name'].unique())"
   ]
  },
  {
   "cell_type": "markdown",
   "metadata": {},
   "source": [
    "###### #Average completion of python course or my_sql or python english or computational thinking"
   ]
  },
  {
   "cell_type": "code",
   "execution_count": 12,
   "metadata": {},
   "outputs": [
    {
     "data": {
      "text/plain": [
       "54.35294117647059"
      ]
     },
     "execution_count": 12,
     "metadata": {},
     "output_type": "execute_result"
    }
   ],
   "source": [
    "df['python'].mean()"
   ]
  },
  {
   "cell_type": "code",
   "execution_count": 13,
   "metadata": {},
   "outputs": [
    {
     "data": {
      "text/plain": [
       "23.5"
      ]
     },
     "execution_count": 13,
     "metadata": {},
     "output_type": "execute_result"
    }
   ],
   "source": [
    "df['mysql'].mean()"
   ]
  },
  {
   "cell_type": "code",
   "execution_count": 14,
   "metadata": {},
   "outputs": [
    {
     "data": {
      "text/plain": [
       "29.65714285714286"
      ]
     },
     "execution_count": 14,
     "metadata": {},
     "output_type": "execute_result"
    }
   ],
   "source": [
    "df['python_en'].mean()"
   ]
  },
  {
   "cell_type": "code",
   "execution_count": 15,
   "metadata": {},
   "outputs": [
    {
     "data": {
      "text/plain": [
       "2.2"
      ]
     },
     "execution_count": 15,
     "metadata": {},
     "output_type": "execute_result"
    }
   ],
   "source": [
    "df['computational_thinking'].mean()"
   ]
  },
  {
   "cell_type": "markdown",
   "metadata": {},
   "source": [
    "###### rising star of the week (top 3 candidate who performed well in that particular week)"
   ]
  },
  {
   "cell_type": "code",
   "execution_count": 16,
   "metadata": {},
   "outputs": [
    {
     "data": {
      "text/html": [
       "<div>\n",
       "<style scoped>\n",
       "    .dataframe tbody tr th:only-of-type {\n",
       "        vertical-align: middle;\n",
       "    }\n",
       "\n",
       "    .dataframe tbody tr th {\n",
       "        vertical-align: top;\n",
       "    }\n",
       "\n",
       "    .dataframe thead th {\n",
       "        text-align: right;\n",
       "    }\n",
       "</style>\n",
       "<table border=\"1\" class=\"dataframe\">\n",
       "  <thead>\n",
       "    <tr style=\"text-align: right;\">\n",
       "      <th></th>\n",
       "      <th>Name</th>\n",
       "      <th>python</th>\n",
       "      <th>mysql</th>\n",
       "      <th>Previous Geekions</th>\n",
       "      <th>CodeKata Score</th>\n",
       "      <th>Department</th>\n",
       "      <th>Rising</th>\n",
       "      <th>python_en</th>\n",
       "      <th>computational_thinking</th>\n",
       "    </tr>\n",
       "  </thead>\n",
       "  <tbody>\n",
       "    <tr>\n",
       "      <th>0</th>\n",
       "      <td>A.Dharani</td>\n",
       "      <td>82.0</td>\n",
       "      <td>20.0</td>\n",
       "      <td>24500</td>\n",
       "      <td>24500</td>\n",
       "      <td>Computer Science and Engineering</td>\n",
       "      <td>0</td>\n",
       "      <td>NaN</td>\n",
       "      <td>NaN</td>\n",
       "    </tr>\n",
       "    <tr>\n",
       "      <th>1</th>\n",
       "      <td>V.JEEVITHA</td>\n",
       "      <td>82.0</td>\n",
       "      <td>20.0</td>\n",
       "      <td>21740</td>\n",
       "      <td>21740</td>\n",
       "      <td>Computer Science and Engineering</td>\n",
       "      <td>0</td>\n",
       "      <td>NaN</td>\n",
       "      <td>NaN</td>\n",
       "    </tr>\n",
       "    <tr>\n",
       "      <th>2</th>\n",
       "      <td>HEMAVATHI.R</td>\n",
       "      <td>100.0</td>\n",
       "      <td>100.0</td>\n",
       "      <td>19680</td>\n",
       "      <td>19680</td>\n",
       "      <td>Computer Science and Engineering</td>\n",
       "      <td>0</td>\n",
       "      <td>NaN</td>\n",
       "      <td>NaN</td>\n",
       "    </tr>\n",
       "  </tbody>\n",
       "</table>\n",
       "</div>"
      ],
      "text/plain": [
       "          Name  python  mysql  Previous Geekions  CodeKata Score  \\\n",
       "0    A.Dharani    82.0   20.0              24500           24500   \n",
       "1  V.JEEVITHA     82.0   20.0              21740           21740   \n",
       "2  HEMAVATHI.R   100.0  100.0              19680           19680   \n",
       "\n",
       "                         Department  Rising  python_en  computational_thinking  \n",
       "0  Computer Science and Engineering       0        NaN                     NaN  \n",
       "1  Computer Science and Engineering       0        NaN                     NaN  \n",
       "2  Computer Science and Engineering       0        NaN                     NaN  "
      ]
     },
     "execution_count": 16,
     "metadata": {},
     "output_type": "execute_result"
    }
   ],
   "source": [
    "df_rising = df.sort_values(by=['CodeKata Score'],ascending = False)\n",
    "df_rising[:3]"
   ]
  },
  {
   "cell_type": "markdown",
   "metadata": {},
   "source": [
    "###### Shining stars of the week (top 3 candidates who has highest geekions)"
   ]
  },
  {
   "cell_type": "code",
   "execution_count": 17,
   "metadata": {},
   "outputs": [
    {
     "data": {
      "text/html": [
       "<div>\n",
       "<style scoped>\n",
       "    .dataframe tbody tr th:only-of-type {\n",
       "        vertical-align: middle;\n",
       "    }\n",
       "\n",
       "    .dataframe tbody tr th {\n",
       "        vertical-align: top;\n",
       "    }\n",
       "\n",
       "    .dataframe thead th {\n",
       "        text-align: right;\n",
       "    }\n",
       "</style>\n",
       "<table border=\"1\" class=\"dataframe\">\n",
       "  <thead>\n",
       "    <tr style=\"text-align: right;\">\n",
       "      <th></th>\n",
       "      <th>Name</th>\n",
       "      <th>python</th>\n",
       "      <th>mysql</th>\n",
       "      <th>Previous Geekions</th>\n",
       "      <th>CodeKata Score</th>\n",
       "      <th>Department</th>\n",
       "      <th>Rising</th>\n",
       "      <th>python_en</th>\n",
       "      <th>computational_thinking</th>\n",
       "    </tr>\n",
       "  </thead>\n",
       "  <tbody>\n",
       "    <tr>\n",
       "      <th>0</th>\n",
       "      <td>A.Dharani</td>\n",
       "      <td>82.0</td>\n",
       "      <td>20.0</td>\n",
       "      <td>24500</td>\n",
       "      <td>24500</td>\n",
       "      <td>Computer Science and Engineering</td>\n",
       "      <td>0</td>\n",
       "      <td>NaN</td>\n",
       "      <td>NaN</td>\n",
       "    </tr>\n",
       "    <tr>\n",
       "      <th>1</th>\n",
       "      <td>V.JEEVITHA</td>\n",
       "      <td>82.0</td>\n",
       "      <td>20.0</td>\n",
       "      <td>21740</td>\n",
       "      <td>21740</td>\n",
       "      <td>Computer Science and Engineering</td>\n",
       "      <td>0</td>\n",
       "      <td>NaN</td>\n",
       "      <td>NaN</td>\n",
       "    </tr>\n",
       "    <tr>\n",
       "      <th>2</th>\n",
       "      <td>HEMAVATHI.R</td>\n",
       "      <td>100.0</td>\n",
       "      <td>100.0</td>\n",
       "      <td>19680</td>\n",
       "      <td>19680</td>\n",
       "      <td>Computer Science and Engineering</td>\n",
       "      <td>0</td>\n",
       "      <td>NaN</td>\n",
       "      <td>NaN</td>\n",
       "    </tr>\n",
       "  </tbody>\n",
       "</table>\n",
       "</div>"
      ],
      "text/plain": [
       "          Name  python  mysql  Previous Geekions  CodeKata Score  \\\n",
       "0    A.Dharani    82.0   20.0              24500           24500   \n",
       "1  V.JEEVITHA     82.0   20.0              21740           21740   \n",
       "2  HEMAVATHI.R   100.0  100.0              19680           19680   \n",
       "\n",
       "                         Department  Rising  python_en  computational_thinking  \n",
       "0  Computer Science and Engineering       0        NaN                     NaN  \n",
       "1  Computer Science and Engineering       0        NaN                     NaN  \n",
       "2  Computer Science and Engineering       0        NaN                     NaN  "
      ]
     },
     "execution_count": 17,
     "metadata": {},
     "output_type": "execute_result"
    }
   ],
   "source": [
    "df_highest = df.sort_values(by=['Previous Geekions'],ascending = False)\n",
    "df_highest[:3]"
   ]
  },
  {
   "cell_type": "markdown",
   "metadata": {},
   "source": [
    "###### Department wise codekata performence (pie chart)"
   ]
  },
  {
   "cell_type": "code",
   "execution_count": 18,
   "metadata": {},
   "outputs": [],
   "source": [
    "import matplotlib.pyplot as plt"
   ]
  },
  {
   "cell_type": "code",
   "execution_count": 19,
   "metadata": {},
   "outputs": [],
   "source": [
    "import plotly.express as px"
   ]
  },
  {
   "cell_type": "code",
   "execution_count": 22,
   "metadata": {},
   "outputs": [
    {
     "data": {
      "application/vnd.plotly.v1+json": {
       "config": {
        "plotlyServerURL": "https://plotly.com"
       },
       "data": [
        {
         "domain": {
          "x": [
           0,
           1
          ],
          "y": [
           0,
           1
          ]
         },
         "hovertemplate": "label=%{label}<br>value=%{value}<extra></extra>",
         "labels": [
          "Computer Science and Engineering",
          "Computer Science and Engineering",
          "Computer Science and Engineering",
          "Computer Science and Engineering",
          "Computer Science and Engineering",
          "Computer Science and Engineering",
          "Electronics and Communication Engineering",
          "Computer Science and Engineering",
          "Electronics and Communication Engineering",
          "Computer Science and Engineering",
          "Electronics and Communication Engineering",
          "Computer Science and Engineering",
          "Computer Science and Engineering",
          "Computer Science and Engineering",
          "Electronics and Communication Engineering",
          "Computer Science and Engineering",
          "Computer Science and Engineering",
          "Electronics and Communication Engineering",
          "Electronics and Communication Engineering",
          "Computer Science and Engineering",
          "Computer Science and Engineering",
          "Electronics and Communication Engineering",
          "Computer Science and Engineering",
          "Computer Science and Engineering",
          "Computer Science and Engineering",
          "Electronics and Communication Engineering",
          "Computer Science and Engineering",
          "Electronics and Communication Engineering",
          "Computer Science and Engineering",
          "Computer Science and Engineering",
          "Computer Science and Engineering",
          "Computer Science and Engineering",
          "Electronics and Communication Engineering",
          "Computer Science and Engineering",
          "Computer Science and Engineering",
          "Electronics and Communication Engineering",
          "Computer Science and Engineering",
          "Computer Science and Engineering",
          "Computer Science and Engineering",
          "Electronics and Communication Engineering",
          "Computer Science and Engineering",
          "Computer Science and Engineering",
          "Electronics and Communication Engineering",
          "Electronics and Communication Engineering",
          "Computer Science and Engineering",
          "Computer Science and Engineering",
          "Electronics and Communication Engineering",
          "Electronics and Communication Engineering",
          "Computer Science and Engineering",
          "Electronics and Communication Engineering",
          "Electronics and Communication Engineering",
          "Electronics and Communication Engineering",
          "Electronics and Communication Engineering",
          "Electronics and Communication Engineering",
          "Electronics and Communication Engineering",
          "Electronics and Communication Engineering",
          "Computer Science and Engineering",
          "Electronics and Communication Engineering",
          "Electronics and Communication Engineering",
          "Computer Science and Engineering",
          "Electronics and Communication Engineering",
          "Computer Science and Engineering",
          "Computer Science and Engineering",
          "Electronics and Communication Engineering",
          "Electronics and Electrical Engineering",
          "Computer Science and Engineering",
          "Computer Science and Engineering",
          "Electronics and Communication Engineering",
          "Electronics and Communication Engineering",
          "Computer Science and Engineering",
          "Electronics and Communication Engineering",
          "Electronics and Electrical Engineering",
          "Electronics and Electrical Engineering",
          "Electronics and Communication Engineering",
          "Electronics and Electrical Engineering",
          "Electronics and Electrical Engineering",
          "Computer Science and Engineering",
          "Electronics and Electrical Engineering",
          "Electronics and Electrical Engineering",
          "Electronics and Electrical Engineering",
          "Electronics and Electrical Engineering",
          "Electronics and Electrical Engineering",
          "Electronics and Electrical Engineering",
          "Electronics and Electrical Engineering",
          "Electronics and Electrical Engineering",
          "Computer Science and Engineering",
          "Computer Science and Engineering",
          "Electronics and Communication Engineering",
          "Electronics and Electrical Engineering",
          "Computer Science and Engineering",
          "Computer Science and Engineering",
          "Electronics and Communication Engineering",
          "Electronics and Electrical Engineering",
          "Electronics and Electrical Engineering",
          "Computer Science and Engineering",
          "Computer Science and Engineering",
          "Electronics and Electrical Engineering",
          "Computer Science and Engineering",
          "Electronics and Communication Engineering",
          "Computer Science and Engineering",
          "Electronics and Communication Engineering",
          "Computer Science and Engineering",
          "Computer Science and Engineering",
          "Computer Science and Engineering",
          "Computer Science and Engineering",
          "Computer Science and Engineering",
          "Computer Science and Engineering",
          "Computer Science and Engineering",
          "Electronics and Communication Engineering",
          "Computer Science and Engineering",
          "Computer Science and Engineering",
          "Computer Science and Engineering",
          "Computer Science and Engineering",
          "Electronics and Communication Engineering",
          "Computer Science and Engineering",
          "Electronics and Communication Engineering",
          "Electronics and Communication Engineering",
          "Computer Science and Engineering",
          "Computer Science and Engineering"
         ],
         "legendgroup": "",
         "name": "",
         "showlegend": true,
         "type": "pie",
         "values": [
          24500,
          21740,
          19680,
          10610,
          8980,
          8200,
          7750,
          7020,
          5860,
          5500,
          5400,
          5380,
          5280,
          5120,
          4800,
          4600,
          4510,
          4370,
          4320,
          4090,
          3915,
          3665,
          3460,
          3280,
          3200,
          3200,
          3110,
          3000,
          2570,
          2410,
          2360,
          2260,
          2240,
          2160,
          1910,
          1910,
          1900,
          1880,
          1880,
          1740,
          1680,
          1580,
          1580,
          1440,
          1350,
          1320,
          1240,
          1130,
          1100,
          1020,
          980,
          950,
          850,
          800,
          770,
          760,
          720,
          690,
          580,
          490,
          410,
          380,
          300,
          270,
          260,
          200,
          180,
          170,
          160,
          120,
          120,
          120,
          120,
          100,
          100,
          60,
          40,
          40,
          40,
          0,
          0,
          0,
          0,
          0,
          19400,
          14150,
          8790,
          10040,
          9150,
          7210,
          7250,
          8650,
          5180,
          6170,
          7470,
          7670,
          7340,
          6400,
          7170,
          6280,
          7310,
          6710,
          4800,
          5300,
          5290,
          6060,
          3910,
          5200,
          5050,
          4050,
          3860,
          4170,
          4020,
          3220,
          2380,
          1890,
          1720,
          0,
          0
         ]
        }
       ],
       "layout": {
        "legend": {
         "tracegroupgap": 0
        },
        "margin": {
         "t": 60
        },
        "template": {
         "data": {
          "bar": [
           {
            "error_x": {
             "color": "#2a3f5f"
            },
            "error_y": {
             "color": "#2a3f5f"
            },
            "marker": {
             "line": {
              "color": "#E5ECF6",
              "width": 0.5
             },
             "pattern": {
              "fillmode": "overlay",
              "size": 10,
              "solidity": 0.2
             }
            },
            "type": "bar"
           }
          ],
          "barpolar": [
           {
            "marker": {
             "line": {
              "color": "#E5ECF6",
              "width": 0.5
             },
             "pattern": {
              "fillmode": "overlay",
              "size": 10,
              "solidity": 0.2
             }
            },
            "type": "barpolar"
           }
          ],
          "carpet": [
           {
            "aaxis": {
             "endlinecolor": "#2a3f5f",
             "gridcolor": "white",
             "linecolor": "white",
             "minorgridcolor": "white",
             "startlinecolor": "#2a3f5f"
            },
            "baxis": {
             "endlinecolor": "#2a3f5f",
             "gridcolor": "white",
             "linecolor": "white",
             "minorgridcolor": "white",
             "startlinecolor": "#2a3f5f"
            },
            "type": "carpet"
           }
          ],
          "choropleth": [
           {
            "colorbar": {
             "outlinewidth": 0,
             "ticks": ""
            },
            "type": "choropleth"
           }
          ],
          "contour": [
           {
            "colorbar": {
             "outlinewidth": 0,
             "ticks": ""
            },
            "colorscale": [
             [
              0,
              "#0d0887"
             ],
             [
              0.1111111111111111,
              "#46039f"
             ],
             [
              0.2222222222222222,
              "#7201a8"
             ],
             [
              0.3333333333333333,
              "#9c179e"
             ],
             [
              0.4444444444444444,
              "#bd3786"
             ],
             [
              0.5555555555555556,
              "#d8576b"
             ],
             [
              0.6666666666666666,
              "#ed7953"
             ],
             [
              0.7777777777777778,
              "#fb9f3a"
             ],
             [
              0.8888888888888888,
              "#fdca26"
             ],
             [
              1,
              "#f0f921"
             ]
            ],
            "type": "contour"
           }
          ],
          "contourcarpet": [
           {
            "colorbar": {
             "outlinewidth": 0,
             "ticks": ""
            },
            "type": "contourcarpet"
           }
          ],
          "heatmap": [
           {
            "colorbar": {
             "outlinewidth": 0,
             "ticks": ""
            },
            "colorscale": [
             [
              0,
              "#0d0887"
             ],
             [
              0.1111111111111111,
              "#46039f"
             ],
             [
              0.2222222222222222,
              "#7201a8"
             ],
             [
              0.3333333333333333,
              "#9c179e"
             ],
             [
              0.4444444444444444,
              "#bd3786"
             ],
             [
              0.5555555555555556,
              "#d8576b"
             ],
             [
              0.6666666666666666,
              "#ed7953"
             ],
             [
              0.7777777777777778,
              "#fb9f3a"
             ],
             [
              0.8888888888888888,
              "#fdca26"
             ],
             [
              1,
              "#f0f921"
             ]
            ],
            "type": "heatmap"
           }
          ],
          "heatmapgl": [
           {
            "colorbar": {
             "outlinewidth": 0,
             "ticks": ""
            },
            "colorscale": [
             [
              0,
              "#0d0887"
             ],
             [
              0.1111111111111111,
              "#46039f"
             ],
             [
              0.2222222222222222,
              "#7201a8"
             ],
             [
              0.3333333333333333,
              "#9c179e"
             ],
             [
              0.4444444444444444,
              "#bd3786"
             ],
             [
              0.5555555555555556,
              "#d8576b"
             ],
             [
              0.6666666666666666,
              "#ed7953"
             ],
             [
              0.7777777777777778,
              "#fb9f3a"
             ],
             [
              0.8888888888888888,
              "#fdca26"
             ],
             [
              1,
              "#f0f921"
             ]
            ],
            "type": "heatmapgl"
           }
          ],
          "histogram": [
           {
            "marker": {
             "pattern": {
              "fillmode": "overlay",
              "size": 10,
              "solidity": 0.2
             }
            },
            "type": "histogram"
           }
          ],
          "histogram2d": [
           {
            "colorbar": {
             "outlinewidth": 0,
             "ticks": ""
            },
            "colorscale": [
             [
              0,
              "#0d0887"
             ],
             [
              0.1111111111111111,
              "#46039f"
             ],
             [
              0.2222222222222222,
              "#7201a8"
             ],
             [
              0.3333333333333333,
              "#9c179e"
             ],
             [
              0.4444444444444444,
              "#bd3786"
             ],
             [
              0.5555555555555556,
              "#d8576b"
             ],
             [
              0.6666666666666666,
              "#ed7953"
             ],
             [
              0.7777777777777778,
              "#fb9f3a"
             ],
             [
              0.8888888888888888,
              "#fdca26"
             ],
             [
              1,
              "#f0f921"
             ]
            ],
            "type": "histogram2d"
           }
          ],
          "histogram2dcontour": [
           {
            "colorbar": {
             "outlinewidth": 0,
             "ticks": ""
            },
            "colorscale": [
             [
              0,
              "#0d0887"
             ],
             [
              0.1111111111111111,
              "#46039f"
             ],
             [
              0.2222222222222222,
              "#7201a8"
             ],
             [
              0.3333333333333333,
              "#9c179e"
             ],
             [
              0.4444444444444444,
              "#bd3786"
             ],
             [
              0.5555555555555556,
              "#d8576b"
             ],
             [
              0.6666666666666666,
              "#ed7953"
             ],
             [
              0.7777777777777778,
              "#fb9f3a"
             ],
             [
              0.8888888888888888,
              "#fdca26"
             ],
             [
              1,
              "#f0f921"
             ]
            ],
            "type": "histogram2dcontour"
           }
          ],
          "mesh3d": [
           {
            "colorbar": {
             "outlinewidth": 0,
             "ticks": ""
            },
            "type": "mesh3d"
           }
          ],
          "parcoords": [
           {
            "line": {
             "colorbar": {
              "outlinewidth": 0,
              "ticks": ""
             }
            },
            "type": "parcoords"
           }
          ],
          "pie": [
           {
            "automargin": true,
            "type": "pie"
           }
          ],
          "scatter": [
           {
            "fillpattern": {
             "fillmode": "overlay",
             "size": 10,
             "solidity": 0.2
            },
            "type": "scatter"
           }
          ],
          "scatter3d": [
           {
            "line": {
             "colorbar": {
              "outlinewidth": 0,
              "ticks": ""
             }
            },
            "marker": {
             "colorbar": {
              "outlinewidth": 0,
              "ticks": ""
             }
            },
            "type": "scatter3d"
           }
          ],
          "scattercarpet": [
           {
            "marker": {
             "colorbar": {
              "outlinewidth": 0,
              "ticks": ""
             }
            },
            "type": "scattercarpet"
           }
          ],
          "scattergeo": [
           {
            "marker": {
             "colorbar": {
              "outlinewidth": 0,
              "ticks": ""
             }
            },
            "type": "scattergeo"
           }
          ],
          "scattergl": [
           {
            "marker": {
             "colorbar": {
              "outlinewidth": 0,
              "ticks": ""
             }
            },
            "type": "scattergl"
           }
          ],
          "scattermapbox": [
           {
            "marker": {
             "colorbar": {
              "outlinewidth": 0,
              "ticks": ""
             }
            },
            "type": "scattermapbox"
           }
          ],
          "scatterpolar": [
           {
            "marker": {
             "colorbar": {
              "outlinewidth": 0,
              "ticks": ""
             }
            },
            "type": "scatterpolar"
           }
          ],
          "scatterpolargl": [
           {
            "marker": {
             "colorbar": {
              "outlinewidth": 0,
              "ticks": ""
             }
            },
            "type": "scatterpolargl"
           }
          ],
          "scatterternary": [
           {
            "marker": {
             "colorbar": {
              "outlinewidth": 0,
              "ticks": ""
             }
            },
            "type": "scatterternary"
           }
          ],
          "surface": [
           {
            "colorbar": {
             "outlinewidth": 0,
             "ticks": ""
            },
            "colorscale": [
             [
              0,
              "#0d0887"
             ],
             [
              0.1111111111111111,
              "#46039f"
             ],
             [
              0.2222222222222222,
              "#7201a8"
             ],
             [
              0.3333333333333333,
              "#9c179e"
             ],
             [
              0.4444444444444444,
              "#bd3786"
             ],
             [
              0.5555555555555556,
              "#d8576b"
             ],
             [
              0.6666666666666666,
              "#ed7953"
             ],
             [
              0.7777777777777778,
              "#fb9f3a"
             ],
             [
              0.8888888888888888,
              "#fdca26"
             ],
             [
              1,
              "#f0f921"
             ]
            ],
            "type": "surface"
           }
          ],
          "table": [
           {
            "cells": {
             "fill": {
              "color": "#EBF0F8"
             },
             "line": {
              "color": "white"
             }
            },
            "header": {
             "fill": {
              "color": "#C8D4E3"
             },
             "line": {
              "color": "white"
             }
            },
            "type": "table"
           }
          ]
         },
         "layout": {
          "annotationdefaults": {
           "arrowcolor": "#2a3f5f",
           "arrowhead": 0,
           "arrowwidth": 1
          },
          "autotypenumbers": "strict",
          "coloraxis": {
           "colorbar": {
            "outlinewidth": 0,
            "ticks": ""
           }
          },
          "colorscale": {
           "diverging": [
            [
             0,
             "#8e0152"
            ],
            [
             0.1,
             "#c51b7d"
            ],
            [
             0.2,
             "#de77ae"
            ],
            [
             0.3,
             "#f1b6da"
            ],
            [
             0.4,
             "#fde0ef"
            ],
            [
             0.5,
             "#f7f7f7"
            ],
            [
             0.6,
             "#e6f5d0"
            ],
            [
             0.7,
             "#b8e186"
            ],
            [
             0.8,
             "#7fbc41"
            ],
            [
             0.9,
             "#4d9221"
            ],
            [
             1,
             "#276419"
            ]
           ],
           "sequential": [
            [
             0,
             "#0d0887"
            ],
            [
             0.1111111111111111,
             "#46039f"
            ],
            [
             0.2222222222222222,
             "#7201a8"
            ],
            [
             0.3333333333333333,
             "#9c179e"
            ],
            [
             0.4444444444444444,
             "#bd3786"
            ],
            [
             0.5555555555555556,
             "#d8576b"
            ],
            [
             0.6666666666666666,
             "#ed7953"
            ],
            [
             0.7777777777777778,
             "#fb9f3a"
            ],
            [
             0.8888888888888888,
             "#fdca26"
            ],
            [
             1,
             "#f0f921"
            ]
           ],
           "sequentialminus": [
            [
             0,
             "#0d0887"
            ],
            [
             0.1111111111111111,
             "#46039f"
            ],
            [
             0.2222222222222222,
             "#7201a8"
            ],
            [
             0.3333333333333333,
             "#9c179e"
            ],
            [
             0.4444444444444444,
             "#bd3786"
            ],
            [
             0.5555555555555556,
             "#d8576b"
            ],
            [
             0.6666666666666666,
             "#ed7953"
            ],
            [
             0.7777777777777778,
             "#fb9f3a"
            ],
            [
             0.8888888888888888,
             "#fdca26"
            ],
            [
             1,
             "#f0f921"
            ]
           ]
          },
          "colorway": [
           "#636efa",
           "#EF553B",
           "#00cc96",
           "#ab63fa",
           "#FFA15A",
           "#19d3f3",
           "#FF6692",
           "#B6E880",
           "#FF97FF",
           "#FECB52"
          ],
          "font": {
           "color": "#2a3f5f"
          },
          "geo": {
           "bgcolor": "white",
           "lakecolor": "white",
           "landcolor": "#E5ECF6",
           "showlakes": true,
           "showland": true,
           "subunitcolor": "white"
          },
          "hoverlabel": {
           "align": "left"
          },
          "hovermode": "closest",
          "mapbox": {
           "style": "light"
          },
          "paper_bgcolor": "white",
          "plot_bgcolor": "#E5ECF6",
          "polar": {
           "angularaxis": {
            "gridcolor": "white",
            "linecolor": "white",
            "ticks": ""
           },
           "bgcolor": "#E5ECF6",
           "radialaxis": {
            "gridcolor": "white",
            "linecolor": "white",
            "ticks": ""
           }
          },
          "scene": {
           "xaxis": {
            "backgroundcolor": "#E5ECF6",
            "gridcolor": "white",
            "gridwidth": 2,
            "linecolor": "white",
            "showbackground": true,
            "ticks": "",
            "zerolinecolor": "white"
           },
           "yaxis": {
            "backgroundcolor": "#E5ECF6",
            "gridcolor": "white",
            "gridwidth": 2,
            "linecolor": "white",
            "showbackground": true,
            "ticks": "",
            "zerolinecolor": "white"
           },
           "zaxis": {
            "backgroundcolor": "#E5ECF6",
            "gridcolor": "white",
            "gridwidth": 2,
            "linecolor": "white",
            "showbackground": true,
            "ticks": "",
            "zerolinecolor": "white"
           }
          },
          "shapedefaults": {
           "line": {
            "color": "#2a3f5f"
           }
          },
          "ternary": {
           "aaxis": {
            "gridcolor": "white",
            "linecolor": "white",
            "ticks": ""
           },
           "baxis": {
            "gridcolor": "white",
            "linecolor": "white",
            "ticks": ""
           },
           "bgcolor": "#E5ECF6",
           "caxis": {
            "gridcolor": "white",
            "linecolor": "white",
            "ticks": ""
           }
          },
          "title": {
           "x": 0.05
          },
          "xaxis": {
           "automargin": true,
           "gridcolor": "white",
           "linecolor": "white",
           "ticks": "",
           "title": {
            "standoff": 15
           },
           "zerolinecolor": "white",
           "zerolinewidth": 2
          },
          "yaxis": {
           "automargin": true,
           "gridcolor": "white",
           "linecolor": "white",
           "ticks": "",
           "title": {
            "standoff": 15
           },
           "zerolinecolor": "white",
           "zerolinewidth": 2
          }
         }
        }
       }
      },
      "text/html": [
       "<div>                            <div id=\"e67a3c19-b2e3-406d-92df-58a298893e97\" class=\"plotly-graph-div\" style=\"height:525px; width:100%;\"></div>            <script type=\"text/javascript\">                require([\"plotly\"], function(Plotly) {                    window.PLOTLYENV=window.PLOTLYENV || {};                                    if (document.getElementById(\"e67a3c19-b2e3-406d-92df-58a298893e97\")) {                    Plotly.newPlot(                        \"e67a3c19-b2e3-406d-92df-58a298893e97\",                        [{\"domain\":{\"x\":[0.0,1.0],\"y\":[0.0,1.0]},\"hovertemplate\":\"label=%{label}<br>value=%{value}<extra></extra>\",\"labels\":[\"Computer Science and Engineering\",\"Computer Science and Engineering\",\"Computer Science and Engineering\",\"Computer Science and Engineering\",\"Computer Science and Engineering\",\"Computer Science and Engineering\",\"Electronics and Communication Engineering\",\"Computer Science and Engineering\",\"Electronics and Communication Engineering\",\"Computer Science and Engineering\",\"Electronics and Communication Engineering\",\"Computer Science and Engineering\",\"Computer Science and Engineering\",\"Computer Science and Engineering\",\"Electronics and Communication Engineering\",\"Computer Science and Engineering\",\"Computer Science and Engineering\",\"Electronics and Communication Engineering\",\"Electronics and Communication Engineering\",\"Computer Science and Engineering\",\"Computer Science and Engineering\",\"Electronics and Communication Engineering\",\"Computer Science and Engineering\",\"Computer Science and Engineering\",\"Computer Science and Engineering\",\"Electronics and Communication Engineering\",\"Computer Science and Engineering\",\"Electronics and Communication Engineering\",\"Computer Science and Engineering\",\"Computer Science and Engineering\",\"Computer Science and Engineering\",\"Computer Science and Engineering\",\"Electronics and Communication Engineering\",\"Computer Science and Engineering\",\"Computer Science and Engineering\",\"Electronics and Communication Engineering\",\"Computer Science and Engineering\",\"Computer Science and Engineering\",\"Computer Science and Engineering\",\"Electronics and Communication Engineering\",\"Computer Science and Engineering\",\"Computer Science and Engineering\",\"Electronics and Communication Engineering\",\"Electronics and Communication Engineering\",\"Computer Science and Engineering\",\"Computer Science and Engineering\",\"Electronics and Communication Engineering\",\"Electronics and Communication Engineering\",\"Computer Science and Engineering\",\"Electronics and Communication Engineering\",\"Electronics and Communication Engineering\",\"Electronics and Communication Engineering\",\"Electronics and Communication Engineering\",\"Electronics and Communication Engineering\",\"Electronics and Communication Engineering\",\"Electronics and Communication Engineering\",\"Computer Science and Engineering\",\"Electronics and Communication Engineering\",\"Electronics and Communication Engineering\",\"Computer Science and Engineering\",\"Electronics and Communication Engineering\",\"Computer Science and Engineering\",\"Computer Science and Engineering\",\"Electronics and Communication Engineering\",\"Electronics and Electrical Engineering\",\"Computer Science and Engineering\",\"Computer Science and Engineering\",\"Electronics and Communication Engineering\",\"Electronics and Communication Engineering\",\"Computer Science and Engineering\",\"Electronics and Communication Engineering\",\"Electronics and Electrical Engineering\",\"Electronics and Electrical Engineering\",\"Electronics and Communication Engineering\",\"Electronics and Electrical Engineering\",\"Electronics and Electrical Engineering\",\"Computer Science and Engineering\",\"Electronics and Electrical Engineering\",\"Electronics and Electrical Engineering\",\"Electronics and Electrical Engineering\",\"Electronics and Electrical Engineering\",\"Electronics and Electrical Engineering\",\"Electronics and Electrical Engineering\",\"Electronics and Electrical Engineering\",\"Electronics and Electrical Engineering\",\"Computer Science and Engineering\",\"Computer Science and Engineering\",\"Electronics and Communication Engineering\",\"Electronics and Electrical Engineering\",\"Computer Science and Engineering\",\"Computer Science and Engineering\",\"Electronics and Communication Engineering\",\"Electronics and Electrical Engineering\",\"Electronics and Electrical Engineering\",\"Computer Science and Engineering\",\"Computer Science and Engineering\",\"Electronics and Electrical Engineering\",\"Computer Science and Engineering\",\"Electronics and Communication Engineering\",\"Computer Science and Engineering\",\"Electronics and Communication Engineering\",\"Computer Science and Engineering\",\"Computer Science and Engineering\",\"Computer Science and Engineering\",\"Computer Science and Engineering\",\"Computer Science and Engineering\",\"Computer Science and Engineering\",\"Computer Science and Engineering\",\"Electronics and Communication Engineering\",\"Computer Science and Engineering\",\"Computer Science and Engineering\",\"Computer Science and Engineering\",\"Computer Science and Engineering\",\"Electronics and Communication Engineering\",\"Computer Science and Engineering\",\"Electronics and Communication Engineering\",\"Electronics and Communication Engineering\",\"Computer Science and Engineering\",\"Computer Science and Engineering\"],\"legendgroup\":\"\",\"name\":\"\",\"showlegend\":true,\"values\":[24500,21740,19680,10610,8980,8200,7750,7020,5860,5500,5400,5380,5280,5120,4800,4600,4510,4370,4320,4090,3915,3665,3460,3280,3200,3200,3110,3000,2570,2410,2360,2260,2240,2160,1910,1910,1900,1880,1880,1740,1680,1580,1580,1440,1350,1320,1240,1130,1100,1020,980,950,850,800,770,760,720,690,580,490,410,380,300,270,260,200,180,170,160,120,120,120,120,100,100,60,40,40,40,0,0,0,0,0,19400,14150,8790,10040,9150,7210,7250,8650,5180,6170,7470,7670,7340,6400,7170,6280,7310,6710,4800,5300,5290,6060,3910,5200,5050,4050,3860,4170,4020,3220,2380,1890,1720,0,0],\"type\":\"pie\"}],                        {\"template\":{\"data\":{\"histogram2dcontour\":[{\"type\":\"histogram2dcontour\",\"colorbar\":{\"outlinewidth\":0,\"ticks\":\"\"},\"colorscale\":[[0.0,\"#0d0887\"],[0.1111111111111111,\"#46039f\"],[0.2222222222222222,\"#7201a8\"],[0.3333333333333333,\"#9c179e\"],[0.4444444444444444,\"#bd3786\"],[0.5555555555555556,\"#d8576b\"],[0.6666666666666666,\"#ed7953\"],[0.7777777777777778,\"#fb9f3a\"],[0.8888888888888888,\"#fdca26\"],[1.0,\"#f0f921\"]]}],\"choropleth\":[{\"type\":\"choropleth\",\"colorbar\":{\"outlinewidth\":0,\"ticks\":\"\"}}],\"histogram2d\":[{\"type\":\"histogram2d\",\"colorbar\":{\"outlinewidth\":0,\"ticks\":\"\"},\"colorscale\":[[0.0,\"#0d0887\"],[0.1111111111111111,\"#46039f\"],[0.2222222222222222,\"#7201a8\"],[0.3333333333333333,\"#9c179e\"],[0.4444444444444444,\"#bd3786\"],[0.5555555555555556,\"#d8576b\"],[0.6666666666666666,\"#ed7953\"],[0.7777777777777778,\"#fb9f3a\"],[0.8888888888888888,\"#fdca26\"],[1.0,\"#f0f921\"]]}],\"heatmap\":[{\"type\":\"heatmap\",\"colorbar\":{\"outlinewidth\":0,\"ticks\":\"\"},\"colorscale\":[[0.0,\"#0d0887\"],[0.1111111111111111,\"#46039f\"],[0.2222222222222222,\"#7201a8\"],[0.3333333333333333,\"#9c179e\"],[0.4444444444444444,\"#bd3786\"],[0.5555555555555556,\"#d8576b\"],[0.6666666666666666,\"#ed7953\"],[0.7777777777777778,\"#fb9f3a\"],[0.8888888888888888,\"#fdca26\"],[1.0,\"#f0f921\"]]}],\"heatmapgl\":[{\"type\":\"heatmapgl\",\"colorbar\":{\"outlinewidth\":0,\"ticks\":\"\"},\"colorscale\":[[0.0,\"#0d0887\"],[0.1111111111111111,\"#46039f\"],[0.2222222222222222,\"#7201a8\"],[0.3333333333333333,\"#9c179e\"],[0.4444444444444444,\"#bd3786\"],[0.5555555555555556,\"#d8576b\"],[0.6666666666666666,\"#ed7953\"],[0.7777777777777778,\"#fb9f3a\"],[0.8888888888888888,\"#fdca26\"],[1.0,\"#f0f921\"]]}],\"contourcarpet\":[{\"type\":\"contourcarpet\",\"colorbar\":{\"outlinewidth\":0,\"ticks\":\"\"}}],\"contour\":[{\"type\":\"contour\",\"colorbar\":{\"outlinewidth\":0,\"ticks\":\"\"},\"colorscale\":[[0.0,\"#0d0887\"],[0.1111111111111111,\"#46039f\"],[0.2222222222222222,\"#7201a8\"],[0.3333333333333333,\"#9c179e\"],[0.4444444444444444,\"#bd3786\"],[0.5555555555555556,\"#d8576b\"],[0.6666666666666666,\"#ed7953\"],[0.7777777777777778,\"#fb9f3a\"],[0.8888888888888888,\"#fdca26\"],[1.0,\"#f0f921\"]]}],\"surface\":[{\"type\":\"surface\",\"colorbar\":{\"outlinewidth\":0,\"ticks\":\"\"},\"colorscale\":[[0.0,\"#0d0887\"],[0.1111111111111111,\"#46039f\"],[0.2222222222222222,\"#7201a8\"],[0.3333333333333333,\"#9c179e\"],[0.4444444444444444,\"#bd3786\"],[0.5555555555555556,\"#d8576b\"],[0.6666666666666666,\"#ed7953\"],[0.7777777777777778,\"#fb9f3a\"],[0.8888888888888888,\"#fdca26\"],[1.0,\"#f0f921\"]]}],\"mesh3d\":[{\"type\":\"mesh3d\",\"colorbar\":{\"outlinewidth\":0,\"ticks\":\"\"}}],\"scatter\":[{\"fillpattern\":{\"fillmode\":\"overlay\",\"size\":10,\"solidity\":0.2},\"type\":\"scatter\"}],\"parcoords\":[{\"type\":\"parcoords\",\"line\":{\"colorbar\":{\"outlinewidth\":0,\"ticks\":\"\"}}}],\"scatterpolargl\":[{\"type\":\"scatterpolargl\",\"marker\":{\"colorbar\":{\"outlinewidth\":0,\"ticks\":\"\"}}}],\"bar\":[{\"error_x\":{\"color\":\"#2a3f5f\"},\"error_y\":{\"color\":\"#2a3f5f\"},\"marker\":{\"line\":{\"color\":\"#E5ECF6\",\"width\":0.5},\"pattern\":{\"fillmode\":\"overlay\",\"size\":10,\"solidity\":0.2}},\"type\":\"bar\"}],\"scattergeo\":[{\"type\":\"scattergeo\",\"marker\":{\"colorbar\":{\"outlinewidth\":0,\"ticks\":\"\"}}}],\"scatterpolar\":[{\"type\":\"scatterpolar\",\"marker\":{\"colorbar\":{\"outlinewidth\":0,\"ticks\":\"\"}}}],\"histogram\":[{\"marker\":{\"pattern\":{\"fillmode\":\"overlay\",\"size\":10,\"solidity\":0.2}},\"type\":\"histogram\"}],\"scattergl\":[{\"type\":\"scattergl\",\"marker\":{\"colorbar\":{\"outlinewidth\":0,\"ticks\":\"\"}}}],\"scatter3d\":[{\"type\":\"scatter3d\",\"line\":{\"colorbar\":{\"outlinewidth\":0,\"ticks\":\"\"}},\"marker\":{\"colorbar\":{\"outlinewidth\":0,\"ticks\":\"\"}}}],\"scattermapbox\":[{\"type\":\"scattermapbox\",\"marker\":{\"colorbar\":{\"outlinewidth\":0,\"ticks\":\"\"}}}],\"scatterternary\":[{\"type\":\"scatterternary\",\"marker\":{\"colorbar\":{\"outlinewidth\":0,\"ticks\":\"\"}}}],\"scattercarpet\":[{\"type\":\"scattercarpet\",\"marker\":{\"colorbar\":{\"outlinewidth\":0,\"ticks\":\"\"}}}],\"carpet\":[{\"aaxis\":{\"endlinecolor\":\"#2a3f5f\",\"gridcolor\":\"white\",\"linecolor\":\"white\",\"minorgridcolor\":\"white\",\"startlinecolor\":\"#2a3f5f\"},\"baxis\":{\"endlinecolor\":\"#2a3f5f\",\"gridcolor\":\"white\",\"linecolor\":\"white\",\"minorgridcolor\":\"white\",\"startlinecolor\":\"#2a3f5f\"},\"type\":\"carpet\"}],\"table\":[{\"cells\":{\"fill\":{\"color\":\"#EBF0F8\"},\"line\":{\"color\":\"white\"}},\"header\":{\"fill\":{\"color\":\"#C8D4E3\"},\"line\":{\"color\":\"white\"}},\"type\":\"table\"}],\"barpolar\":[{\"marker\":{\"line\":{\"color\":\"#E5ECF6\",\"width\":0.5},\"pattern\":{\"fillmode\":\"overlay\",\"size\":10,\"solidity\":0.2}},\"type\":\"barpolar\"}],\"pie\":[{\"automargin\":true,\"type\":\"pie\"}]},\"layout\":{\"autotypenumbers\":\"strict\",\"colorway\":[\"#636efa\",\"#EF553B\",\"#00cc96\",\"#ab63fa\",\"#FFA15A\",\"#19d3f3\",\"#FF6692\",\"#B6E880\",\"#FF97FF\",\"#FECB52\"],\"font\":{\"color\":\"#2a3f5f\"},\"hovermode\":\"closest\",\"hoverlabel\":{\"align\":\"left\"},\"paper_bgcolor\":\"white\",\"plot_bgcolor\":\"#E5ECF6\",\"polar\":{\"bgcolor\":\"#E5ECF6\",\"angularaxis\":{\"gridcolor\":\"white\",\"linecolor\":\"white\",\"ticks\":\"\"},\"radialaxis\":{\"gridcolor\":\"white\",\"linecolor\":\"white\",\"ticks\":\"\"}},\"ternary\":{\"bgcolor\":\"#E5ECF6\",\"aaxis\":{\"gridcolor\":\"white\",\"linecolor\":\"white\",\"ticks\":\"\"},\"baxis\":{\"gridcolor\":\"white\",\"linecolor\":\"white\",\"ticks\":\"\"},\"caxis\":{\"gridcolor\":\"white\",\"linecolor\":\"white\",\"ticks\":\"\"}},\"coloraxis\":{\"colorbar\":{\"outlinewidth\":0,\"ticks\":\"\"}},\"colorscale\":{\"sequential\":[[0.0,\"#0d0887\"],[0.1111111111111111,\"#46039f\"],[0.2222222222222222,\"#7201a8\"],[0.3333333333333333,\"#9c179e\"],[0.4444444444444444,\"#bd3786\"],[0.5555555555555556,\"#d8576b\"],[0.6666666666666666,\"#ed7953\"],[0.7777777777777778,\"#fb9f3a\"],[0.8888888888888888,\"#fdca26\"],[1.0,\"#f0f921\"]],\"sequentialminus\":[[0.0,\"#0d0887\"],[0.1111111111111111,\"#46039f\"],[0.2222222222222222,\"#7201a8\"],[0.3333333333333333,\"#9c179e\"],[0.4444444444444444,\"#bd3786\"],[0.5555555555555556,\"#d8576b\"],[0.6666666666666666,\"#ed7953\"],[0.7777777777777778,\"#fb9f3a\"],[0.8888888888888888,\"#fdca26\"],[1.0,\"#f0f921\"]],\"diverging\":[[0,\"#8e0152\"],[0.1,\"#c51b7d\"],[0.2,\"#de77ae\"],[0.3,\"#f1b6da\"],[0.4,\"#fde0ef\"],[0.5,\"#f7f7f7\"],[0.6,\"#e6f5d0\"],[0.7,\"#b8e186\"],[0.8,\"#7fbc41\"],[0.9,\"#4d9221\"],[1,\"#276419\"]]},\"xaxis\":{\"gridcolor\":\"white\",\"linecolor\":\"white\",\"ticks\":\"\",\"title\":{\"standoff\":15},\"zerolinecolor\":\"white\",\"automargin\":true,\"zerolinewidth\":2},\"yaxis\":{\"gridcolor\":\"white\",\"linecolor\":\"white\",\"ticks\":\"\",\"title\":{\"standoff\":15},\"zerolinecolor\":\"white\",\"automargin\":true,\"zerolinewidth\":2},\"scene\":{\"xaxis\":{\"backgroundcolor\":\"#E5ECF6\",\"gridcolor\":\"white\",\"linecolor\":\"white\",\"showbackground\":true,\"ticks\":\"\",\"zerolinecolor\":\"white\",\"gridwidth\":2},\"yaxis\":{\"backgroundcolor\":\"#E5ECF6\",\"gridcolor\":\"white\",\"linecolor\":\"white\",\"showbackground\":true,\"ticks\":\"\",\"zerolinecolor\":\"white\",\"gridwidth\":2},\"zaxis\":{\"backgroundcolor\":\"#E5ECF6\",\"gridcolor\":\"white\",\"linecolor\":\"white\",\"showbackground\":true,\"ticks\":\"\",\"zerolinecolor\":\"white\",\"gridwidth\":2}},\"shapedefaults\":{\"line\":{\"color\":\"#2a3f5f\"}},\"annotationdefaults\":{\"arrowcolor\":\"#2a3f5f\",\"arrowhead\":0,\"arrowwidth\":1},\"geo\":{\"bgcolor\":\"white\",\"landcolor\":\"#E5ECF6\",\"subunitcolor\":\"white\",\"showland\":true,\"showlakes\":true,\"lakecolor\":\"white\"},\"title\":{\"x\":0.05},\"mapbox\":{\"style\":\"light\"}}},\"legend\":{\"tracegroupgap\":0},\"margin\":{\"t\":60}},                        {\"responsive\": true}                    ).then(function(){\n",
       "                            \n",
       "var gd = document.getElementById('e67a3c19-b2e3-406d-92df-58a298893e97');\n",
       "var x = new MutationObserver(function (mutations, observer) {{\n",
       "        var display = window.getComputedStyle(gd).display;\n",
       "        if (!display || display === 'none') {{\n",
       "            console.log([gd, 'removed!']);\n",
       "            Plotly.purge(gd);\n",
       "            observer.disconnect();\n",
       "        }}\n",
       "}});\n",
       "\n",
       "// Listen for the removal of the full notebook cells\n",
       "var notebookContainer = gd.closest('#notebook-container');\n",
       "if (notebookContainer) {{\n",
       "    x.observe(notebookContainer, {childList: true});\n",
       "}}\n",
       "\n",
       "// Listen for the clearing of the current output cell\n",
       "var outputEl = gd.closest('.output');\n",
       "if (outputEl) {{\n",
       "    x.observe(outputEl, {childList: true});\n",
       "}}\n",
       "\n",
       "                        })                };                });            </script>        </div>"
      ]
     },
     "metadata": {},
     "output_type": "display_data"
    }
   ],
   "source": [
    "fig=px.pie(values=df['Previous Geekions'],names=df[\"Department\"])\n",
    "fig.show()"
   ]
  },
  {
   "cell_type": "code",
   "execution_count": 24,
   "metadata": {},
   "outputs": [
    {
     "data": {
      "application/vnd.plotly.v1+json": {
       "config": {
        "plotlyServerURL": "https://plotly.com"
       },
       "data": [
        {
         "domain": {
          "x": [
           0,
           1
          ],
          "y": [
           0,
           1
          ]
         },
         "hovertemplate": "label=%{label}<br>value=%{value}<extra></extra>",
         "labels": [
          "Computer Science and Engineering",
          "Computer Science and Engineering",
          "Computer Science and Engineering",
          "Computer Science and Engineering",
          "Computer Science and Engineering",
          "Computer Science and Engineering",
          "Electronics and Communication Engineering",
          "Computer Science and Engineering",
          "Electronics and Communication Engineering",
          "Computer Science and Engineering",
          "Electronics and Communication Engineering",
          "Computer Science and Engineering",
          "Computer Science and Engineering",
          "Computer Science and Engineering",
          "Electronics and Communication Engineering",
          "Computer Science and Engineering",
          "Computer Science and Engineering",
          "Electronics and Communication Engineering",
          "Electronics and Communication Engineering",
          "Computer Science and Engineering",
          "Computer Science and Engineering",
          "Electronics and Communication Engineering",
          "Computer Science and Engineering",
          "Computer Science and Engineering",
          "Computer Science and Engineering",
          "Electronics and Communication Engineering",
          "Computer Science and Engineering",
          "Electronics and Communication Engineering",
          "Computer Science and Engineering",
          "Computer Science and Engineering",
          "Computer Science and Engineering",
          "Computer Science and Engineering",
          "Electronics and Communication Engineering",
          "Computer Science and Engineering",
          "Computer Science and Engineering",
          "Electronics and Communication Engineering",
          "Computer Science and Engineering",
          "Computer Science and Engineering",
          "Computer Science and Engineering",
          "Electronics and Communication Engineering",
          "Computer Science and Engineering",
          "Computer Science and Engineering",
          "Electronics and Communication Engineering",
          "Electronics and Communication Engineering",
          "Computer Science and Engineering",
          "Computer Science and Engineering",
          "Electronics and Communication Engineering",
          "Electronics and Communication Engineering",
          "Computer Science and Engineering",
          "Electronics and Communication Engineering",
          "Electronics and Communication Engineering",
          "Electronics and Communication Engineering",
          "Electronics and Communication Engineering",
          "Electronics and Communication Engineering",
          "Electronics and Communication Engineering",
          "Electronics and Communication Engineering",
          "Computer Science and Engineering",
          "Electronics and Communication Engineering",
          "Electronics and Communication Engineering",
          "Computer Science and Engineering",
          "Electronics and Communication Engineering",
          "Computer Science and Engineering",
          "Computer Science and Engineering",
          "Electronics and Communication Engineering",
          "Electronics and Electrical Engineering",
          "Computer Science and Engineering",
          "Computer Science and Engineering",
          "Electronics and Communication Engineering",
          "Electronics and Communication Engineering",
          "Computer Science and Engineering",
          "Electronics and Communication Engineering",
          "Electronics and Electrical Engineering",
          "Electronics and Electrical Engineering",
          "Electronics and Communication Engineering",
          "Electronics and Electrical Engineering",
          "Electronics and Electrical Engineering",
          "Computer Science and Engineering",
          "Electronics and Electrical Engineering",
          "Electronics and Electrical Engineering",
          "Electronics and Electrical Engineering",
          "Electronics and Electrical Engineering",
          "Electronics and Electrical Engineering",
          "Electronics and Electrical Engineering",
          "Electronics and Electrical Engineering",
          "Electronics and Electrical Engineering",
          "Computer Science and Engineering",
          "Computer Science and Engineering",
          "Electronics and Communication Engineering",
          "Electronics and Electrical Engineering",
          "Computer Science and Engineering",
          "Computer Science and Engineering",
          "Electronics and Communication Engineering",
          "Electronics and Electrical Engineering",
          "Electronics and Electrical Engineering",
          "Computer Science and Engineering",
          "Computer Science and Engineering",
          "Electronics and Electrical Engineering",
          "Computer Science and Engineering",
          "Electronics and Communication Engineering",
          "Computer Science and Engineering",
          "Electronics and Communication Engineering",
          "Computer Science and Engineering",
          "Computer Science and Engineering",
          "Computer Science and Engineering",
          "Computer Science and Engineering",
          "Computer Science and Engineering",
          "Computer Science and Engineering",
          "Computer Science and Engineering",
          "Electronics and Communication Engineering",
          "Computer Science and Engineering",
          "Computer Science and Engineering",
          "Computer Science and Engineering",
          "Computer Science and Engineering",
          "Electronics and Communication Engineering",
          "Computer Science and Engineering",
          "Electronics and Communication Engineering",
          "Electronics and Communication Engineering",
          "Computer Science and Engineering",
          "Computer Science and Engineering"
         ],
         "legendgroup": "",
         "name": "",
         "showlegend": true,
         "type": "pie",
         "values": [
          24500,
          21740,
          19680,
          10610,
          8980,
          8200,
          7880,
          7020,
          5860,
          5500,
          5400,
          5380,
          5280,
          5120,
          4800,
          4600,
          4510,
          4370,
          4320,
          4090,
          3915,
          3665,
          3460,
          3280,
          3200,
          3200,
          3110,
          3000,
          2570,
          2410,
          2360,
          2260,
          2240,
          2160,
          1910,
          1910,
          1900,
          1880,
          1880,
          1740,
          1680,
          1580,
          1580,
          1440,
          1350,
          1320,
          1240,
          1130,
          1100,
          1020,
          980,
          950,
          850,
          800,
          770,
          760,
          720,
          690,
          580,
          490,
          410,
          380,
          300,
          270,
          260,
          200,
          180,
          170,
          160,
          120,
          120,
          120,
          120,
          100,
          100,
          60,
          40,
          40,
          40,
          0,
          0,
          0,
          0,
          0,
          19400,
          14490,
          10790,
          10040,
          9150,
          8970,
          8950,
          8650,
          8320,
          8160,
          8090,
          8050,
          8030,
          7940,
          7730,
          7640,
          7630,
          7550,
          6800,
          6640,
          6290,
          6090,
          5740,
          5200,
          5050,
          4820,
          4440,
          4170,
          4020,
          3220,
          2380,
          1890,
          1720,
          0,
          0
         ]
        }
       ],
       "layout": {
        "legend": {
         "tracegroupgap": 0
        },
        "margin": {
         "t": 60
        },
        "template": {
         "data": {
          "bar": [
           {
            "error_x": {
             "color": "#2a3f5f"
            },
            "error_y": {
             "color": "#2a3f5f"
            },
            "marker": {
             "line": {
              "color": "#E5ECF6",
              "width": 0.5
             },
             "pattern": {
              "fillmode": "overlay",
              "size": 10,
              "solidity": 0.2
             }
            },
            "type": "bar"
           }
          ],
          "barpolar": [
           {
            "marker": {
             "line": {
              "color": "#E5ECF6",
              "width": 0.5
             },
             "pattern": {
              "fillmode": "overlay",
              "size": 10,
              "solidity": 0.2
             }
            },
            "type": "barpolar"
           }
          ],
          "carpet": [
           {
            "aaxis": {
             "endlinecolor": "#2a3f5f",
             "gridcolor": "white",
             "linecolor": "white",
             "minorgridcolor": "white",
             "startlinecolor": "#2a3f5f"
            },
            "baxis": {
             "endlinecolor": "#2a3f5f",
             "gridcolor": "white",
             "linecolor": "white",
             "minorgridcolor": "white",
             "startlinecolor": "#2a3f5f"
            },
            "type": "carpet"
           }
          ],
          "choropleth": [
           {
            "colorbar": {
             "outlinewidth": 0,
             "ticks": ""
            },
            "type": "choropleth"
           }
          ],
          "contour": [
           {
            "colorbar": {
             "outlinewidth": 0,
             "ticks": ""
            },
            "colorscale": [
             [
              0,
              "#0d0887"
             ],
             [
              0.1111111111111111,
              "#46039f"
             ],
             [
              0.2222222222222222,
              "#7201a8"
             ],
             [
              0.3333333333333333,
              "#9c179e"
             ],
             [
              0.4444444444444444,
              "#bd3786"
             ],
             [
              0.5555555555555556,
              "#d8576b"
             ],
             [
              0.6666666666666666,
              "#ed7953"
             ],
             [
              0.7777777777777778,
              "#fb9f3a"
             ],
             [
              0.8888888888888888,
              "#fdca26"
             ],
             [
              1,
              "#f0f921"
             ]
            ],
            "type": "contour"
           }
          ],
          "contourcarpet": [
           {
            "colorbar": {
             "outlinewidth": 0,
             "ticks": ""
            },
            "type": "contourcarpet"
           }
          ],
          "heatmap": [
           {
            "colorbar": {
             "outlinewidth": 0,
             "ticks": ""
            },
            "colorscale": [
             [
              0,
              "#0d0887"
             ],
             [
              0.1111111111111111,
              "#46039f"
             ],
             [
              0.2222222222222222,
              "#7201a8"
             ],
             [
              0.3333333333333333,
              "#9c179e"
             ],
             [
              0.4444444444444444,
              "#bd3786"
             ],
             [
              0.5555555555555556,
              "#d8576b"
             ],
             [
              0.6666666666666666,
              "#ed7953"
             ],
             [
              0.7777777777777778,
              "#fb9f3a"
             ],
             [
              0.8888888888888888,
              "#fdca26"
             ],
             [
              1,
              "#f0f921"
             ]
            ],
            "type": "heatmap"
           }
          ],
          "heatmapgl": [
           {
            "colorbar": {
             "outlinewidth": 0,
             "ticks": ""
            },
            "colorscale": [
             [
              0,
              "#0d0887"
             ],
             [
              0.1111111111111111,
              "#46039f"
             ],
             [
              0.2222222222222222,
              "#7201a8"
             ],
             [
              0.3333333333333333,
              "#9c179e"
             ],
             [
              0.4444444444444444,
              "#bd3786"
             ],
             [
              0.5555555555555556,
              "#d8576b"
             ],
             [
              0.6666666666666666,
              "#ed7953"
             ],
             [
              0.7777777777777778,
              "#fb9f3a"
             ],
             [
              0.8888888888888888,
              "#fdca26"
             ],
             [
              1,
              "#f0f921"
             ]
            ],
            "type": "heatmapgl"
           }
          ],
          "histogram": [
           {
            "marker": {
             "pattern": {
              "fillmode": "overlay",
              "size": 10,
              "solidity": 0.2
             }
            },
            "type": "histogram"
           }
          ],
          "histogram2d": [
           {
            "colorbar": {
             "outlinewidth": 0,
             "ticks": ""
            },
            "colorscale": [
             [
              0,
              "#0d0887"
             ],
             [
              0.1111111111111111,
              "#46039f"
             ],
             [
              0.2222222222222222,
              "#7201a8"
             ],
             [
              0.3333333333333333,
              "#9c179e"
             ],
             [
              0.4444444444444444,
              "#bd3786"
             ],
             [
              0.5555555555555556,
              "#d8576b"
             ],
             [
              0.6666666666666666,
              "#ed7953"
             ],
             [
              0.7777777777777778,
              "#fb9f3a"
             ],
             [
              0.8888888888888888,
              "#fdca26"
             ],
             [
              1,
              "#f0f921"
             ]
            ],
            "type": "histogram2d"
           }
          ],
          "histogram2dcontour": [
           {
            "colorbar": {
             "outlinewidth": 0,
             "ticks": ""
            },
            "colorscale": [
             [
              0,
              "#0d0887"
             ],
             [
              0.1111111111111111,
              "#46039f"
             ],
             [
              0.2222222222222222,
              "#7201a8"
             ],
             [
              0.3333333333333333,
              "#9c179e"
             ],
             [
              0.4444444444444444,
              "#bd3786"
             ],
             [
              0.5555555555555556,
              "#d8576b"
             ],
             [
              0.6666666666666666,
              "#ed7953"
             ],
             [
              0.7777777777777778,
              "#fb9f3a"
             ],
             [
              0.8888888888888888,
              "#fdca26"
             ],
             [
              1,
              "#f0f921"
             ]
            ],
            "type": "histogram2dcontour"
           }
          ],
          "mesh3d": [
           {
            "colorbar": {
             "outlinewidth": 0,
             "ticks": ""
            },
            "type": "mesh3d"
           }
          ],
          "parcoords": [
           {
            "line": {
             "colorbar": {
              "outlinewidth": 0,
              "ticks": ""
             }
            },
            "type": "parcoords"
           }
          ],
          "pie": [
           {
            "automargin": true,
            "type": "pie"
           }
          ],
          "scatter": [
           {
            "fillpattern": {
             "fillmode": "overlay",
             "size": 10,
             "solidity": 0.2
            },
            "type": "scatter"
           }
          ],
          "scatter3d": [
           {
            "line": {
             "colorbar": {
              "outlinewidth": 0,
              "ticks": ""
             }
            },
            "marker": {
             "colorbar": {
              "outlinewidth": 0,
              "ticks": ""
             }
            },
            "type": "scatter3d"
           }
          ],
          "scattercarpet": [
           {
            "marker": {
             "colorbar": {
              "outlinewidth": 0,
              "ticks": ""
             }
            },
            "type": "scattercarpet"
           }
          ],
          "scattergeo": [
           {
            "marker": {
             "colorbar": {
              "outlinewidth": 0,
              "ticks": ""
             }
            },
            "type": "scattergeo"
           }
          ],
          "scattergl": [
           {
            "marker": {
             "colorbar": {
              "outlinewidth": 0,
              "ticks": ""
             }
            },
            "type": "scattergl"
           }
          ],
          "scattermapbox": [
           {
            "marker": {
             "colorbar": {
              "outlinewidth": 0,
              "ticks": ""
             }
            },
            "type": "scattermapbox"
           }
          ],
          "scatterpolar": [
           {
            "marker": {
             "colorbar": {
              "outlinewidth": 0,
              "ticks": ""
             }
            },
            "type": "scatterpolar"
           }
          ],
          "scatterpolargl": [
           {
            "marker": {
             "colorbar": {
              "outlinewidth": 0,
              "ticks": ""
             }
            },
            "type": "scatterpolargl"
           }
          ],
          "scatterternary": [
           {
            "marker": {
             "colorbar": {
              "outlinewidth": 0,
              "ticks": ""
             }
            },
            "type": "scatterternary"
           }
          ],
          "surface": [
           {
            "colorbar": {
             "outlinewidth": 0,
             "ticks": ""
            },
            "colorscale": [
             [
              0,
              "#0d0887"
             ],
             [
              0.1111111111111111,
              "#46039f"
             ],
             [
              0.2222222222222222,
              "#7201a8"
             ],
             [
              0.3333333333333333,
              "#9c179e"
             ],
             [
              0.4444444444444444,
              "#bd3786"
             ],
             [
              0.5555555555555556,
              "#d8576b"
             ],
             [
              0.6666666666666666,
              "#ed7953"
             ],
             [
              0.7777777777777778,
              "#fb9f3a"
             ],
             [
              0.8888888888888888,
              "#fdca26"
             ],
             [
              1,
              "#f0f921"
             ]
            ],
            "type": "surface"
           }
          ],
          "table": [
           {
            "cells": {
             "fill": {
              "color": "#EBF0F8"
             },
             "line": {
              "color": "white"
             }
            },
            "header": {
             "fill": {
              "color": "#C8D4E3"
             },
             "line": {
              "color": "white"
             }
            },
            "type": "table"
           }
          ]
         },
         "layout": {
          "annotationdefaults": {
           "arrowcolor": "#2a3f5f",
           "arrowhead": 0,
           "arrowwidth": 1
          },
          "autotypenumbers": "strict",
          "coloraxis": {
           "colorbar": {
            "outlinewidth": 0,
            "ticks": ""
           }
          },
          "colorscale": {
           "diverging": [
            [
             0,
             "#8e0152"
            ],
            [
             0.1,
             "#c51b7d"
            ],
            [
             0.2,
             "#de77ae"
            ],
            [
             0.3,
             "#f1b6da"
            ],
            [
             0.4,
             "#fde0ef"
            ],
            [
             0.5,
             "#f7f7f7"
            ],
            [
             0.6,
             "#e6f5d0"
            ],
            [
             0.7,
             "#b8e186"
            ],
            [
             0.8,
             "#7fbc41"
            ],
            [
             0.9,
             "#4d9221"
            ],
            [
             1,
             "#276419"
            ]
           ],
           "sequential": [
            [
             0,
             "#0d0887"
            ],
            [
             0.1111111111111111,
             "#46039f"
            ],
            [
             0.2222222222222222,
             "#7201a8"
            ],
            [
             0.3333333333333333,
             "#9c179e"
            ],
            [
             0.4444444444444444,
             "#bd3786"
            ],
            [
             0.5555555555555556,
             "#d8576b"
            ],
            [
             0.6666666666666666,
             "#ed7953"
            ],
            [
             0.7777777777777778,
             "#fb9f3a"
            ],
            [
             0.8888888888888888,
             "#fdca26"
            ],
            [
             1,
             "#f0f921"
            ]
           ],
           "sequentialminus": [
            [
             0,
             "#0d0887"
            ],
            [
             0.1111111111111111,
             "#46039f"
            ],
            [
             0.2222222222222222,
             "#7201a8"
            ],
            [
             0.3333333333333333,
             "#9c179e"
            ],
            [
             0.4444444444444444,
             "#bd3786"
            ],
            [
             0.5555555555555556,
             "#d8576b"
            ],
            [
             0.6666666666666666,
             "#ed7953"
            ],
            [
             0.7777777777777778,
             "#fb9f3a"
            ],
            [
             0.8888888888888888,
             "#fdca26"
            ],
            [
             1,
             "#f0f921"
            ]
           ]
          },
          "colorway": [
           "#636efa",
           "#EF553B",
           "#00cc96",
           "#ab63fa",
           "#FFA15A",
           "#19d3f3",
           "#FF6692",
           "#B6E880",
           "#FF97FF",
           "#FECB52"
          ],
          "font": {
           "color": "#2a3f5f"
          },
          "geo": {
           "bgcolor": "white",
           "lakecolor": "white",
           "landcolor": "#E5ECF6",
           "showlakes": true,
           "showland": true,
           "subunitcolor": "white"
          },
          "hoverlabel": {
           "align": "left"
          },
          "hovermode": "closest",
          "mapbox": {
           "style": "light"
          },
          "paper_bgcolor": "white",
          "plot_bgcolor": "#E5ECF6",
          "polar": {
           "angularaxis": {
            "gridcolor": "white",
            "linecolor": "white",
            "ticks": ""
           },
           "bgcolor": "#E5ECF6",
           "radialaxis": {
            "gridcolor": "white",
            "linecolor": "white",
            "ticks": ""
           }
          },
          "scene": {
           "xaxis": {
            "backgroundcolor": "#E5ECF6",
            "gridcolor": "white",
            "gridwidth": 2,
            "linecolor": "white",
            "showbackground": true,
            "ticks": "",
            "zerolinecolor": "white"
           },
           "yaxis": {
            "backgroundcolor": "#E5ECF6",
            "gridcolor": "white",
            "gridwidth": 2,
            "linecolor": "white",
            "showbackground": true,
            "ticks": "",
            "zerolinecolor": "white"
           },
           "zaxis": {
            "backgroundcolor": "#E5ECF6",
            "gridcolor": "white",
            "gridwidth": 2,
            "linecolor": "white",
            "showbackground": true,
            "ticks": "",
            "zerolinecolor": "white"
           }
          },
          "shapedefaults": {
           "line": {
            "color": "#2a3f5f"
           }
          },
          "ternary": {
           "aaxis": {
            "gridcolor": "white",
            "linecolor": "white",
            "ticks": ""
           },
           "baxis": {
            "gridcolor": "white",
            "linecolor": "white",
            "ticks": ""
           },
           "bgcolor": "#E5ECF6",
           "caxis": {
            "gridcolor": "white",
            "linecolor": "white",
            "ticks": ""
           }
          },
          "title": {
           "x": 0.05
          },
          "xaxis": {
           "automargin": true,
           "gridcolor": "white",
           "linecolor": "white",
           "ticks": "",
           "title": {
            "standoff": 15
           },
           "zerolinecolor": "white",
           "zerolinewidth": 2
          },
          "yaxis": {
           "automargin": true,
           "gridcolor": "white",
           "linecolor": "white",
           "ticks": "",
           "title": {
            "standoff": 15
           },
           "zerolinecolor": "white",
           "zerolinewidth": 2
          }
         }
        }
       }
      },
      "text/html": [
       "<div>                            <div id=\"9996900c-21e6-4919-8bf5-7159250a13f4\" class=\"plotly-graph-div\" style=\"height:525px; width:100%;\"></div>            <script type=\"text/javascript\">                require([\"plotly\"], function(Plotly) {                    window.PLOTLYENV=window.PLOTLYENV || {};                                    if (document.getElementById(\"9996900c-21e6-4919-8bf5-7159250a13f4\")) {                    Plotly.newPlot(                        \"9996900c-21e6-4919-8bf5-7159250a13f4\",                        [{\"domain\":{\"x\":[0.0,1.0],\"y\":[0.0,1.0]},\"hovertemplate\":\"label=%{label}<br>value=%{value}<extra></extra>\",\"labels\":[\"Computer Science and Engineering\",\"Computer Science and Engineering\",\"Computer Science and Engineering\",\"Computer Science and Engineering\",\"Computer Science and Engineering\",\"Computer Science and Engineering\",\"Electronics and Communication Engineering\",\"Computer Science and Engineering\",\"Electronics and Communication Engineering\",\"Computer Science and Engineering\",\"Electronics and Communication Engineering\",\"Computer Science and Engineering\",\"Computer Science and Engineering\",\"Computer Science and Engineering\",\"Electronics and Communication Engineering\",\"Computer Science and Engineering\",\"Computer Science and Engineering\",\"Electronics and Communication Engineering\",\"Electronics and Communication Engineering\",\"Computer Science and Engineering\",\"Computer Science and Engineering\",\"Electronics and Communication Engineering\",\"Computer Science and Engineering\",\"Computer Science and Engineering\",\"Computer Science and Engineering\",\"Electronics and Communication Engineering\",\"Computer Science and Engineering\",\"Electronics and Communication Engineering\",\"Computer Science and Engineering\",\"Computer Science and Engineering\",\"Computer Science and Engineering\",\"Computer Science and Engineering\",\"Electronics and Communication Engineering\",\"Computer Science and Engineering\",\"Computer Science and Engineering\",\"Electronics and Communication Engineering\",\"Computer Science and Engineering\",\"Computer Science and Engineering\",\"Computer Science and Engineering\",\"Electronics and Communication Engineering\",\"Computer Science and Engineering\",\"Computer Science and Engineering\",\"Electronics and Communication Engineering\",\"Electronics and Communication Engineering\",\"Computer Science and Engineering\",\"Computer Science and Engineering\",\"Electronics and Communication Engineering\",\"Electronics and Communication Engineering\",\"Computer Science and Engineering\",\"Electronics and Communication Engineering\",\"Electronics and Communication Engineering\",\"Electronics and Communication Engineering\",\"Electronics and Communication Engineering\",\"Electronics and Communication Engineering\",\"Electronics and Communication Engineering\",\"Electronics and Communication Engineering\",\"Computer Science and Engineering\",\"Electronics and Communication Engineering\",\"Electronics and Communication Engineering\",\"Computer Science and Engineering\",\"Electronics and Communication Engineering\",\"Computer Science and Engineering\",\"Computer Science and Engineering\",\"Electronics and Communication Engineering\",\"Electronics and Electrical Engineering\",\"Computer Science and Engineering\",\"Computer Science and Engineering\",\"Electronics and Communication Engineering\",\"Electronics and Communication Engineering\",\"Computer Science and Engineering\",\"Electronics and Communication Engineering\",\"Electronics and Electrical Engineering\",\"Electronics and Electrical Engineering\",\"Electronics and Communication Engineering\",\"Electronics and Electrical Engineering\",\"Electronics and Electrical Engineering\",\"Computer Science and Engineering\",\"Electronics and Electrical Engineering\",\"Electronics and Electrical Engineering\",\"Electronics and Electrical Engineering\",\"Electronics and Electrical Engineering\",\"Electronics and Electrical Engineering\",\"Electronics and Electrical Engineering\",\"Electronics and Electrical Engineering\",\"Electronics and Electrical Engineering\",\"Computer Science and Engineering\",\"Computer Science and Engineering\",\"Electronics and Communication Engineering\",\"Electronics and Electrical Engineering\",\"Computer Science and Engineering\",\"Computer Science and Engineering\",\"Electronics and Communication Engineering\",\"Electronics and Electrical Engineering\",\"Electronics and Electrical Engineering\",\"Computer Science and Engineering\",\"Computer Science and Engineering\",\"Electronics and Electrical Engineering\",\"Computer Science and Engineering\",\"Electronics and Communication Engineering\",\"Computer Science and Engineering\",\"Electronics and Communication Engineering\",\"Computer Science and Engineering\",\"Computer Science and Engineering\",\"Computer Science and Engineering\",\"Computer Science and Engineering\",\"Computer Science and Engineering\",\"Computer Science and Engineering\",\"Computer Science and Engineering\",\"Electronics and Communication Engineering\",\"Computer Science and Engineering\",\"Computer Science and Engineering\",\"Computer Science and Engineering\",\"Computer Science and Engineering\",\"Electronics and Communication Engineering\",\"Computer Science and Engineering\",\"Electronics and Communication Engineering\",\"Electronics and Communication Engineering\",\"Computer Science and Engineering\",\"Computer Science and Engineering\"],\"legendgroup\":\"\",\"name\":\"\",\"showlegend\":true,\"values\":[24500,21740,19680,10610,8980,8200,7880,7020,5860,5500,5400,5380,5280,5120,4800,4600,4510,4370,4320,4090,3915,3665,3460,3280,3200,3200,3110,3000,2570,2410,2360,2260,2240,2160,1910,1910,1900,1880,1880,1740,1680,1580,1580,1440,1350,1320,1240,1130,1100,1020,980,950,850,800,770,760,720,690,580,490,410,380,300,270,260,200,180,170,160,120,120,120,120,100,100,60,40,40,40,0,0,0,0,0,19400,14490,10790,10040,9150,8970,8950,8650,8320,8160,8090,8050,8030,7940,7730,7640,7630,7550,6800,6640,6290,6090,5740,5200,5050,4820,4440,4170,4020,3220,2380,1890,1720,0,0],\"type\":\"pie\"}],                        {\"template\":{\"data\":{\"histogram2dcontour\":[{\"type\":\"histogram2dcontour\",\"colorbar\":{\"outlinewidth\":0,\"ticks\":\"\"},\"colorscale\":[[0.0,\"#0d0887\"],[0.1111111111111111,\"#46039f\"],[0.2222222222222222,\"#7201a8\"],[0.3333333333333333,\"#9c179e\"],[0.4444444444444444,\"#bd3786\"],[0.5555555555555556,\"#d8576b\"],[0.6666666666666666,\"#ed7953\"],[0.7777777777777778,\"#fb9f3a\"],[0.8888888888888888,\"#fdca26\"],[1.0,\"#f0f921\"]]}],\"choropleth\":[{\"type\":\"choropleth\",\"colorbar\":{\"outlinewidth\":0,\"ticks\":\"\"}}],\"histogram2d\":[{\"type\":\"histogram2d\",\"colorbar\":{\"outlinewidth\":0,\"ticks\":\"\"},\"colorscale\":[[0.0,\"#0d0887\"],[0.1111111111111111,\"#46039f\"],[0.2222222222222222,\"#7201a8\"],[0.3333333333333333,\"#9c179e\"],[0.4444444444444444,\"#bd3786\"],[0.5555555555555556,\"#d8576b\"],[0.6666666666666666,\"#ed7953\"],[0.7777777777777778,\"#fb9f3a\"],[0.8888888888888888,\"#fdca26\"],[1.0,\"#f0f921\"]]}],\"heatmap\":[{\"type\":\"heatmap\",\"colorbar\":{\"outlinewidth\":0,\"ticks\":\"\"},\"colorscale\":[[0.0,\"#0d0887\"],[0.1111111111111111,\"#46039f\"],[0.2222222222222222,\"#7201a8\"],[0.3333333333333333,\"#9c179e\"],[0.4444444444444444,\"#bd3786\"],[0.5555555555555556,\"#d8576b\"],[0.6666666666666666,\"#ed7953\"],[0.7777777777777778,\"#fb9f3a\"],[0.8888888888888888,\"#fdca26\"],[1.0,\"#f0f921\"]]}],\"heatmapgl\":[{\"type\":\"heatmapgl\",\"colorbar\":{\"outlinewidth\":0,\"ticks\":\"\"},\"colorscale\":[[0.0,\"#0d0887\"],[0.1111111111111111,\"#46039f\"],[0.2222222222222222,\"#7201a8\"],[0.3333333333333333,\"#9c179e\"],[0.4444444444444444,\"#bd3786\"],[0.5555555555555556,\"#d8576b\"],[0.6666666666666666,\"#ed7953\"],[0.7777777777777778,\"#fb9f3a\"],[0.8888888888888888,\"#fdca26\"],[1.0,\"#f0f921\"]]}],\"contourcarpet\":[{\"type\":\"contourcarpet\",\"colorbar\":{\"outlinewidth\":0,\"ticks\":\"\"}}],\"contour\":[{\"type\":\"contour\",\"colorbar\":{\"outlinewidth\":0,\"ticks\":\"\"},\"colorscale\":[[0.0,\"#0d0887\"],[0.1111111111111111,\"#46039f\"],[0.2222222222222222,\"#7201a8\"],[0.3333333333333333,\"#9c179e\"],[0.4444444444444444,\"#bd3786\"],[0.5555555555555556,\"#d8576b\"],[0.6666666666666666,\"#ed7953\"],[0.7777777777777778,\"#fb9f3a\"],[0.8888888888888888,\"#fdca26\"],[1.0,\"#f0f921\"]]}],\"surface\":[{\"type\":\"surface\",\"colorbar\":{\"outlinewidth\":0,\"ticks\":\"\"},\"colorscale\":[[0.0,\"#0d0887\"],[0.1111111111111111,\"#46039f\"],[0.2222222222222222,\"#7201a8\"],[0.3333333333333333,\"#9c179e\"],[0.4444444444444444,\"#bd3786\"],[0.5555555555555556,\"#d8576b\"],[0.6666666666666666,\"#ed7953\"],[0.7777777777777778,\"#fb9f3a\"],[0.8888888888888888,\"#fdca26\"],[1.0,\"#f0f921\"]]}],\"mesh3d\":[{\"type\":\"mesh3d\",\"colorbar\":{\"outlinewidth\":0,\"ticks\":\"\"}}],\"scatter\":[{\"fillpattern\":{\"fillmode\":\"overlay\",\"size\":10,\"solidity\":0.2},\"type\":\"scatter\"}],\"parcoords\":[{\"type\":\"parcoords\",\"line\":{\"colorbar\":{\"outlinewidth\":0,\"ticks\":\"\"}}}],\"scatterpolargl\":[{\"type\":\"scatterpolargl\",\"marker\":{\"colorbar\":{\"outlinewidth\":0,\"ticks\":\"\"}}}],\"bar\":[{\"error_x\":{\"color\":\"#2a3f5f\"},\"error_y\":{\"color\":\"#2a3f5f\"},\"marker\":{\"line\":{\"color\":\"#E5ECF6\",\"width\":0.5},\"pattern\":{\"fillmode\":\"overlay\",\"size\":10,\"solidity\":0.2}},\"type\":\"bar\"}],\"scattergeo\":[{\"type\":\"scattergeo\",\"marker\":{\"colorbar\":{\"outlinewidth\":0,\"ticks\":\"\"}}}],\"scatterpolar\":[{\"type\":\"scatterpolar\",\"marker\":{\"colorbar\":{\"outlinewidth\":0,\"ticks\":\"\"}}}],\"histogram\":[{\"marker\":{\"pattern\":{\"fillmode\":\"overlay\",\"size\":10,\"solidity\":0.2}},\"type\":\"histogram\"}],\"scattergl\":[{\"type\":\"scattergl\",\"marker\":{\"colorbar\":{\"outlinewidth\":0,\"ticks\":\"\"}}}],\"scatter3d\":[{\"type\":\"scatter3d\",\"line\":{\"colorbar\":{\"outlinewidth\":0,\"ticks\":\"\"}},\"marker\":{\"colorbar\":{\"outlinewidth\":0,\"ticks\":\"\"}}}],\"scattermapbox\":[{\"type\":\"scattermapbox\",\"marker\":{\"colorbar\":{\"outlinewidth\":0,\"ticks\":\"\"}}}],\"scatterternary\":[{\"type\":\"scatterternary\",\"marker\":{\"colorbar\":{\"outlinewidth\":0,\"ticks\":\"\"}}}],\"scattercarpet\":[{\"type\":\"scattercarpet\",\"marker\":{\"colorbar\":{\"outlinewidth\":0,\"ticks\":\"\"}}}],\"carpet\":[{\"aaxis\":{\"endlinecolor\":\"#2a3f5f\",\"gridcolor\":\"white\",\"linecolor\":\"white\",\"minorgridcolor\":\"white\",\"startlinecolor\":\"#2a3f5f\"},\"baxis\":{\"endlinecolor\":\"#2a3f5f\",\"gridcolor\":\"white\",\"linecolor\":\"white\",\"minorgridcolor\":\"white\",\"startlinecolor\":\"#2a3f5f\"},\"type\":\"carpet\"}],\"table\":[{\"cells\":{\"fill\":{\"color\":\"#EBF0F8\"},\"line\":{\"color\":\"white\"}},\"header\":{\"fill\":{\"color\":\"#C8D4E3\"},\"line\":{\"color\":\"white\"}},\"type\":\"table\"}],\"barpolar\":[{\"marker\":{\"line\":{\"color\":\"#E5ECF6\",\"width\":0.5},\"pattern\":{\"fillmode\":\"overlay\",\"size\":10,\"solidity\":0.2}},\"type\":\"barpolar\"}],\"pie\":[{\"automargin\":true,\"type\":\"pie\"}]},\"layout\":{\"autotypenumbers\":\"strict\",\"colorway\":[\"#636efa\",\"#EF553B\",\"#00cc96\",\"#ab63fa\",\"#FFA15A\",\"#19d3f3\",\"#FF6692\",\"#B6E880\",\"#FF97FF\",\"#FECB52\"],\"font\":{\"color\":\"#2a3f5f\"},\"hovermode\":\"closest\",\"hoverlabel\":{\"align\":\"left\"},\"paper_bgcolor\":\"white\",\"plot_bgcolor\":\"#E5ECF6\",\"polar\":{\"bgcolor\":\"#E5ECF6\",\"angularaxis\":{\"gridcolor\":\"white\",\"linecolor\":\"white\",\"ticks\":\"\"},\"radialaxis\":{\"gridcolor\":\"white\",\"linecolor\":\"white\",\"ticks\":\"\"}},\"ternary\":{\"bgcolor\":\"#E5ECF6\",\"aaxis\":{\"gridcolor\":\"white\",\"linecolor\":\"white\",\"ticks\":\"\"},\"baxis\":{\"gridcolor\":\"white\",\"linecolor\":\"white\",\"ticks\":\"\"},\"caxis\":{\"gridcolor\":\"white\",\"linecolor\":\"white\",\"ticks\":\"\"}},\"coloraxis\":{\"colorbar\":{\"outlinewidth\":0,\"ticks\":\"\"}},\"colorscale\":{\"sequential\":[[0.0,\"#0d0887\"],[0.1111111111111111,\"#46039f\"],[0.2222222222222222,\"#7201a8\"],[0.3333333333333333,\"#9c179e\"],[0.4444444444444444,\"#bd3786\"],[0.5555555555555556,\"#d8576b\"],[0.6666666666666666,\"#ed7953\"],[0.7777777777777778,\"#fb9f3a\"],[0.8888888888888888,\"#fdca26\"],[1.0,\"#f0f921\"]],\"sequentialminus\":[[0.0,\"#0d0887\"],[0.1111111111111111,\"#46039f\"],[0.2222222222222222,\"#7201a8\"],[0.3333333333333333,\"#9c179e\"],[0.4444444444444444,\"#bd3786\"],[0.5555555555555556,\"#d8576b\"],[0.6666666666666666,\"#ed7953\"],[0.7777777777777778,\"#fb9f3a\"],[0.8888888888888888,\"#fdca26\"],[1.0,\"#f0f921\"]],\"diverging\":[[0,\"#8e0152\"],[0.1,\"#c51b7d\"],[0.2,\"#de77ae\"],[0.3,\"#f1b6da\"],[0.4,\"#fde0ef\"],[0.5,\"#f7f7f7\"],[0.6,\"#e6f5d0\"],[0.7,\"#b8e186\"],[0.8,\"#7fbc41\"],[0.9,\"#4d9221\"],[1,\"#276419\"]]},\"xaxis\":{\"gridcolor\":\"white\",\"linecolor\":\"white\",\"ticks\":\"\",\"title\":{\"standoff\":15},\"zerolinecolor\":\"white\",\"automargin\":true,\"zerolinewidth\":2},\"yaxis\":{\"gridcolor\":\"white\",\"linecolor\":\"white\",\"ticks\":\"\",\"title\":{\"standoff\":15},\"zerolinecolor\":\"white\",\"automargin\":true,\"zerolinewidth\":2},\"scene\":{\"xaxis\":{\"backgroundcolor\":\"#E5ECF6\",\"gridcolor\":\"white\",\"linecolor\":\"white\",\"showbackground\":true,\"ticks\":\"\",\"zerolinecolor\":\"white\",\"gridwidth\":2},\"yaxis\":{\"backgroundcolor\":\"#E5ECF6\",\"gridcolor\":\"white\",\"linecolor\":\"white\",\"showbackground\":true,\"ticks\":\"\",\"zerolinecolor\":\"white\",\"gridwidth\":2},\"zaxis\":{\"backgroundcolor\":\"#E5ECF6\",\"gridcolor\":\"white\",\"linecolor\":\"white\",\"showbackground\":true,\"ticks\":\"\",\"zerolinecolor\":\"white\",\"gridwidth\":2}},\"shapedefaults\":{\"line\":{\"color\":\"#2a3f5f\"}},\"annotationdefaults\":{\"arrowcolor\":\"#2a3f5f\",\"arrowhead\":0,\"arrowwidth\":1},\"geo\":{\"bgcolor\":\"white\",\"landcolor\":\"#E5ECF6\",\"subunitcolor\":\"white\",\"showland\":true,\"showlakes\":true,\"lakecolor\":\"white\"},\"title\":{\"x\":0.05},\"mapbox\":{\"style\":\"light\"}}},\"legend\":{\"tracegroupgap\":0},\"margin\":{\"t\":60}},                        {\"responsive\": true}                    ).then(function(){\n",
       "                            \n",
       "var gd = document.getElementById('9996900c-21e6-4919-8bf5-7159250a13f4');\n",
       "var x = new MutationObserver(function (mutations, observer) {{\n",
       "        var display = window.getComputedStyle(gd).display;\n",
       "        if (!display || display === 'none') {{\n",
       "            console.log([gd, 'removed!']);\n",
       "            Plotly.purge(gd);\n",
       "            observer.disconnect();\n",
       "        }}\n",
       "}});\n",
       "\n",
       "// Listen for the removal of the full notebook cells\n",
       "var notebookContainer = gd.closest('#notebook-container');\n",
       "if (notebookContainer) {{\n",
       "    x.observe(notebookContainer, {childList: true});\n",
       "}}\n",
       "\n",
       "// Listen for the clearing of the current output cell\n",
       "var outputEl = gd.closest('.output');\n",
       "if (outputEl) {{\n",
       "    x.observe(outputEl, {childList: true});\n",
       "}}\n",
       "\n",
       "                        })                };                });            </script>        </div>"
      ]
     },
     "metadata": {},
     "output_type": "display_data"
    }
   ],
   "source": [
    "fig=px.pie(values=df['CodeKata Score'],names=df[\"Department\"])\n",
    "fig.show()"
   ]
  },
  {
   "cell_type": "markdown",
   "metadata": {},
   "source": [
    "###### Department wise toppers (horizantal bar graph or any visual representations of your choice)"
   ]
  },
  {
   "cell_type": "code",
   "execution_count": 23,
   "metadata": {},
   "outputs": [
    {
     "data": {
      "application/vnd.plotly.v1+json": {
       "config": {
        "plotlyServerURL": "https://plotly.com"
       },
       "data": [
        {
         "alignmentgroup": "True",
         "hovertemplate": "CodeKata Score=%{x}<br>Department=%{y}<extra></extra>",
         "legendgroup": "",
         "marker": {
          "color": "#636efa",
          "pattern": {
           "shape": ""
          }
         },
         "name": "",
         "offsetgroup": "",
         "orientation": "h",
         "showlegend": false,
         "textposition": "auto",
         "type": "bar",
         "x": [
          24500,
          21740,
          19680,
          10610,
          8980,
          8200,
          7880,
          7020,
          5860,
          5500,
          5400,
          5380,
          5280,
          5120,
          4800,
          4600,
          4510,
          4370,
          4320,
          4090,
          3915,
          3665,
          3460,
          3280,
          3200,
          3200,
          3110,
          3000,
          2570,
          2410,
          2360,
          2260,
          2240,
          2160,
          1910,
          1910,
          1900,
          1880,
          1880,
          1740,
          1680,
          1580,
          1580,
          1440,
          1350,
          1320,
          1240,
          1130,
          1100,
          1020,
          980,
          950,
          850,
          800,
          770,
          760,
          720,
          690,
          580,
          490,
          410,
          380,
          300,
          270,
          260,
          200,
          180,
          170,
          160,
          120,
          120,
          120,
          120,
          100,
          100,
          60,
          40,
          40,
          40,
          0,
          0,
          0,
          0,
          0,
          19400,
          14490,
          10790,
          10040,
          9150,
          8970,
          8950,
          8650,
          8320,
          8160,
          8090,
          8050,
          8030,
          7940,
          7730,
          7640,
          7630,
          7550,
          6800,
          6640,
          6290,
          6090,
          5740,
          5200,
          5050,
          4820,
          4440,
          4170,
          4020,
          3220,
          2380,
          1890,
          1720,
          0,
          0
         ],
         "xaxis": "x",
         "y": [
          "Computer Science and Engineering",
          "Computer Science and Engineering",
          "Computer Science and Engineering",
          "Computer Science and Engineering",
          "Computer Science and Engineering",
          "Computer Science and Engineering",
          "Electronics and Communication Engineering",
          "Computer Science and Engineering",
          "Electronics and Communication Engineering",
          "Computer Science and Engineering",
          "Electronics and Communication Engineering",
          "Computer Science and Engineering",
          "Computer Science and Engineering",
          "Computer Science and Engineering",
          "Electronics and Communication Engineering",
          "Computer Science and Engineering",
          "Computer Science and Engineering",
          "Electronics and Communication Engineering",
          "Electronics and Communication Engineering",
          "Computer Science and Engineering",
          "Computer Science and Engineering",
          "Electronics and Communication Engineering",
          "Computer Science and Engineering",
          "Computer Science and Engineering",
          "Computer Science and Engineering",
          "Electronics and Communication Engineering",
          "Computer Science and Engineering",
          "Electronics and Communication Engineering",
          "Computer Science and Engineering",
          "Computer Science and Engineering",
          "Computer Science and Engineering",
          "Computer Science and Engineering",
          "Electronics and Communication Engineering",
          "Computer Science and Engineering",
          "Computer Science and Engineering",
          "Electronics and Communication Engineering",
          "Computer Science and Engineering",
          "Computer Science and Engineering",
          "Computer Science and Engineering",
          "Electronics and Communication Engineering",
          "Computer Science and Engineering",
          "Computer Science and Engineering",
          "Electronics and Communication Engineering",
          "Electronics and Communication Engineering",
          "Computer Science and Engineering",
          "Computer Science and Engineering",
          "Electronics and Communication Engineering",
          "Electronics and Communication Engineering",
          "Computer Science and Engineering",
          "Electronics and Communication Engineering",
          "Electronics and Communication Engineering",
          "Electronics and Communication Engineering",
          "Electronics and Communication Engineering",
          "Electronics and Communication Engineering",
          "Electronics and Communication Engineering",
          "Electronics and Communication Engineering",
          "Computer Science and Engineering",
          "Electronics and Communication Engineering",
          "Electronics and Communication Engineering",
          "Computer Science and Engineering",
          "Electronics and Communication Engineering",
          "Computer Science and Engineering",
          "Computer Science and Engineering",
          "Electronics and Communication Engineering",
          "Electronics and Electrical Engineering",
          "Computer Science and Engineering",
          "Computer Science and Engineering",
          "Electronics and Communication Engineering",
          "Electronics and Communication Engineering",
          "Computer Science and Engineering",
          "Electronics and Communication Engineering",
          "Electronics and Electrical Engineering",
          "Electronics and Electrical Engineering",
          "Electronics and Communication Engineering",
          "Electronics and Electrical Engineering",
          "Electronics and Electrical Engineering",
          "Computer Science and Engineering",
          "Electronics and Electrical Engineering",
          "Electronics and Electrical Engineering",
          "Electronics and Electrical Engineering",
          "Electronics and Electrical Engineering",
          "Electronics and Electrical Engineering",
          "Electronics and Electrical Engineering",
          "Electronics and Electrical Engineering",
          "Electronics and Electrical Engineering",
          "Computer Science and Engineering",
          "Computer Science and Engineering",
          "Electronics and Communication Engineering",
          "Electronics and Electrical Engineering",
          "Computer Science and Engineering",
          "Computer Science and Engineering",
          "Electronics and Communication Engineering",
          "Electronics and Electrical Engineering",
          "Electronics and Electrical Engineering",
          "Computer Science and Engineering",
          "Computer Science and Engineering",
          "Electronics and Electrical Engineering",
          "Computer Science and Engineering",
          "Electronics and Communication Engineering",
          "Computer Science and Engineering",
          "Electronics and Communication Engineering",
          "Computer Science and Engineering",
          "Computer Science and Engineering",
          "Computer Science and Engineering",
          "Computer Science and Engineering",
          "Computer Science and Engineering",
          "Computer Science and Engineering",
          "Computer Science and Engineering",
          "Electronics and Communication Engineering",
          "Computer Science and Engineering",
          "Computer Science and Engineering",
          "Computer Science and Engineering",
          "Computer Science and Engineering",
          "Electronics and Communication Engineering",
          "Computer Science and Engineering",
          "Electronics and Communication Engineering",
          "Electronics and Communication Engineering",
          "Computer Science and Engineering",
          "Computer Science and Engineering"
         ],
         "yaxis": "y"
        }
       ],
       "layout": {
        "barmode": "relative",
        "legend": {
         "tracegroupgap": 0
        },
        "margin": {
         "t": 60
        },
        "template": {
         "data": {
          "bar": [
           {
            "error_x": {
             "color": "#2a3f5f"
            },
            "error_y": {
             "color": "#2a3f5f"
            },
            "marker": {
             "line": {
              "color": "#E5ECF6",
              "width": 0.5
             },
             "pattern": {
              "fillmode": "overlay",
              "size": 10,
              "solidity": 0.2
             }
            },
            "type": "bar"
           }
          ],
          "barpolar": [
           {
            "marker": {
             "line": {
              "color": "#E5ECF6",
              "width": 0.5
             },
             "pattern": {
              "fillmode": "overlay",
              "size": 10,
              "solidity": 0.2
             }
            },
            "type": "barpolar"
           }
          ],
          "carpet": [
           {
            "aaxis": {
             "endlinecolor": "#2a3f5f",
             "gridcolor": "white",
             "linecolor": "white",
             "minorgridcolor": "white",
             "startlinecolor": "#2a3f5f"
            },
            "baxis": {
             "endlinecolor": "#2a3f5f",
             "gridcolor": "white",
             "linecolor": "white",
             "minorgridcolor": "white",
             "startlinecolor": "#2a3f5f"
            },
            "type": "carpet"
           }
          ],
          "choropleth": [
           {
            "colorbar": {
             "outlinewidth": 0,
             "ticks": ""
            },
            "type": "choropleth"
           }
          ],
          "contour": [
           {
            "colorbar": {
             "outlinewidth": 0,
             "ticks": ""
            },
            "colorscale": [
             [
              0,
              "#0d0887"
             ],
             [
              0.1111111111111111,
              "#46039f"
             ],
             [
              0.2222222222222222,
              "#7201a8"
             ],
             [
              0.3333333333333333,
              "#9c179e"
             ],
             [
              0.4444444444444444,
              "#bd3786"
             ],
             [
              0.5555555555555556,
              "#d8576b"
             ],
             [
              0.6666666666666666,
              "#ed7953"
             ],
             [
              0.7777777777777778,
              "#fb9f3a"
             ],
             [
              0.8888888888888888,
              "#fdca26"
             ],
             [
              1,
              "#f0f921"
             ]
            ],
            "type": "contour"
           }
          ],
          "contourcarpet": [
           {
            "colorbar": {
             "outlinewidth": 0,
             "ticks": ""
            },
            "type": "contourcarpet"
           }
          ],
          "heatmap": [
           {
            "colorbar": {
             "outlinewidth": 0,
             "ticks": ""
            },
            "colorscale": [
             [
              0,
              "#0d0887"
             ],
             [
              0.1111111111111111,
              "#46039f"
             ],
             [
              0.2222222222222222,
              "#7201a8"
             ],
             [
              0.3333333333333333,
              "#9c179e"
             ],
             [
              0.4444444444444444,
              "#bd3786"
             ],
             [
              0.5555555555555556,
              "#d8576b"
             ],
             [
              0.6666666666666666,
              "#ed7953"
             ],
             [
              0.7777777777777778,
              "#fb9f3a"
             ],
             [
              0.8888888888888888,
              "#fdca26"
             ],
             [
              1,
              "#f0f921"
             ]
            ],
            "type": "heatmap"
           }
          ],
          "heatmapgl": [
           {
            "colorbar": {
             "outlinewidth": 0,
             "ticks": ""
            },
            "colorscale": [
             [
              0,
              "#0d0887"
             ],
             [
              0.1111111111111111,
              "#46039f"
             ],
             [
              0.2222222222222222,
              "#7201a8"
             ],
             [
              0.3333333333333333,
              "#9c179e"
             ],
             [
              0.4444444444444444,
              "#bd3786"
             ],
             [
              0.5555555555555556,
              "#d8576b"
             ],
             [
              0.6666666666666666,
              "#ed7953"
             ],
             [
              0.7777777777777778,
              "#fb9f3a"
             ],
             [
              0.8888888888888888,
              "#fdca26"
             ],
             [
              1,
              "#f0f921"
             ]
            ],
            "type": "heatmapgl"
           }
          ],
          "histogram": [
           {
            "marker": {
             "pattern": {
              "fillmode": "overlay",
              "size": 10,
              "solidity": 0.2
             }
            },
            "type": "histogram"
           }
          ],
          "histogram2d": [
           {
            "colorbar": {
             "outlinewidth": 0,
             "ticks": ""
            },
            "colorscale": [
             [
              0,
              "#0d0887"
             ],
             [
              0.1111111111111111,
              "#46039f"
             ],
             [
              0.2222222222222222,
              "#7201a8"
             ],
             [
              0.3333333333333333,
              "#9c179e"
             ],
             [
              0.4444444444444444,
              "#bd3786"
             ],
             [
              0.5555555555555556,
              "#d8576b"
             ],
             [
              0.6666666666666666,
              "#ed7953"
             ],
             [
              0.7777777777777778,
              "#fb9f3a"
             ],
             [
              0.8888888888888888,
              "#fdca26"
             ],
             [
              1,
              "#f0f921"
             ]
            ],
            "type": "histogram2d"
           }
          ],
          "histogram2dcontour": [
           {
            "colorbar": {
             "outlinewidth": 0,
             "ticks": ""
            },
            "colorscale": [
             [
              0,
              "#0d0887"
             ],
             [
              0.1111111111111111,
              "#46039f"
             ],
             [
              0.2222222222222222,
              "#7201a8"
             ],
             [
              0.3333333333333333,
              "#9c179e"
             ],
             [
              0.4444444444444444,
              "#bd3786"
             ],
             [
              0.5555555555555556,
              "#d8576b"
             ],
             [
              0.6666666666666666,
              "#ed7953"
             ],
             [
              0.7777777777777778,
              "#fb9f3a"
             ],
             [
              0.8888888888888888,
              "#fdca26"
             ],
             [
              1,
              "#f0f921"
             ]
            ],
            "type": "histogram2dcontour"
           }
          ],
          "mesh3d": [
           {
            "colorbar": {
             "outlinewidth": 0,
             "ticks": ""
            },
            "type": "mesh3d"
           }
          ],
          "parcoords": [
           {
            "line": {
             "colorbar": {
              "outlinewidth": 0,
              "ticks": ""
             }
            },
            "type": "parcoords"
           }
          ],
          "pie": [
           {
            "automargin": true,
            "type": "pie"
           }
          ],
          "scatter": [
           {
            "fillpattern": {
             "fillmode": "overlay",
             "size": 10,
             "solidity": 0.2
            },
            "type": "scatter"
           }
          ],
          "scatter3d": [
           {
            "line": {
             "colorbar": {
              "outlinewidth": 0,
              "ticks": ""
             }
            },
            "marker": {
             "colorbar": {
              "outlinewidth": 0,
              "ticks": ""
             }
            },
            "type": "scatter3d"
           }
          ],
          "scattercarpet": [
           {
            "marker": {
             "colorbar": {
              "outlinewidth": 0,
              "ticks": ""
             }
            },
            "type": "scattercarpet"
           }
          ],
          "scattergeo": [
           {
            "marker": {
             "colorbar": {
              "outlinewidth": 0,
              "ticks": ""
             }
            },
            "type": "scattergeo"
           }
          ],
          "scattergl": [
           {
            "marker": {
             "colorbar": {
              "outlinewidth": 0,
              "ticks": ""
             }
            },
            "type": "scattergl"
           }
          ],
          "scattermapbox": [
           {
            "marker": {
             "colorbar": {
              "outlinewidth": 0,
              "ticks": ""
             }
            },
            "type": "scattermapbox"
           }
          ],
          "scatterpolar": [
           {
            "marker": {
             "colorbar": {
              "outlinewidth": 0,
              "ticks": ""
             }
            },
            "type": "scatterpolar"
           }
          ],
          "scatterpolargl": [
           {
            "marker": {
             "colorbar": {
              "outlinewidth": 0,
              "ticks": ""
             }
            },
            "type": "scatterpolargl"
           }
          ],
          "scatterternary": [
           {
            "marker": {
             "colorbar": {
              "outlinewidth": 0,
              "ticks": ""
             }
            },
            "type": "scatterternary"
           }
          ],
          "surface": [
           {
            "colorbar": {
             "outlinewidth": 0,
             "ticks": ""
            },
            "colorscale": [
             [
              0,
              "#0d0887"
             ],
             [
              0.1111111111111111,
              "#46039f"
             ],
             [
              0.2222222222222222,
              "#7201a8"
             ],
             [
              0.3333333333333333,
              "#9c179e"
             ],
             [
              0.4444444444444444,
              "#bd3786"
             ],
             [
              0.5555555555555556,
              "#d8576b"
             ],
             [
              0.6666666666666666,
              "#ed7953"
             ],
             [
              0.7777777777777778,
              "#fb9f3a"
             ],
             [
              0.8888888888888888,
              "#fdca26"
             ],
             [
              1,
              "#f0f921"
             ]
            ],
            "type": "surface"
           }
          ],
          "table": [
           {
            "cells": {
             "fill": {
              "color": "#EBF0F8"
             },
             "line": {
              "color": "white"
             }
            },
            "header": {
             "fill": {
              "color": "#C8D4E3"
             },
             "line": {
              "color": "white"
             }
            },
            "type": "table"
           }
          ]
         },
         "layout": {
          "annotationdefaults": {
           "arrowcolor": "#2a3f5f",
           "arrowhead": 0,
           "arrowwidth": 1
          },
          "autotypenumbers": "strict",
          "coloraxis": {
           "colorbar": {
            "outlinewidth": 0,
            "ticks": ""
           }
          },
          "colorscale": {
           "diverging": [
            [
             0,
             "#8e0152"
            ],
            [
             0.1,
             "#c51b7d"
            ],
            [
             0.2,
             "#de77ae"
            ],
            [
             0.3,
             "#f1b6da"
            ],
            [
             0.4,
             "#fde0ef"
            ],
            [
             0.5,
             "#f7f7f7"
            ],
            [
             0.6,
             "#e6f5d0"
            ],
            [
             0.7,
             "#b8e186"
            ],
            [
             0.8,
             "#7fbc41"
            ],
            [
             0.9,
             "#4d9221"
            ],
            [
             1,
             "#276419"
            ]
           ],
           "sequential": [
            [
             0,
             "#0d0887"
            ],
            [
             0.1111111111111111,
             "#46039f"
            ],
            [
             0.2222222222222222,
             "#7201a8"
            ],
            [
             0.3333333333333333,
             "#9c179e"
            ],
            [
             0.4444444444444444,
             "#bd3786"
            ],
            [
             0.5555555555555556,
             "#d8576b"
            ],
            [
             0.6666666666666666,
             "#ed7953"
            ],
            [
             0.7777777777777778,
             "#fb9f3a"
            ],
            [
             0.8888888888888888,
             "#fdca26"
            ],
            [
             1,
             "#f0f921"
            ]
           ],
           "sequentialminus": [
            [
             0,
             "#0d0887"
            ],
            [
             0.1111111111111111,
             "#46039f"
            ],
            [
             0.2222222222222222,
             "#7201a8"
            ],
            [
             0.3333333333333333,
             "#9c179e"
            ],
            [
             0.4444444444444444,
             "#bd3786"
            ],
            [
             0.5555555555555556,
             "#d8576b"
            ],
            [
             0.6666666666666666,
             "#ed7953"
            ],
            [
             0.7777777777777778,
             "#fb9f3a"
            ],
            [
             0.8888888888888888,
             "#fdca26"
            ],
            [
             1,
             "#f0f921"
            ]
           ]
          },
          "colorway": [
           "#636efa",
           "#EF553B",
           "#00cc96",
           "#ab63fa",
           "#FFA15A",
           "#19d3f3",
           "#FF6692",
           "#B6E880",
           "#FF97FF",
           "#FECB52"
          ],
          "font": {
           "color": "#2a3f5f"
          },
          "geo": {
           "bgcolor": "white",
           "lakecolor": "white",
           "landcolor": "#E5ECF6",
           "showlakes": true,
           "showland": true,
           "subunitcolor": "white"
          },
          "hoverlabel": {
           "align": "left"
          },
          "hovermode": "closest",
          "mapbox": {
           "style": "light"
          },
          "paper_bgcolor": "white",
          "plot_bgcolor": "#E5ECF6",
          "polar": {
           "angularaxis": {
            "gridcolor": "white",
            "linecolor": "white",
            "ticks": ""
           },
           "bgcolor": "#E5ECF6",
           "radialaxis": {
            "gridcolor": "white",
            "linecolor": "white",
            "ticks": ""
           }
          },
          "scene": {
           "xaxis": {
            "backgroundcolor": "#E5ECF6",
            "gridcolor": "white",
            "gridwidth": 2,
            "linecolor": "white",
            "showbackground": true,
            "ticks": "",
            "zerolinecolor": "white"
           },
           "yaxis": {
            "backgroundcolor": "#E5ECF6",
            "gridcolor": "white",
            "gridwidth": 2,
            "linecolor": "white",
            "showbackground": true,
            "ticks": "",
            "zerolinecolor": "white"
           },
           "zaxis": {
            "backgroundcolor": "#E5ECF6",
            "gridcolor": "white",
            "gridwidth": 2,
            "linecolor": "white",
            "showbackground": true,
            "ticks": "",
            "zerolinecolor": "white"
           }
          },
          "shapedefaults": {
           "line": {
            "color": "#2a3f5f"
           }
          },
          "ternary": {
           "aaxis": {
            "gridcolor": "white",
            "linecolor": "white",
            "ticks": ""
           },
           "baxis": {
            "gridcolor": "white",
            "linecolor": "white",
            "ticks": ""
           },
           "bgcolor": "#E5ECF6",
           "caxis": {
            "gridcolor": "white",
            "linecolor": "white",
            "ticks": ""
           }
          },
          "title": {
           "x": 0.05
          },
          "xaxis": {
           "automargin": true,
           "gridcolor": "white",
           "linecolor": "white",
           "ticks": "",
           "title": {
            "standoff": 15
           },
           "zerolinecolor": "white",
           "zerolinewidth": 2
          },
          "yaxis": {
           "automargin": true,
           "gridcolor": "white",
           "linecolor": "white",
           "ticks": "",
           "title": {
            "standoff": 15
           },
           "zerolinecolor": "white",
           "zerolinewidth": 2
          }
         }
        },
        "xaxis": {
         "anchor": "y",
         "domain": [
          0,
          1
         ],
         "title": {
          "text": "CodeKata Score"
         }
        },
        "yaxis": {
         "anchor": "x",
         "domain": [
          0,
          1
         ],
         "title": {
          "text": "Department"
         }
        }
       }
      },
      "text/html": [
       "<div>                            <div id=\"24454a7f-09d5-432f-ab0f-96aee82637e6\" class=\"plotly-graph-div\" style=\"height:525px; width:100%;\"></div>            <script type=\"text/javascript\">                require([\"plotly\"], function(Plotly) {                    window.PLOTLYENV=window.PLOTLYENV || {};                                    if (document.getElementById(\"24454a7f-09d5-432f-ab0f-96aee82637e6\")) {                    Plotly.newPlot(                        \"24454a7f-09d5-432f-ab0f-96aee82637e6\",                        [{\"alignmentgroup\":\"True\",\"hovertemplate\":\"CodeKata Score=%{x}<br>Department=%{y}<extra></extra>\",\"legendgroup\":\"\",\"marker\":{\"color\":\"#636efa\",\"pattern\":{\"shape\":\"\"}},\"name\":\"\",\"offsetgroup\":\"\",\"orientation\":\"h\",\"showlegend\":false,\"textposition\":\"auto\",\"x\":[24500,21740,19680,10610,8980,8200,7880,7020,5860,5500,5400,5380,5280,5120,4800,4600,4510,4370,4320,4090,3915,3665,3460,3280,3200,3200,3110,3000,2570,2410,2360,2260,2240,2160,1910,1910,1900,1880,1880,1740,1680,1580,1580,1440,1350,1320,1240,1130,1100,1020,980,950,850,800,770,760,720,690,580,490,410,380,300,270,260,200,180,170,160,120,120,120,120,100,100,60,40,40,40,0,0,0,0,0,19400,14490,10790,10040,9150,8970,8950,8650,8320,8160,8090,8050,8030,7940,7730,7640,7630,7550,6800,6640,6290,6090,5740,5200,5050,4820,4440,4170,4020,3220,2380,1890,1720,0,0],\"xaxis\":\"x\",\"y\":[\"Computer Science and Engineering\",\"Computer Science and Engineering\",\"Computer Science and Engineering\",\"Computer Science and Engineering\",\"Computer Science and Engineering\",\"Computer Science and Engineering\",\"Electronics and Communication Engineering\",\"Computer Science and Engineering\",\"Electronics and Communication Engineering\",\"Computer Science and Engineering\",\"Electronics and Communication Engineering\",\"Computer Science and Engineering\",\"Computer Science and Engineering\",\"Computer Science and Engineering\",\"Electronics and Communication Engineering\",\"Computer Science and Engineering\",\"Computer Science and Engineering\",\"Electronics and Communication Engineering\",\"Electronics and Communication Engineering\",\"Computer Science and Engineering\",\"Computer Science and Engineering\",\"Electronics and Communication Engineering\",\"Computer Science and Engineering\",\"Computer Science and Engineering\",\"Computer Science and Engineering\",\"Electronics and Communication Engineering\",\"Computer Science and Engineering\",\"Electronics and Communication Engineering\",\"Computer Science and Engineering\",\"Computer Science and Engineering\",\"Computer Science and Engineering\",\"Computer Science and Engineering\",\"Electronics and Communication Engineering\",\"Computer Science and Engineering\",\"Computer Science and Engineering\",\"Electronics and Communication Engineering\",\"Computer Science and Engineering\",\"Computer Science and Engineering\",\"Computer Science and Engineering\",\"Electronics and Communication Engineering\",\"Computer Science and Engineering\",\"Computer Science and Engineering\",\"Electronics and Communication Engineering\",\"Electronics and Communication Engineering\",\"Computer Science and Engineering\",\"Computer Science and Engineering\",\"Electronics and Communication Engineering\",\"Electronics and Communication Engineering\",\"Computer Science and Engineering\",\"Electronics and Communication Engineering\",\"Electronics and Communication Engineering\",\"Electronics and Communication Engineering\",\"Electronics and Communication Engineering\",\"Electronics and Communication Engineering\",\"Electronics and Communication Engineering\",\"Electronics and Communication Engineering\",\"Computer Science and Engineering\",\"Electronics and Communication Engineering\",\"Electronics and Communication Engineering\",\"Computer Science and Engineering\",\"Electronics and Communication Engineering\",\"Computer Science and Engineering\",\"Computer Science and Engineering\",\"Electronics and Communication Engineering\",\"Electronics and Electrical Engineering\",\"Computer Science and Engineering\",\"Computer Science and Engineering\",\"Electronics and Communication Engineering\",\"Electronics and Communication Engineering\",\"Computer Science and Engineering\",\"Electronics and Communication Engineering\",\"Electronics and Electrical Engineering\",\"Electronics and Electrical Engineering\",\"Electronics and Communication Engineering\",\"Electronics and Electrical Engineering\",\"Electronics and Electrical Engineering\",\"Computer Science and Engineering\",\"Electronics and Electrical Engineering\",\"Electronics and Electrical Engineering\",\"Electronics and Electrical Engineering\",\"Electronics and Electrical Engineering\",\"Electronics and Electrical Engineering\",\"Electronics and Electrical Engineering\",\"Electronics and Electrical Engineering\",\"Electronics and Electrical Engineering\",\"Computer Science and Engineering\",\"Computer Science and Engineering\",\"Electronics and Communication Engineering\",\"Electronics and Electrical Engineering\",\"Computer Science and Engineering\",\"Computer Science and Engineering\",\"Electronics and Communication Engineering\",\"Electronics and Electrical Engineering\",\"Electronics and Electrical Engineering\",\"Computer Science and Engineering\",\"Computer Science and Engineering\",\"Electronics and Electrical Engineering\",\"Computer Science and Engineering\",\"Electronics and Communication Engineering\",\"Computer Science and Engineering\",\"Electronics and Communication Engineering\",\"Computer Science and Engineering\",\"Computer Science and Engineering\",\"Computer Science and Engineering\",\"Computer Science and Engineering\",\"Computer Science and Engineering\",\"Computer Science and Engineering\",\"Computer Science and Engineering\",\"Electronics and Communication Engineering\",\"Computer Science and Engineering\",\"Computer Science and Engineering\",\"Computer Science and Engineering\",\"Computer Science and Engineering\",\"Electronics and Communication Engineering\",\"Computer Science and Engineering\",\"Electronics and Communication Engineering\",\"Electronics and Communication Engineering\",\"Computer Science and Engineering\",\"Computer Science and Engineering\"],\"yaxis\":\"y\",\"type\":\"bar\"}],                        {\"template\":{\"data\":{\"histogram2dcontour\":[{\"type\":\"histogram2dcontour\",\"colorbar\":{\"outlinewidth\":0,\"ticks\":\"\"},\"colorscale\":[[0.0,\"#0d0887\"],[0.1111111111111111,\"#46039f\"],[0.2222222222222222,\"#7201a8\"],[0.3333333333333333,\"#9c179e\"],[0.4444444444444444,\"#bd3786\"],[0.5555555555555556,\"#d8576b\"],[0.6666666666666666,\"#ed7953\"],[0.7777777777777778,\"#fb9f3a\"],[0.8888888888888888,\"#fdca26\"],[1.0,\"#f0f921\"]]}],\"choropleth\":[{\"type\":\"choropleth\",\"colorbar\":{\"outlinewidth\":0,\"ticks\":\"\"}}],\"histogram2d\":[{\"type\":\"histogram2d\",\"colorbar\":{\"outlinewidth\":0,\"ticks\":\"\"},\"colorscale\":[[0.0,\"#0d0887\"],[0.1111111111111111,\"#46039f\"],[0.2222222222222222,\"#7201a8\"],[0.3333333333333333,\"#9c179e\"],[0.4444444444444444,\"#bd3786\"],[0.5555555555555556,\"#d8576b\"],[0.6666666666666666,\"#ed7953\"],[0.7777777777777778,\"#fb9f3a\"],[0.8888888888888888,\"#fdca26\"],[1.0,\"#f0f921\"]]}],\"heatmap\":[{\"type\":\"heatmap\",\"colorbar\":{\"outlinewidth\":0,\"ticks\":\"\"},\"colorscale\":[[0.0,\"#0d0887\"],[0.1111111111111111,\"#46039f\"],[0.2222222222222222,\"#7201a8\"],[0.3333333333333333,\"#9c179e\"],[0.4444444444444444,\"#bd3786\"],[0.5555555555555556,\"#d8576b\"],[0.6666666666666666,\"#ed7953\"],[0.7777777777777778,\"#fb9f3a\"],[0.8888888888888888,\"#fdca26\"],[1.0,\"#f0f921\"]]}],\"heatmapgl\":[{\"type\":\"heatmapgl\",\"colorbar\":{\"outlinewidth\":0,\"ticks\":\"\"},\"colorscale\":[[0.0,\"#0d0887\"],[0.1111111111111111,\"#46039f\"],[0.2222222222222222,\"#7201a8\"],[0.3333333333333333,\"#9c179e\"],[0.4444444444444444,\"#bd3786\"],[0.5555555555555556,\"#d8576b\"],[0.6666666666666666,\"#ed7953\"],[0.7777777777777778,\"#fb9f3a\"],[0.8888888888888888,\"#fdca26\"],[1.0,\"#f0f921\"]]}],\"contourcarpet\":[{\"type\":\"contourcarpet\",\"colorbar\":{\"outlinewidth\":0,\"ticks\":\"\"}}],\"contour\":[{\"type\":\"contour\",\"colorbar\":{\"outlinewidth\":0,\"ticks\":\"\"},\"colorscale\":[[0.0,\"#0d0887\"],[0.1111111111111111,\"#46039f\"],[0.2222222222222222,\"#7201a8\"],[0.3333333333333333,\"#9c179e\"],[0.4444444444444444,\"#bd3786\"],[0.5555555555555556,\"#d8576b\"],[0.6666666666666666,\"#ed7953\"],[0.7777777777777778,\"#fb9f3a\"],[0.8888888888888888,\"#fdca26\"],[1.0,\"#f0f921\"]]}],\"surface\":[{\"type\":\"surface\",\"colorbar\":{\"outlinewidth\":0,\"ticks\":\"\"},\"colorscale\":[[0.0,\"#0d0887\"],[0.1111111111111111,\"#46039f\"],[0.2222222222222222,\"#7201a8\"],[0.3333333333333333,\"#9c179e\"],[0.4444444444444444,\"#bd3786\"],[0.5555555555555556,\"#d8576b\"],[0.6666666666666666,\"#ed7953\"],[0.7777777777777778,\"#fb9f3a\"],[0.8888888888888888,\"#fdca26\"],[1.0,\"#f0f921\"]]}],\"mesh3d\":[{\"type\":\"mesh3d\",\"colorbar\":{\"outlinewidth\":0,\"ticks\":\"\"}}],\"scatter\":[{\"fillpattern\":{\"fillmode\":\"overlay\",\"size\":10,\"solidity\":0.2},\"type\":\"scatter\"}],\"parcoords\":[{\"type\":\"parcoords\",\"line\":{\"colorbar\":{\"outlinewidth\":0,\"ticks\":\"\"}}}],\"scatterpolargl\":[{\"type\":\"scatterpolargl\",\"marker\":{\"colorbar\":{\"outlinewidth\":0,\"ticks\":\"\"}}}],\"bar\":[{\"error_x\":{\"color\":\"#2a3f5f\"},\"error_y\":{\"color\":\"#2a3f5f\"},\"marker\":{\"line\":{\"color\":\"#E5ECF6\",\"width\":0.5},\"pattern\":{\"fillmode\":\"overlay\",\"size\":10,\"solidity\":0.2}},\"type\":\"bar\"}],\"scattergeo\":[{\"type\":\"scattergeo\",\"marker\":{\"colorbar\":{\"outlinewidth\":0,\"ticks\":\"\"}}}],\"scatterpolar\":[{\"type\":\"scatterpolar\",\"marker\":{\"colorbar\":{\"outlinewidth\":0,\"ticks\":\"\"}}}],\"histogram\":[{\"marker\":{\"pattern\":{\"fillmode\":\"overlay\",\"size\":10,\"solidity\":0.2}},\"type\":\"histogram\"}],\"scattergl\":[{\"type\":\"scattergl\",\"marker\":{\"colorbar\":{\"outlinewidth\":0,\"ticks\":\"\"}}}],\"scatter3d\":[{\"type\":\"scatter3d\",\"line\":{\"colorbar\":{\"outlinewidth\":0,\"ticks\":\"\"}},\"marker\":{\"colorbar\":{\"outlinewidth\":0,\"ticks\":\"\"}}}],\"scattermapbox\":[{\"type\":\"scattermapbox\",\"marker\":{\"colorbar\":{\"outlinewidth\":0,\"ticks\":\"\"}}}],\"scatterternary\":[{\"type\":\"scatterternary\",\"marker\":{\"colorbar\":{\"outlinewidth\":0,\"ticks\":\"\"}}}],\"scattercarpet\":[{\"type\":\"scattercarpet\",\"marker\":{\"colorbar\":{\"outlinewidth\":0,\"ticks\":\"\"}}}],\"carpet\":[{\"aaxis\":{\"endlinecolor\":\"#2a3f5f\",\"gridcolor\":\"white\",\"linecolor\":\"white\",\"minorgridcolor\":\"white\",\"startlinecolor\":\"#2a3f5f\"},\"baxis\":{\"endlinecolor\":\"#2a3f5f\",\"gridcolor\":\"white\",\"linecolor\":\"white\",\"minorgridcolor\":\"white\",\"startlinecolor\":\"#2a3f5f\"},\"type\":\"carpet\"}],\"table\":[{\"cells\":{\"fill\":{\"color\":\"#EBF0F8\"},\"line\":{\"color\":\"white\"}},\"header\":{\"fill\":{\"color\":\"#C8D4E3\"},\"line\":{\"color\":\"white\"}},\"type\":\"table\"}],\"barpolar\":[{\"marker\":{\"line\":{\"color\":\"#E5ECF6\",\"width\":0.5},\"pattern\":{\"fillmode\":\"overlay\",\"size\":10,\"solidity\":0.2}},\"type\":\"barpolar\"}],\"pie\":[{\"automargin\":true,\"type\":\"pie\"}]},\"layout\":{\"autotypenumbers\":\"strict\",\"colorway\":[\"#636efa\",\"#EF553B\",\"#00cc96\",\"#ab63fa\",\"#FFA15A\",\"#19d3f3\",\"#FF6692\",\"#B6E880\",\"#FF97FF\",\"#FECB52\"],\"font\":{\"color\":\"#2a3f5f\"},\"hovermode\":\"closest\",\"hoverlabel\":{\"align\":\"left\"},\"paper_bgcolor\":\"white\",\"plot_bgcolor\":\"#E5ECF6\",\"polar\":{\"bgcolor\":\"#E5ECF6\",\"angularaxis\":{\"gridcolor\":\"white\",\"linecolor\":\"white\",\"ticks\":\"\"},\"radialaxis\":{\"gridcolor\":\"white\",\"linecolor\":\"white\",\"ticks\":\"\"}},\"ternary\":{\"bgcolor\":\"#E5ECF6\",\"aaxis\":{\"gridcolor\":\"white\",\"linecolor\":\"white\",\"ticks\":\"\"},\"baxis\":{\"gridcolor\":\"white\",\"linecolor\":\"white\",\"ticks\":\"\"},\"caxis\":{\"gridcolor\":\"white\",\"linecolor\":\"white\",\"ticks\":\"\"}},\"coloraxis\":{\"colorbar\":{\"outlinewidth\":0,\"ticks\":\"\"}},\"colorscale\":{\"sequential\":[[0.0,\"#0d0887\"],[0.1111111111111111,\"#46039f\"],[0.2222222222222222,\"#7201a8\"],[0.3333333333333333,\"#9c179e\"],[0.4444444444444444,\"#bd3786\"],[0.5555555555555556,\"#d8576b\"],[0.6666666666666666,\"#ed7953\"],[0.7777777777777778,\"#fb9f3a\"],[0.8888888888888888,\"#fdca26\"],[1.0,\"#f0f921\"]],\"sequentialminus\":[[0.0,\"#0d0887\"],[0.1111111111111111,\"#46039f\"],[0.2222222222222222,\"#7201a8\"],[0.3333333333333333,\"#9c179e\"],[0.4444444444444444,\"#bd3786\"],[0.5555555555555556,\"#d8576b\"],[0.6666666666666666,\"#ed7953\"],[0.7777777777777778,\"#fb9f3a\"],[0.8888888888888888,\"#fdca26\"],[1.0,\"#f0f921\"]],\"diverging\":[[0,\"#8e0152\"],[0.1,\"#c51b7d\"],[0.2,\"#de77ae\"],[0.3,\"#f1b6da\"],[0.4,\"#fde0ef\"],[0.5,\"#f7f7f7\"],[0.6,\"#e6f5d0\"],[0.7,\"#b8e186\"],[0.8,\"#7fbc41\"],[0.9,\"#4d9221\"],[1,\"#276419\"]]},\"xaxis\":{\"gridcolor\":\"white\",\"linecolor\":\"white\",\"ticks\":\"\",\"title\":{\"standoff\":15},\"zerolinecolor\":\"white\",\"automargin\":true,\"zerolinewidth\":2},\"yaxis\":{\"gridcolor\":\"white\",\"linecolor\":\"white\",\"ticks\":\"\",\"title\":{\"standoff\":15},\"zerolinecolor\":\"white\",\"automargin\":true,\"zerolinewidth\":2},\"scene\":{\"xaxis\":{\"backgroundcolor\":\"#E5ECF6\",\"gridcolor\":\"white\",\"linecolor\":\"white\",\"showbackground\":true,\"ticks\":\"\",\"zerolinecolor\":\"white\",\"gridwidth\":2},\"yaxis\":{\"backgroundcolor\":\"#E5ECF6\",\"gridcolor\":\"white\",\"linecolor\":\"white\",\"showbackground\":true,\"ticks\":\"\",\"zerolinecolor\":\"white\",\"gridwidth\":2},\"zaxis\":{\"backgroundcolor\":\"#E5ECF6\",\"gridcolor\":\"white\",\"linecolor\":\"white\",\"showbackground\":true,\"ticks\":\"\",\"zerolinecolor\":\"white\",\"gridwidth\":2}},\"shapedefaults\":{\"line\":{\"color\":\"#2a3f5f\"}},\"annotationdefaults\":{\"arrowcolor\":\"#2a3f5f\",\"arrowhead\":0,\"arrowwidth\":1},\"geo\":{\"bgcolor\":\"white\",\"landcolor\":\"#E5ECF6\",\"subunitcolor\":\"white\",\"showland\":true,\"showlakes\":true,\"lakecolor\":\"white\"},\"title\":{\"x\":0.05},\"mapbox\":{\"style\":\"light\"}}},\"xaxis\":{\"anchor\":\"y\",\"domain\":[0.0,1.0],\"title\":{\"text\":\"CodeKata Score\"}},\"yaxis\":{\"anchor\":\"x\",\"domain\":[0.0,1.0],\"title\":{\"text\":\"Department\"}},\"legend\":{\"tracegroupgap\":0},\"margin\":{\"t\":60},\"barmode\":\"relative\"},                        {\"responsive\": true}                    ).then(function(){\n",
       "                            \n",
       "var gd = document.getElementById('24454a7f-09d5-432f-ab0f-96aee82637e6');\n",
       "var x = new MutationObserver(function (mutations, observer) {{\n",
       "        var display = window.getComputedStyle(gd).display;\n",
       "        if (!display || display === 'none') {{\n",
       "            console.log([gd, 'removed!']);\n",
       "            Plotly.purge(gd);\n",
       "            observer.disconnect();\n",
       "        }}\n",
       "}});\n",
       "\n",
       "// Listen for the removal of the full notebook cells\n",
       "var notebookContainer = gd.closest('#notebook-container');\n",
       "if (notebookContainer) {{\n",
       "    x.observe(notebookContainer, {childList: true});\n",
       "}}\n",
       "\n",
       "// Listen for the clearing of the current output cell\n",
       "var outputEl = gd.closest('.output');\n",
       "if (outputEl) {{\n",
       "    x.observe(outputEl, {childList: true});\n",
       "}}\n",
       "\n",
       "                        })                };                });            </script>        </div>"
      ]
     },
     "metadata": {},
     "output_type": "display_data"
    }
   ],
   "source": [
    "fig = px.bar(df, x=\"CodeKata Score\", y=\"Department\", orientation='h')\n",
    "fig.show()"
   ]
  },
  {
   "cell_type": "code",
   "execution_count": 25,
   "metadata": {},
   "outputs": [
    {
     "data": {
      "application/vnd.plotly.v1+json": {
       "config": {
        "plotlyServerURL": "https://plotly.com"
       },
       "data": [
        {
         "alignmentgroup": "True",
         "hovertemplate": "Previous Geekions=%{x}<br>Department=%{y}<extra></extra>",
         "legendgroup": "",
         "marker": {
          "color": "#636efa",
          "pattern": {
           "shape": ""
          }
         },
         "name": "",
         "offsetgroup": "",
         "orientation": "h",
         "showlegend": false,
         "textposition": "auto",
         "type": "bar",
         "x": [
          24500,
          21740,
          19680,
          10610,
          8980,
          8200,
          7750,
          7020,
          5860,
          5500,
          5400,
          5380,
          5280,
          5120,
          4800,
          4600,
          4510,
          4370,
          4320,
          4090,
          3915,
          3665,
          3460,
          3280,
          3200,
          3200,
          3110,
          3000,
          2570,
          2410,
          2360,
          2260,
          2240,
          2160,
          1910,
          1910,
          1900,
          1880,
          1880,
          1740,
          1680,
          1580,
          1580,
          1440,
          1350,
          1320,
          1240,
          1130,
          1100,
          1020,
          980,
          950,
          850,
          800,
          770,
          760,
          720,
          690,
          580,
          490,
          410,
          380,
          300,
          270,
          260,
          200,
          180,
          170,
          160,
          120,
          120,
          120,
          120,
          100,
          100,
          60,
          40,
          40,
          40,
          0,
          0,
          0,
          0,
          0,
          19400,
          14150,
          8790,
          10040,
          9150,
          7210,
          7250,
          8650,
          5180,
          6170,
          7470,
          7670,
          7340,
          6400,
          7170,
          6280,
          7310,
          6710,
          4800,
          5300,
          5290,
          6060,
          3910,
          5200,
          5050,
          4050,
          3860,
          4170,
          4020,
          3220,
          2380,
          1890,
          1720,
          0,
          0
         ],
         "xaxis": "x",
         "y": [
          "Computer Science and Engineering",
          "Computer Science and Engineering",
          "Computer Science and Engineering",
          "Computer Science and Engineering",
          "Computer Science and Engineering",
          "Computer Science and Engineering",
          "Electronics and Communication Engineering",
          "Computer Science and Engineering",
          "Electronics and Communication Engineering",
          "Computer Science and Engineering",
          "Electronics and Communication Engineering",
          "Computer Science and Engineering",
          "Computer Science and Engineering",
          "Computer Science and Engineering",
          "Electronics and Communication Engineering",
          "Computer Science and Engineering",
          "Computer Science and Engineering",
          "Electronics and Communication Engineering",
          "Electronics and Communication Engineering",
          "Computer Science and Engineering",
          "Computer Science and Engineering",
          "Electronics and Communication Engineering",
          "Computer Science and Engineering",
          "Computer Science and Engineering",
          "Computer Science and Engineering",
          "Electronics and Communication Engineering",
          "Computer Science and Engineering",
          "Electronics and Communication Engineering",
          "Computer Science and Engineering",
          "Computer Science and Engineering",
          "Computer Science and Engineering",
          "Computer Science and Engineering",
          "Electronics and Communication Engineering",
          "Computer Science and Engineering",
          "Computer Science and Engineering",
          "Electronics and Communication Engineering",
          "Computer Science and Engineering",
          "Computer Science and Engineering",
          "Computer Science and Engineering",
          "Electronics and Communication Engineering",
          "Computer Science and Engineering",
          "Computer Science and Engineering",
          "Electronics and Communication Engineering",
          "Electronics and Communication Engineering",
          "Computer Science and Engineering",
          "Computer Science and Engineering",
          "Electronics and Communication Engineering",
          "Electronics and Communication Engineering",
          "Computer Science and Engineering",
          "Electronics and Communication Engineering",
          "Electronics and Communication Engineering",
          "Electronics and Communication Engineering",
          "Electronics and Communication Engineering",
          "Electronics and Communication Engineering",
          "Electronics and Communication Engineering",
          "Electronics and Communication Engineering",
          "Computer Science and Engineering",
          "Electronics and Communication Engineering",
          "Electronics and Communication Engineering",
          "Computer Science and Engineering",
          "Electronics and Communication Engineering",
          "Computer Science and Engineering",
          "Computer Science and Engineering",
          "Electronics and Communication Engineering",
          "Electronics and Electrical Engineering",
          "Computer Science and Engineering",
          "Computer Science and Engineering",
          "Electronics and Communication Engineering",
          "Electronics and Communication Engineering",
          "Computer Science and Engineering",
          "Electronics and Communication Engineering",
          "Electronics and Electrical Engineering",
          "Electronics and Electrical Engineering",
          "Electronics and Communication Engineering",
          "Electronics and Electrical Engineering",
          "Electronics and Electrical Engineering",
          "Computer Science and Engineering",
          "Electronics and Electrical Engineering",
          "Electronics and Electrical Engineering",
          "Electronics and Electrical Engineering",
          "Electronics and Electrical Engineering",
          "Electronics and Electrical Engineering",
          "Electronics and Electrical Engineering",
          "Electronics and Electrical Engineering",
          "Electronics and Electrical Engineering",
          "Computer Science and Engineering",
          "Computer Science and Engineering",
          "Electronics and Communication Engineering",
          "Electronics and Electrical Engineering",
          "Computer Science and Engineering",
          "Computer Science and Engineering",
          "Electronics and Communication Engineering",
          "Electronics and Electrical Engineering",
          "Electronics and Electrical Engineering",
          "Computer Science and Engineering",
          "Computer Science and Engineering",
          "Electronics and Electrical Engineering",
          "Computer Science and Engineering",
          "Electronics and Communication Engineering",
          "Computer Science and Engineering",
          "Electronics and Communication Engineering",
          "Computer Science and Engineering",
          "Computer Science and Engineering",
          "Computer Science and Engineering",
          "Computer Science and Engineering",
          "Computer Science and Engineering",
          "Computer Science and Engineering",
          "Computer Science and Engineering",
          "Electronics and Communication Engineering",
          "Computer Science and Engineering",
          "Computer Science and Engineering",
          "Computer Science and Engineering",
          "Computer Science and Engineering",
          "Electronics and Communication Engineering",
          "Computer Science and Engineering",
          "Electronics and Communication Engineering",
          "Electronics and Communication Engineering",
          "Computer Science and Engineering",
          "Computer Science and Engineering"
         ],
         "yaxis": "y"
        }
       ],
       "layout": {
        "barmode": "relative",
        "legend": {
         "tracegroupgap": 0
        },
        "margin": {
         "t": 60
        },
        "template": {
         "data": {
          "bar": [
           {
            "error_x": {
             "color": "#2a3f5f"
            },
            "error_y": {
             "color": "#2a3f5f"
            },
            "marker": {
             "line": {
              "color": "#E5ECF6",
              "width": 0.5
             },
             "pattern": {
              "fillmode": "overlay",
              "size": 10,
              "solidity": 0.2
             }
            },
            "type": "bar"
           }
          ],
          "barpolar": [
           {
            "marker": {
             "line": {
              "color": "#E5ECF6",
              "width": 0.5
             },
             "pattern": {
              "fillmode": "overlay",
              "size": 10,
              "solidity": 0.2
             }
            },
            "type": "barpolar"
           }
          ],
          "carpet": [
           {
            "aaxis": {
             "endlinecolor": "#2a3f5f",
             "gridcolor": "white",
             "linecolor": "white",
             "minorgridcolor": "white",
             "startlinecolor": "#2a3f5f"
            },
            "baxis": {
             "endlinecolor": "#2a3f5f",
             "gridcolor": "white",
             "linecolor": "white",
             "minorgridcolor": "white",
             "startlinecolor": "#2a3f5f"
            },
            "type": "carpet"
           }
          ],
          "choropleth": [
           {
            "colorbar": {
             "outlinewidth": 0,
             "ticks": ""
            },
            "type": "choropleth"
           }
          ],
          "contour": [
           {
            "colorbar": {
             "outlinewidth": 0,
             "ticks": ""
            },
            "colorscale": [
             [
              0,
              "#0d0887"
             ],
             [
              0.1111111111111111,
              "#46039f"
             ],
             [
              0.2222222222222222,
              "#7201a8"
             ],
             [
              0.3333333333333333,
              "#9c179e"
             ],
             [
              0.4444444444444444,
              "#bd3786"
             ],
             [
              0.5555555555555556,
              "#d8576b"
             ],
             [
              0.6666666666666666,
              "#ed7953"
             ],
             [
              0.7777777777777778,
              "#fb9f3a"
             ],
             [
              0.8888888888888888,
              "#fdca26"
             ],
             [
              1,
              "#f0f921"
             ]
            ],
            "type": "contour"
           }
          ],
          "contourcarpet": [
           {
            "colorbar": {
             "outlinewidth": 0,
             "ticks": ""
            },
            "type": "contourcarpet"
           }
          ],
          "heatmap": [
           {
            "colorbar": {
             "outlinewidth": 0,
             "ticks": ""
            },
            "colorscale": [
             [
              0,
              "#0d0887"
             ],
             [
              0.1111111111111111,
              "#46039f"
             ],
             [
              0.2222222222222222,
              "#7201a8"
             ],
             [
              0.3333333333333333,
              "#9c179e"
             ],
             [
              0.4444444444444444,
              "#bd3786"
             ],
             [
              0.5555555555555556,
              "#d8576b"
             ],
             [
              0.6666666666666666,
              "#ed7953"
             ],
             [
              0.7777777777777778,
              "#fb9f3a"
             ],
             [
              0.8888888888888888,
              "#fdca26"
             ],
             [
              1,
              "#f0f921"
             ]
            ],
            "type": "heatmap"
           }
          ],
          "heatmapgl": [
           {
            "colorbar": {
             "outlinewidth": 0,
             "ticks": ""
            },
            "colorscale": [
             [
              0,
              "#0d0887"
             ],
             [
              0.1111111111111111,
              "#46039f"
             ],
             [
              0.2222222222222222,
              "#7201a8"
             ],
             [
              0.3333333333333333,
              "#9c179e"
             ],
             [
              0.4444444444444444,
              "#bd3786"
             ],
             [
              0.5555555555555556,
              "#d8576b"
             ],
             [
              0.6666666666666666,
              "#ed7953"
             ],
             [
              0.7777777777777778,
              "#fb9f3a"
             ],
             [
              0.8888888888888888,
              "#fdca26"
             ],
             [
              1,
              "#f0f921"
             ]
            ],
            "type": "heatmapgl"
           }
          ],
          "histogram": [
           {
            "marker": {
             "pattern": {
              "fillmode": "overlay",
              "size": 10,
              "solidity": 0.2
             }
            },
            "type": "histogram"
           }
          ],
          "histogram2d": [
           {
            "colorbar": {
             "outlinewidth": 0,
             "ticks": ""
            },
            "colorscale": [
             [
              0,
              "#0d0887"
             ],
             [
              0.1111111111111111,
              "#46039f"
             ],
             [
              0.2222222222222222,
              "#7201a8"
             ],
             [
              0.3333333333333333,
              "#9c179e"
             ],
             [
              0.4444444444444444,
              "#bd3786"
             ],
             [
              0.5555555555555556,
              "#d8576b"
             ],
             [
              0.6666666666666666,
              "#ed7953"
             ],
             [
              0.7777777777777778,
              "#fb9f3a"
             ],
             [
              0.8888888888888888,
              "#fdca26"
             ],
             [
              1,
              "#f0f921"
             ]
            ],
            "type": "histogram2d"
           }
          ],
          "histogram2dcontour": [
           {
            "colorbar": {
             "outlinewidth": 0,
             "ticks": ""
            },
            "colorscale": [
             [
              0,
              "#0d0887"
             ],
             [
              0.1111111111111111,
              "#46039f"
             ],
             [
              0.2222222222222222,
              "#7201a8"
             ],
             [
              0.3333333333333333,
              "#9c179e"
             ],
             [
              0.4444444444444444,
              "#bd3786"
             ],
             [
              0.5555555555555556,
              "#d8576b"
             ],
             [
              0.6666666666666666,
              "#ed7953"
             ],
             [
              0.7777777777777778,
              "#fb9f3a"
             ],
             [
              0.8888888888888888,
              "#fdca26"
             ],
             [
              1,
              "#f0f921"
             ]
            ],
            "type": "histogram2dcontour"
           }
          ],
          "mesh3d": [
           {
            "colorbar": {
             "outlinewidth": 0,
             "ticks": ""
            },
            "type": "mesh3d"
           }
          ],
          "parcoords": [
           {
            "line": {
             "colorbar": {
              "outlinewidth": 0,
              "ticks": ""
             }
            },
            "type": "parcoords"
           }
          ],
          "pie": [
           {
            "automargin": true,
            "type": "pie"
           }
          ],
          "scatter": [
           {
            "fillpattern": {
             "fillmode": "overlay",
             "size": 10,
             "solidity": 0.2
            },
            "type": "scatter"
           }
          ],
          "scatter3d": [
           {
            "line": {
             "colorbar": {
              "outlinewidth": 0,
              "ticks": ""
             }
            },
            "marker": {
             "colorbar": {
              "outlinewidth": 0,
              "ticks": ""
             }
            },
            "type": "scatter3d"
           }
          ],
          "scattercarpet": [
           {
            "marker": {
             "colorbar": {
              "outlinewidth": 0,
              "ticks": ""
             }
            },
            "type": "scattercarpet"
           }
          ],
          "scattergeo": [
           {
            "marker": {
             "colorbar": {
              "outlinewidth": 0,
              "ticks": ""
             }
            },
            "type": "scattergeo"
           }
          ],
          "scattergl": [
           {
            "marker": {
             "colorbar": {
              "outlinewidth": 0,
              "ticks": ""
             }
            },
            "type": "scattergl"
           }
          ],
          "scattermapbox": [
           {
            "marker": {
             "colorbar": {
              "outlinewidth": 0,
              "ticks": ""
             }
            },
            "type": "scattermapbox"
           }
          ],
          "scatterpolar": [
           {
            "marker": {
             "colorbar": {
              "outlinewidth": 0,
              "ticks": ""
             }
            },
            "type": "scatterpolar"
           }
          ],
          "scatterpolargl": [
           {
            "marker": {
             "colorbar": {
              "outlinewidth": 0,
              "ticks": ""
             }
            },
            "type": "scatterpolargl"
           }
          ],
          "scatterternary": [
           {
            "marker": {
             "colorbar": {
              "outlinewidth": 0,
              "ticks": ""
             }
            },
            "type": "scatterternary"
           }
          ],
          "surface": [
           {
            "colorbar": {
             "outlinewidth": 0,
             "ticks": ""
            },
            "colorscale": [
             [
              0,
              "#0d0887"
             ],
             [
              0.1111111111111111,
              "#46039f"
             ],
             [
              0.2222222222222222,
              "#7201a8"
             ],
             [
              0.3333333333333333,
              "#9c179e"
             ],
             [
              0.4444444444444444,
              "#bd3786"
             ],
             [
              0.5555555555555556,
              "#d8576b"
             ],
             [
              0.6666666666666666,
              "#ed7953"
             ],
             [
              0.7777777777777778,
              "#fb9f3a"
             ],
             [
              0.8888888888888888,
              "#fdca26"
             ],
             [
              1,
              "#f0f921"
             ]
            ],
            "type": "surface"
           }
          ],
          "table": [
           {
            "cells": {
             "fill": {
              "color": "#EBF0F8"
             },
             "line": {
              "color": "white"
             }
            },
            "header": {
             "fill": {
              "color": "#C8D4E3"
             },
             "line": {
              "color": "white"
             }
            },
            "type": "table"
           }
          ]
         },
         "layout": {
          "annotationdefaults": {
           "arrowcolor": "#2a3f5f",
           "arrowhead": 0,
           "arrowwidth": 1
          },
          "autotypenumbers": "strict",
          "coloraxis": {
           "colorbar": {
            "outlinewidth": 0,
            "ticks": ""
           }
          },
          "colorscale": {
           "diverging": [
            [
             0,
             "#8e0152"
            ],
            [
             0.1,
             "#c51b7d"
            ],
            [
             0.2,
             "#de77ae"
            ],
            [
             0.3,
             "#f1b6da"
            ],
            [
             0.4,
             "#fde0ef"
            ],
            [
             0.5,
             "#f7f7f7"
            ],
            [
             0.6,
             "#e6f5d0"
            ],
            [
             0.7,
             "#b8e186"
            ],
            [
             0.8,
             "#7fbc41"
            ],
            [
             0.9,
             "#4d9221"
            ],
            [
             1,
             "#276419"
            ]
           ],
           "sequential": [
            [
             0,
             "#0d0887"
            ],
            [
             0.1111111111111111,
             "#46039f"
            ],
            [
             0.2222222222222222,
             "#7201a8"
            ],
            [
             0.3333333333333333,
             "#9c179e"
            ],
            [
             0.4444444444444444,
             "#bd3786"
            ],
            [
             0.5555555555555556,
             "#d8576b"
            ],
            [
             0.6666666666666666,
             "#ed7953"
            ],
            [
             0.7777777777777778,
             "#fb9f3a"
            ],
            [
             0.8888888888888888,
             "#fdca26"
            ],
            [
             1,
             "#f0f921"
            ]
           ],
           "sequentialminus": [
            [
             0,
             "#0d0887"
            ],
            [
             0.1111111111111111,
             "#46039f"
            ],
            [
             0.2222222222222222,
             "#7201a8"
            ],
            [
             0.3333333333333333,
             "#9c179e"
            ],
            [
             0.4444444444444444,
             "#bd3786"
            ],
            [
             0.5555555555555556,
             "#d8576b"
            ],
            [
             0.6666666666666666,
             "#ed7953"
            ],
            [
             0.7777777777777778,
             "#fb9f3a"
            ],
            [
             0.8888888888888888,
             "#fdca26"
            ],
            [
             1,
             "#f0f921"
            ]
           ]
          },
          "colorway": [
           "#636efa",
           "#EF553B",
           "#00cc96",
           "#ab63fa",
           "#FFA15A",
           "#19d3f3",
           "#FF6692",
           "#B6E880",
           "#FF97FF",
           "#FECB52"
          ],
          "font": {
           "color": "#2a3f5f"
          },
          "geo": {
           "bgcolor": "white",
           "lakecolor": "white",
           "landcolor": "#E5ECF6",
           "showlakes": true,
           "showland": true,
           "subunitcolor": "white"
          },
          "hoverlabel": {
           "align": "left"
          },
          "hovermode": "closest",
          "mapbox": {
           "style": "light"
          },
          "paper_bgcolor": "white",
          "plot_bgcolor": "#E5ECF6",
          "polar": {
           "angularaxis": {
            "gridcolor": "white",
            "linecolor": "white",
            "ticks": ""
           },
           "bgcolor": "#E5ECF6",
           "radialaxis": {
            "gridcolor": "white",
            "linecolor": "white",
            "ticks": ""
           }
          },
          "scene": {
           "xaxis": {
            "backgroundcolor": "#E5ECF6",
            "gridcolor": "white",
            "gridwidth": 2,
            "linecolor": "white",
            "showbackground": true,
            "ticks": "",
            "zerolinecolor": "white"
           },
           "yaxis": {
            "backgroundcolor": "#E5ECF6",
            "gridcolor": "white",
            "gridwidth": 2,
            "linecolor": "white",
            "showbackground": true,
            "ticks": "",
            "zerolinecolor": "white"
           },
           "zaxis": {
            "backgroundcolor": "#E5ECF6",
            "gridcolor": "white",
            "gridwidth": 2,
            "linecolor": "white",
            "showbackground": true,
            "ticks": "",
            "zerolinecolor": "white"
           }
          },
          "shapedefaults": {
           "line": {
            "color": "#2a3f5f"
           }
          },
          "ternary": {
           "aaxis": {
            "gridcolor": "white",
            "linecolor": "white",
            "ticks": ""
           },
           "baxis": {
            "gridcolor": "white",
            "linecolor": "white",
            "ticks": ""
           },
           "bgcolor": "#E5ECF6",
           "caxis": {
            "gridcolor": "white",
            "linecolor": "white",
            "ticks": ""
           }
          },
          "title": {
           "x": 0.05
          },
          "xaxis": {
           "automargin": true,
           "gridcolor": "white",
           "linecolor": "white",
           "ticks": "",
           "title": {
            "standoff": 15
           },
           "zerolinecolor": "white",
           "zerolinewidth": 2
          },
          "yaxis": {
           "automargin": true,
           "gridcolor": "white",
           "linecolor": "white",
           "ticks": "",
           "title": {
            "standoff": 15
           },
           "zerolinecolor": "white",
           "zerolinewidth": 2
          }
         }
        },
        "xaxis": {
         "anchor": "y",
         "domain": [
          0,
          1
         ],
         "title": {
          "text": "Previous Geekions"
         }
        },
        "yaxis": {
         "anchor": "x",
         "domain": [
          0,
          1
         ],
         "title": {
          "text": "Department"
         }
        }
       }
      },
      "text/html": [
       "<div>                            <div id=\"03ffbb23-63be-4013-882f-a0c780213e83\" class=\"plotly-graph-div\" style=\"height:525px; width:100%;\"></div>            <script type=\"text/javascript\">                require([\"plotly\"], function(Plotly) {                    window.PLOTLYENV=window.PLOTLYENV || {};                                    if (document.getElementById(\"03ffbb23-63be-4013-882f-a0c780213e83\")) {                    Plotly.newPlot(                        \"03ffbb23-63be-4013-882f-a0c780213e83\",                        [{\"alignmentgroup\":\"True\",\"hovertemplate\":\"Previous Geekions=%{x}<br>Department=%{y}<extra></extra>\",\"legendgroup\":\"\",\"marker\":{\"color\":\"#636efa\",\"pattern\":{\"shape\":\"\"}},\"name\":\"\",\"offsetgroup\":\"\",\"orientation\":\"h\",\"showlegend\":false,\"textposition\":\"auto\",\"x\":[24500,21740,19680,10610,8980,8200,7750,7020,5860,5500,5400,5380,5280,5120,4800,4600,4510,4370,4320,4090,3915,3665,3460,3280,3200,3200,3110,3000,2570,2410,2360,2260,2240,2160,1910,1910,1900,1880,1880,1740,1680,1580,1580,1440,1350,1320,1240,1130,1100,1020,980,950,850,800,770,760,720,690,580,490,410,380,300,270,260,200,180,170,160,120,120,120,120,100,100,60,40,40,40,0,0,0,0,0,19400,14150,8790,10040,9150,7210,7250,8650,5180,6170,7470,7670,7340,6400,7170,6280,7310,6710,4800,5300,5290,6060,3910,5200,5050,4050,3860,4170,4020,3220,2380,1890,1720,0,0],\"xaxis\":\"x\",\"y\":[\"Computer Science and Engineering\",\"Computer Science and Engineering\",\"Computer Science and Engineering\",\"Computer Science and Engineering\",\"Computer Science and Engineering\",\"Computer Science and Engineering\",\"Electronics and Communication Engineering\",\"Computer Science and Engineering\",\"Electronics and Communication Engineering\",\"Computer Science and Engineering\",\"Electronics and Communication Engineering\",\"Computer Science and Engineering\",\"Computer Science and Engineering\",\"Computer Science and Engineering\",\"Electronics and Communication Engineering\",\"Computer Science and Engineering\",\"Computer Science and Engineering\",\"Electronics and Communication Engineering\",\"Electronics and Communication Engineering\",\"Computer Science and Engineering\",\"Computer Science and Engineering\",\"Electronics and Communication Engineering\",\"Computer Science and Engineering\",\"Computer Science and Engineering\",\"Computer Science and Engineering\",\"Electronics and Communication Engineering\",\"Computer Science and Engineering\",\"Electronics and Communication Engineering\",\"Computer Science and Engineering\",\"Computer Science and Engineering\",\"Computer Science and Engineering\",\"Computer Science and Engineering\",\"Electronics and Communication Engineering\",\"Computer Science and Engineering\",\"Computer Science and Engineering\",\"Electronics and Communication Engineering\",\"Computer Science and Engineering\",\"Computer Science and Engineering\",\"Computer Science and Engineering\",\"Electronics and Communication Engineering\",\"Computer Science and Engineering\",\"Computer Science and Engineering\",\"Electronics and Communication Engineering\",\"Electronics and Communication Engineering\",\"Computer Science and Engineering\",\"Computer Science and Engineering\",\"Electronics and Communication Engineering\",\"Electronics and Communication Engineering\",\"Computer Science and Engineering\",\"Electronics and Communication Engineering\",\"Electronics and Communication Engineering\",\"Electronics and Communication Engineering\",\"Electronics and Communication Engineering\",\"Electronics and Communication Engineering\",\"Electronics and Communication Engineering\",\"Electronics and Communication Engineering\",\"Computer Science and Engineering\",\"Electronics and Communication Engineering\",\"Electronics and Communication Engineering\",\"Computer Science and Engineering\",\"Electronics and Communication Engineering\",\"Computer Science and Engineering\",\"Computer Science and Engineering\",\"Electronics and Communication Engineering\",\"Electronics and Electrical Engineering\",\"Computer Science and Engineering\",\"Computer Science and Engineering\",\"Electronics and Communication Engineering\",\"Electronics and Communication Engineering\",\"Computer Science and Engineering\",\"Electronics and Communication Engineering\",\"Electronics and Electrical Engineering\",\"Electronics and Electrical Engineering\",\"Electronics and Communication Engineering\",\"Electronics and Electrical Engineering\",\"Electronics and Electrical Engineering\",\"Computer Science and Engineering\",\"Electronics and Electrical Engineering\",\"Electronics and Electrical Engineering\",\"Electronics and Electrical Engineering\",\"Electronics and Electrical Engineering\",\"Electronics and Electrical Engineering\",\"Electronics and Electrical Engineering\",\"Electronics and Electrical Engineering\",\"Electronics and Electrical Engineering\",\"Computer Science and Engineering\",\"Computer Science and Engineering\",\"Electronics and Communication Engineering\",\"Electronics and Electrical Engineering\",\"Computer Science and Engineering\",\"Computer Science and Engineering\",\"Electronics and Communication Engineering\",\"Electronics and Electrical Engineering\",\"Electronics and Electrical Engineering\",\"Computer Science and Engineering\",\"Computer Science and Engineering\",\"Electronics and Electrical Engineering\",\"Computer Science and Engineering\",\"Electronics and Communication Engineering\",\"Computer Science and Engineering\",\"Electronics and Communication Engineering\",\"Computer Science and Engineering\",\"Computer Science and Engineering\",\"Computer Science and Engineering\",\"Computer Science and Engineering\",\"Computer Science and Engineering\",\"Computer Science and Engineering\",\"Computer Science and Engineering\",\"Electronics and Communication Engineering\",\"Computer Science and Engineering\",\"Computer Science and Engineering\",\"Computer Science and Engineering\",\"Computer Science and Engineering\",\"Electronics and Communication Engineering\",\"Computer Science and Engineering\",\"Electronics and Communication Engineering\",\"Electronics and Communication Engineering\",\"Computer Science and Engineering\",\"Computer Science and Engineering\"],\"yaxis\":\"y\",\"type\":\"bar\"}],                        {\"template\":{\"data\":{\"histogram2dcontour\":[{\"type\":\"histogram2dcontour\",\"colorbar\":{\"outlinewidth\":0,\"ticks\":\"\"},\"colorscale\":[[0.0,\"#0d0887\"],[0.1111111111111111,\"#46039f\"],[0.2222222222222222,\"#7201a8\"],[0.3333333333333333,\"#9c179e\"],[0.4444444444444444,\"#bd3786\"],[0.5555555555555556,\"#d8576b\"],[0.6666666666666666,\"#ed7953\"],[0.7777777777777778,\"#fb9f3a\"],[0.8888888888888888,\"#fdca26\"],[1.0,\"#f0f921\"]]}],\"choropleth\":[{\"type\":\"choropleth\",\"colorbar\":{\"outlinewidth\":0,\"ticks\":\"\"}}],\"histogram2d\":[{\"type\":\"histogram2d\",\"colorbar\":{\"outlinewidth\":0,\"ticks\":\"\"},\"colorscale\":[[0.0,\"#0d0887\"],[0.1111111111111111,\"#46039f\"],[0.2222222222222222,\"#7201a8\"],[0.3333333333333333,\"#9c179e\"],[0.4444444444444444,\"#bd3786\"],[0.5555555555555556,\"#d8576b\"],[0.6666666666666666,\"#ed7953\"],[0.7777777777777778,\"#fb9f3a\"],[0.8888888888888888,\"#fdca26\"],[1.0,\"#f0f921\"]]}],\"heatmap\":[{\"type\":\"heatmap\",\"colorbar\":{\"outlinewidth\":0,\"ticks\":\"\"},\"colorscale\":[[0.0,\"#0d0887\"],[0.1111111111111111,\"#46039f\"],[0.2222222222222222,\"#7201a8\"],[0.3333333333333333,\"#9c179e\"],[0.4444444444444444,\"#bd3786\"],[0.5555555555555556,\"#d8576b\"],[0.6666666666666666,\"#ed7953\"],[0.7777777777777778,\"#fb9f3a\"],[0.8888888888888888,\"#fdca26\"],[1.0,\"#f0f921\"]]}],\"heatmapgl\":[{\"type\":\"heatmapgl\",\"colorbar\":{\"outlinewidth\":0,\"ticks\":\"\"},\"colorscale\":[[0.0,\"#0d0887\"],[0.1111111111111111,\"#46039f\"],[0.2222222222222222,\"#7201a8\"],[0.3333333333333333,\"#9c179e\"],[0.4444444444444444,\"#bd3786\"],[0.5555555555555556,\"#d8576b\"],[0.6666666666666666,\"#ed7953\"],[0.7777777777777778,\"#fb9f3a\"],[0.8888888888888888,\"#fdca26\"],[1.0,\"#f0f921\"]]}],\"contourcarpet\":[{\"type\":\"contourcarpet\",\"colorbar\":{\"outlinewidth\":0,\"ticks\":\"\"}}],\"contour\":[{\"type\":\"contour\",\"colorbar\":{\"outlinewidth\":0,\"ticks\":\"\"},\"colorscale\":[[0.0,\"#0d0887\"],[0.1111111111111111,\"#46039f\"],[0.2222222222222222,\"#7201a8\"],[0.3333333333333333,\"#9c179e\"],[0.4444444444444444,\"#bd3786\"],[0.5555555555555556,\"#d8576b\"],[0.6666666666666666,\"#ed7953\"],[0.7777777777777778,\"#fb9f3a\"],[0.8888888888888888,\"#fdca26\"],[1.0,\"#f0f921\"]]}],\"surface\":[{\"type\":\"surface\",\"colorbar\":{\"outlinewidth\":0,\"ticks\":\"\"},\"colorscale\":[[0.0,\"#0d0887\"],[0.1111111111111111,\"#46039f\"],[0.2222222222222222,\"#7201a8\"],[0.3333333333333333,\"#9c179e\"],[0.4444444444444444,\"#bd3786\"],[0.5555555555555556,\"#d8576b\"],[0.6666666666666666,\"#ed7953\"],[0.7777777777777778,\"#fb9f3a\"],[0.8888888888888888,\"#fdca26\"],[1.0,\"#f0f921\"]]}],\"mesh3d\":[{\"type\":\"mesh3d\",\"colorbar\":{\"outlinewidth\":0,\"ticks\":\"\"}}],\"scatter\":[{\"fillpattern\":{\"fillmode\":\"overlay\",\"size\":10,\"solidity\":0.2},\"type\":\"scatter\"}],\"parcoords\":[{\"type\":\"parcoords\",\"line\":{\"colorbar\":{\"outlinewidth\":0,\"ticks\":\"\"}}}],\"scatterpolargl\":[{\"type\":\"scatterpolargl\",\"marker\":{\"colorbar\":{\"outlinewidth\":0,\"ticks\":\"\"}}}],\"bar\":[{\"error_x\":{\"color\":\"#2a3f5f\"},\"error_y\":{\"color\":\"#2a3f5f\"},\"marker\":{\"line\":{\"color\":\"#E5ECF6\",\"width\":0.5},\"pattern\":{\"fillmode\":\"overlay\",\"size\":10,\"solidity\":0.2}},\"type\":\"bar\"}],\"scattergeo\":[{\"type\":\"scattergeo\",\"marker\":{\"colorbar\":{\"outlinewidth\":0,\"ticks\":\"\"}}}],\"scatterpolar\":[{\"type\":\"scatterpolar\",\"marker\":{\"colorbar\":{\"outlinewidth\":0,\"ticks\":\"\"}}}],\"histogram\":[{\"marker\":{\"pattern\":{\"fillmode\":\"overlay\",\"size\":10,\"solidity\":0.2}},\"type\":\"histogram\"}],\"scattergl\":[{\"type\":\"scattergl\",\"marker\":{\"colorbar\":{\"outlinewidth\":0,\"ticks\":\"\"}}}],\"scatter3d\":[{\"type\":\"scatter3d\",\"line\":{\"colorbar\":{\"outlinewidth\":0,\"ticks\":\"\"}},\"marker\":{\"colorbar\":{\"outlinewidth\":0,\"ticks\":\"\"}}}],\"scattermapbox\":[{\"type\":\"scattermapbox\",\"marker\":{\"colorbar\":{\"outlinewidth\":0,\"ticks\":\"\"}}}],\"scatterternary\":[{\"type\":\"scatterternary\",\"marker\":{\"colorbar\":{\"outlinewidth\":0,\"ticks\":\"\"}}}],\"scattercarpet\":[{\"type\":\"scattercarpet\",\"marker\":{\"colorbar\":{\"outlinewidth\":0,\"ticks\":\"\"}}}],\"carpet\":[{\"aaxis\":{\"endlinecolor\":\"#2a3f5f\",\"gridcolor\":\"white\",\"linecolor\":\"white\",\"minorgridcolor\":\"white\",\"startlinecolor\":\"#2a3f5f\"},\"baxis\":{\"endlinecolor\":\"#2a3f5f\",\"gridcolor\":\"white\",\"linecolor\":\"white\",\"minorgridcolor\":\"white\",\"startlinecolor\":\"#2a3f5f\"},\"type\":\"carpet\"}],\"table\":[{\"cells\":{\"fill\":{\"color\":\"#EBF0F8\"},\"line\":{\"color\":\"white\"}},\"header\":{\"fill\":{\"color\":\"#C8D4E3\"},\"line\":{\"color\":\"white\"}},\"type\":\"table\"}],\"barpolar\":[{\"marker\":{\"line\":{\"color\":\"#E5ECF6\",\"width\":0.5},\"pattern\":{\"fillmode\":\"overlay\",\"size\":10,\"solidity\":0.2}},\"type\":\"barpolar\"}],\"pie\":[{\"automargin\":true,\"type\":\"pie\"}]},\"layout\":{\"autotypenumbers\":\"strict\",\"colorway\":[\"#636efa\",\"#EF553B\",\"#00cc96\",\"#ab63fa\",\"#FFA15A\",\"#19d3f3\",\"#FF6692\",\"#B6E880\",\"#FF97FF\",\"#FECB52\"],\"font\":{\"color\":\"#2a3f5f\"},\"hovermode\":\"closest\",\"hoverlabel\":{\"align\":\"left\"},\"paper_bgcolor\":\"white\",\"plot_bgcolor\":\"#E5ECF6\",\"polar\":{\"bgcolor\":\"#E5ECF6\",\"angularaxis\":{\"gridcolor\":\"white\",\"linecolor\":\"white\",\"ticks\":\"\"},\"radialaxis\":{\"gridcolor\":\"white\",\"linecolor\":\"white\",\"ticks\":\"\"}},\"ternary\":{\"bgcolor\":\"#E5ECF6\",\"aaxis\":{\"gridcolor\":\"white\",\"linecolor\":\"white\",\"ticks\":\"\"},\"baxis\":{\"gridcolor\":\"white\",\"linecolor\":\"white\",\"ticks\":\"\"},\"caxis\":{\"gridcolor\":\"white\",\"linecolor\":\"white\",\"ticks\":\"\"}},\"coloraxis\":{\"colorbar\":{\"outlinewidth\":0,\"ticks\":\"\"}},\"colorscale\":{\"sequential\":[[0.0,\"#0d0887\"],[0.1111111111111111,\"#46039f\"],[0.2222222222222222,\"#7201a8\"],[0.3333333333333333,\"#9c179e\"],[0.4444444444444444,\"#bd3786\"],[0.5555555555555556,\"#d8576b\"],[0.6666666666666666,\"#ed7953\"],[0.7777777777777778,\"#fb9f3a\"],[0.8888888888888888,\"#fdca26\"],[1.0,\"#f0f921\"]],\"sequentialminus\":[[0.0,\"#0d0887\"],[0.1111111111111111,\"#46039f\"],[0.2222222222222222,\"#7201a8\"],[0.3333333333333333,\"#9c179e\"],[0.4444444444444444,\"#bd3786\"],[0.5555555555555556,\"#d8576b\"],[0.6666666666666666,\"#ed7953\"],[0.7777777777777778,\"#fb9f3a\"],[0.8888888888888888,\"#fdca26\"],[1.0,\"#f0f921\"]],\"diverging\":[[0,\"#8e0152\"],[0.1,\"#c51b7d\"],[0.2,\"#de77ae\"],[0.3,\"#f1b6da\"],[0.4,\"#fde0ef\"],[0.5,\"#f7f7f7\"],[0.6,\"#e6f5d0\"],[0.7,\"#b8e186\"],[0.8,\"#7fbc41\"],[0.9,\"#4d9221\"],[1,\"#276419\"]]},\"xaxis\":{\"gridcolor\":\"white\",\"linecolor\":\"white\",\"ticks\":\"\",\"title\":{\"standoff\":15},\"zerolinecolor\":\"white\",\"automargin\":true,\"zerolinewidth\":2},\"yaxis\":{\"gridcolor\":\"white\",\"linecolor\":\"white\",\"ticks\":\"\",\"title\":{\"standoff\":15},\"zerolinecolor\":\"white\",\"automargin\":true,\"zerolinewidth\":2},\"scene\":{\"xaxis\":{\"backgroundcolor\":\"#E5ECF6\",\"gridcolor\":\"white\",\"linecolor\":\"white\",\"showbackground\":true,\"ticks\":\"\",\"zerolinecolor\":\"white\",\"gridwidth\":2},\"yaxis\":{\"backgroundcolor\":\"#E5ECF6\",\"gridcolor\":\"white\",\"linecolor\":\"white\",\"showbackground\":true,\"ticks\":\"\",\"zerolinecolor\":\"white\",\"gridwidth\":2},\"zaxis\":{\"backgroundcolor\":\"#E5ECF6\",\"gridcolor\":\"white\",\"linecolor\":\"white\",\"showbackground\":true,\"ticks\":\"\",\"zerolinecolor\":\"white\",\"gridwidth\":2}},\"shapedefaults\":{\"line\":{\"color\":\"#2a3f5f\"}},\"annotationdefaults\":{\"arrowcolor\":\"#2a3f5f\",\"arrowhead\":0,\"arrowwidth\":1},\"geo\":{\"bgcolor\":\"white\",\"landcolor\":\"#E5ECF6\",\"subunitcolor\":\"white\",\"showland\":true,\"showlakes\":true,\"lakecolor\":\"white\"},\"title\":{\"x\":0.05},\"mapbox\":{\"style\":\"light\"}}},\"xaxis\":{\"anchor\":\"y\",\"domain\":[0.0,1.0],\"title\":{\"text\":\"Previous Geekions\"}},\"yaxis\":{\"anchor\":\"x\",\"domain\":[0.0,1.0],\"title\":{\"text\":\"Department\"}},\"legend\":{\"tracegroupgap\":0},\"margin\":{\"t\":60},\"barmode\":\"relative\"},                        {\"responsive\": true}                    ).then(function(){\n",
       "                            \n",
       "var gd = document.getElementById('03ffbb23-63be-4013-882f-a0c780213e83');\n",
       "var x = new MutationObserver(function (mutations, observer) {{\n",
       "        var display = window.getComputedStyle(gd).display;\n",
       "        if (!display || display === 'none') {{\n",
       "            console.log([gd, 'removed!']);\n",
       "            Plotly.purge(gd);\n",
       "            observer.disconnect();\n",
       "        }}\n",
       "}});\n",
       "\n",
       "// Listen for the removal of the full notebook cells\n",
       "var notebookContainer = gd.closest('#notebook-container');\n",
       "if (notebookContainer) {{\n",
       "    x.observe(notebookContainer, {childList: true});\n",
       "}}\n",
       "\n",
       "// Listen for the clearing of the current output cell\n",
       "var outputEl = gd.closest('.output');\n",
       "if (outputEl) {{\n",
       "    x.observe(outputEl, {childList: true});\n",
       "}}\n",
       "\n",
       "                        })                };                });            </script>        </div>"
      ]
     },
     "metadata": {},
     "output_type": "display_data"
    }
   ],
   "source": [
    "fig = px.bar(df, x=\"Previous Geekions\", y=\"Department\", orientation='h')\n",
    "fig.show()"
   ]
  },
  {
   "cell_type": "code",
   "execution_count": null,
   "metadata": {},
   "outputs": [],
   "source": []
  },
  {
   "cell_type": "code",
   "execution_count": null,
   "metadata": {},
   "outputs": [],
   "source": []
  }
 ],
 "metadata": {
  "kernelspec": {
   "display_name": "Python 3 (ipykernel)",
   "language": "python",
   "name": "python3"
  },
  "language_info": {
   "codemirror_mode": {
    "name": "ipython",
    "version": 3
   },
   "file_extension": ".py",
   "mimetype": "text/x-python",
   "name": "python",
   "nbconvert_exporter": "python",
   "pygments_lexer": "ipython3",
   "version": "3.9.7"
  }
 },
 "nbformat": 4,
 "nbformat_minor": 2
}
